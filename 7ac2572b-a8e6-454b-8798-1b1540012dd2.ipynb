{
 "cells": [
  {
   "cell_type": "markdown",
   "metadata": {},
   "source": [
    "# Проект: Обучение с учителем: качество модели"
   ]
  },
  {
   "cell_type": "markdown",
   "metadata": {},
   "source": [
    "## Цель проекта: \n",
    "- Разработать решение, которое позволит персонализировать предложения постоянным клиентам, чтобы увеличить их покупательскую активность."
   ]
  },
  {
   "cell_type": "markdown",
   "metadata": {},
   "source": [
    "## План проекта\n",
    "- Разработать модель, которая предскажет вероятность снижения покупательской активности.\n",
    "- Выделить сегмент покупателей, проанализировать его и предложить, как увеличить его покупательскую активность.  \n",
    "---\n",
    " - Шаг 1. Загрузка данных\n",
    " - Шаг 2. Предобработка данных\n",
    " - Шаг 3. Исследовательский анализ данных\n",
    " - Шаг 4. Объединение таблиц\n",
    " - Шаг 5. Корреляционный анализ\n",
    " - Шаг 6. Использование пайплайнов\n",
    " - Шаг 7. Анализ важности признаков\n",
    " - Шаг 8. Сегментация покупателей\n",
    " - Шаг 9. Общий вывод"
   ]
  },
  {
   "cell_type": "markdown",
   "metadata": {},
   "source": [
    "## Описание данных\n",
    "\n",
    "- **market_file.csv** (Таблица, которая содержит данные о поведении покупателя на сайте, о коммуникациях с покупателем и его продуктовом поведении.)\n",
    "    - id — номер покупателя в корпоративной базе данных.\n",
    "    - Покупательская активность — рассчитанный класс покупательской активности (целевой признак): «снизилась» или «прежний уровень».\n",
    "    - Тип сервиса — уровень сервиса, например «премиум» и «стандарт». Зависит от наличия определенной подписки у пользователя.\n",
    "    - Разрешить сообщать — информация о том, можно ли присылать покупателю дополнительные предложения о товаре. Согласие на это даёт покупатель.\n",
    "    - Маркет_актив_6_мес — среднемесячное значение маркетинговых коммуникаций компании, которое приходилось на покупателя за последние 6 месяцев. Это значение показывает, какое число рассылок, звонков, показов рекламы и прочего приходилось на клиента.\n",
    "    - Маркет_актив_тек_мес — количество маркетинговых коммуникаций в текущем месяце.\n",
    "    - Длительность — значение, которое показывает, сколько дней прошло с момента регистрации покупателя на сайте.\n",
    "    - Акционные_покупки — среднемесячная доля покупок по акции от общего числа покупок за последние 6 месяцев.\n",
    "    - Популярная_категория — самая популярная категория товаров у покупателя за последние 6 месяцев.\n",
    "    - Средний_просмотр_категорий_за_визит — показывает, сколько в среднем категорий покупатель просмотрел за визит в течение последнего месяца.\n",
    "    - Неоплаченные_продукты_штук_квартал — общее число неоплаченных товаров в корзине за последние 3 месяца.\n",
    "    - Ошибка_сервиса — число сбоев, которые коснулись покупателя во время посещения сайта за последние 3 месяца.\n",
    "    - Страниц_за_визит — среднее количество страниц, которые просмотрел покупатель за один визит на сайт за последние 3 месяца.\n",
    "---\n",
    "- **market_money.csv** (Таблица с данными о выручке, которую получает магазин с покупателя, то есть сколько покупатель всего потратил за период взаимодействия с сайтом.)\n",
    "    - id — номер покупателя в корпоративной базе данных.\n",
    "    - Период — название периода, во время которого зафиксирована выручка. Например, 'текущий_месяц' или 'предыдущий_месяц'.\n",
    "    - Выручка — сумма выручки за период в условных единицах.\n",
    "---\n",
    "- **market_time.csv** (Таблица с данными о времени (в минутах), которое покупатель провёл на сайте в течение периода.)\n",
    "    - id — номер покупателя в корпоративной базе данных.\n",
    "    - Период — название периода, во время которого зафиксировано общее время.\n",
    "    - минут — значение времени, проведённого на сайте, в минутах.\n",
    "---\n",
    "- **money.csv** (Таблица с данными о среднемесячной прибыли продавца за последние 3 месяца: какую прибыль получает магазин от продаж каждому покупателю.)\n",
    "    - id — номер покупателя в корпоративной базе данных.\n",
    "    - Прибыль — значение прибыли в условных единицах."
   ]
  },
  {
   "cell_type": "markdown",
   "metadata": {},
   "source": [
    "### 1. Загрузка данных"
   ]
  },
  {
   "cell_type": "markdown",
   "metadata": {},
   "source": [
    "Загрузим необходимые библиотеки."
   ]
  },
  {
   "cell_type": "code",
   "execution_count": 1,
   "metadata": {},
   "outputs": [],
   "source": [
    "import pandas as pd\n",
    "import re\n",
    "import matplotlib.pyplot as plt\n",
    "import seaborn as sns\n",
    "import numpy as np\n",
    "import warnings\n",
    "from scipy import stats\n",
    "\n",
    "from matplotlib.ticker import MultipleLocator\n",
    "from statsmodels.stats.outliers_influence import variance_inflation_factor\n",
    "from sklearn.pipeline import Pipeline\n",
    "from sklearn.compose import ColumnTransformer\n",
    "from sklearn.preprocessing import OneHotEncoder, OrdinalEncoder, StandardScaler\n",
    "from sklearn.impute import SimpleImputer\n",
    "from sklearn.model_selection import train_test_split\n",
    "from sklearn.tree import DecisionTreeClassifier\n",
    "from scipy.stats import uniform, randint\n",
    "from sklearn.neighbors import KNeighborsClassifier\n",
    "from sklearn.linear_model import LogisticRegression\n",
    "from sklearn.svm import SVC\n",
    "from sklearn.model_selection import RandomizedSearchCV\n",
    "from sklearn.cluster import KMeans\n",
    "from sklearn.inspection import permutation_importance\n",
    "from sklearn.preprocessing import LabelEncoder\n",
    "from sklearn.ensemble import RandomForestClassifier\n",
    "from sklearn.preprocessing import RobustScaler\n",
    "from sklearn.metrics import roc_auc_score, accuracy_score, f1_score, classification_report\n",
    "from sklearn.dummy import DummyClassifier"
   ]
  },
  {
   "cell_type": "code",
   "execution_count": 2,
   "metadata": {},
   "outputs": [
    {
     "name": "stdout",
     "output_type": "stream",
     "text": [
      "Note: you may need to restart the kernel to use updated packages.\n"
     ]
    }
   ],
   "source": [
    "pip install shap -q"
   ]
  },
  {
   "cell_type": "code",
   "execution_count": 3,
   "metadata": {},
   "outputs": [],
   "source": [
    "!pip install phik -q\n",
    "import phik"
   ]
  },
  {
   "cell_type": "code",
   "execution_count": 4,
   "metadata": {},
   "outputs": [],
   "source": [
    "import shap"
   ]
  },
  {
   "cell_type": "code",
   "execution_count": 5,
   "metadata": {},
   "outputs": [],
   "source": [
    "warnings.filterwarnings(\"ignore\", category=FutureWarning, module=\"sklearn.impute._base\")"
   ]
  },
  {
   "cell_type": "markdown",
   "metadata": {},
   "source": [
    "Далее загружаем и смотрим все датафреймы."
   ]
  },
  {
   "cell_type": "code",
   "execution_count": 6,
   "metadata": {},
   "outputs": [],
   "source": [
    "market_file = pd.read_csv('/datasets/market_file.csv')\n",
    "market_money = pd.read_csv('/datasets/market_money.csv')\n",
    "market_time = pd.read_csv('/datasets/market_time.csv')\n",
    "money = pd.read_csv('/datasets/money.csv', sep =';')"
   ]
  },
  {
   "cell_type": "code",
   "execution_count": 7,
   "metadata": {
    "scrolled": true
   },
   "outputs": [
    {
     "data": {
      "text/html": [
       "<div>\n",
       "<style scoped>\n",
       "    .dataframe tbody tr th:only-of-type {\n",
       "        vertical-align: middle;\n",
       "    }\n",
       "\n",
       "    .dataframe tbody tr th {\n",
       "        vertical-align: top;\n",
       "    }\n",
       "\n",
       "    .dataframe thead th {\n",
       "        text-align: right;\n",
       "    }\n",
       "</style>\n",
       "<table border=\"1\" class=\"dataframe\">\n",
       "  <thead>\n",
       "    <tr style=\"text-align: right;\">\n",
       "      <th></th>\n",
       "      <th>id</th>\n",
       "      <th>Покупательская активность</th>\n",
       "      <th>Тип сервиса</th>\n",
       "      <th>Разрешить сообщать</th>\n",
       "      <th>Маркет_актив_6_мес</th>\n",
       "      <th>Маркет_актив_тек_мес</th>\n",
       "      <th>Длительность</th>\n",
       "      <th>Акционные_покупки</th>\n",
       "      <th>Популярная_категория</th>\n",
       "      <th>Средний_просмотр_категорий_за_визит</th>\n",
       "      <th>Неоплаченные_продукты_штук_квартал</th>\n",
       "      <th>Ошибка_сервиса</th>\n",
       "      <th>Страниц_за_визит</th>\n",
       "    </tr>\n",
       "  </thead>\n",
       "  <tbody>\n",
       "    <tr>\n",
       "      <th>0</th>\n",
       "      <td>215348</td>\n",
       "      <td>Снизилась</td>\n",
       "      <td>премиум</td>\n",
       "      <td>да</td>\n",
       "      <td>3.4</td>\n",
       "      <td>5</td>\n",
       "      <td>121</td>\n",
       "      <td>0.00</td>\n",
       "      <td>Товары для детей</td>\n",
       "      <td>6</td>\n",
       "      <td>2</td>\n",
       "      <td>1</td>\n",
       "      <td>5</td>\n",
       "    </tr>\n",
       "    <tr>\n",
       "      <th>1</th>\n",
       "      <td>215349</td>\n",
       "      <td>Снизилась</td>\n",
       "      <td>премиум</td>\n",
       "      <td>да</td>\n",
       "      <td>4.4</td>\n",
       "      <td>4</td>\n",
       "      <td>819</td>\n",
       "      <td>0.75</td>\n",
       "      <td>Товары для детей</td>\n",
       "      <td>4</td>\n",
       "      <td>4</td>\n",
       "      <td>2</td>\n",
       "      <td>5</td>\n",
       "    </tr>\n",
       "    <tr>\n",
       "      <th>2</th>\n",
       "      <td>215350</td>\n",
       "      <td>Снизилась</td>\n",
       "      <td>стандартт</td>\n",
       "      <td>нет</td>\n",
       "      <td>4.9</td>\n",
       "      <td>3</td>\n",
       "      <td>539</td>\n",
       "      <td>0.14</td>\n",
       "      <td>Домашний текстиль</td>\n",
       "      <td>5</td>\n",
       "      <td>2</td>\n",
       "      <td>1</td>\n",
       "      <td>5</td>\n",
       "    </tr>\n",
       "    <tr>\n",
       "      <th>3</th>\n",
       "      <td>215351</td>\n",
       "      <td>Снизилась</td>\n",
       "      <td>стандартт</td>\n",
       "      <td>да</td>\n",
       "      <td>3.2</td>\n",
       "      <td>5</td>\n",
       "      <td>896</td>\n",
       "      <td>0.99</td>\n",
       "      <td>Товары для детей</td>\n",
       "      <td>5</td>\n",
       "      <td>0</td>\n",
       "      <td>6</td>\n",
       "      <td>4</td>\n",
       "    </tr>\n",
       "    <tr>\n",
       "      <th>4</th>\n",
       "      <td>215352</td>\n",
       "      <td>Снизилась</td>\n",
       "      <td>стандартт</td>\n",
       "      <td>нет</td>\n",
       "      <td>5.1</td>\n",
       "      <td>3</td>\n",
       "      <td>1064</td>\n",
       "      <td>0.94</td>\n",
       "      <td>Товары для детей</td>\n",
       "      <td>3</td>\n",
       "      <td>2</td>\n",
       "      <td>3</td>\n",
       "      <td>2</td>\n",
       "    </tr>\n",
       "  </tbody>\n",
       "</table>\n",
       "</div>"
      ],
      "text/plain": [
       "       id Покупательская активность Тип сервиса Разрешить сообщать  \\\n",
       "0  215348                 Снизилась     премиум                 да   \n",
       "1  215349                 Снизилась     премиум                 да   \n",
       "2  215350                 Снизилась   стандартт                нет   \n",
       "3  215351                 Снизилась   стандартт                 да   \n",
       "4  215352                 Снизилась   стандартт                нет   \n",
       "\n",
       "   Маркет_актив_6_мес  Маркет_актив_тек_мес  Длительность  Акционные_покупки  \\\n",
       "0                 3.4                     5           121               0.00   \n",
       "1                 4.4                     4           819               0.75   \n",
       "2                 4.9                     3           539               0.14   \n",
       "3                 3.2                     5           896               0.99   \n",
       "4                 5.1                     3          1064               0.94   \n",
       "\n",
       "  Популярная_категория  Средний_просмотр_категорий_за_визит  \\\n",
       "0     Товары для детей                                    6   \n",
       "1     Товары для детей                                    4   \n",
       "2    Домашний текстиль                                    5   \n",
       "3     Товары для детей                                    5   \n",
       "4     Товары для детей                                    3   \n",
       "\n",
       "   Неоплаченные_продукты_штук_квартал  Ошибка_сервиса  Страниц_за_визит  \n",
       "0                                   2               1                 5  \n",
       "1                                   4               2                 5  \n",
       "2                                   2               1                 5  \n",
       "3                                   0               6                 4  \n",
       "4                                   2               3                 2  "
      ]
     },
     "metadata": {},
     "output_type": "display_data"
    },
    {
     "data": {
      "text/html": [
       "<div>\n",
       "<style scoped>\n",
       "    .dataframe tbody tr th:only-of-type {\n",
       "        vertical-align: middle;\n",
       "    }\n",
       "\n",
       "    .dataframe tbody tr th {\n",
       "        vertical-align: top;\n",
       "    }\n",
       "\n",
       "    .dataframe thead th {\n",
       "        text-align: right;\n",
       "    }\n",
       "</style>\n",
       "<table border=\"1\" class=\"dataframe\">\n",
       "  <thead>\n",
       "    <tr style=\"text-align: right;\">\n",
       "      <th></th>\n",
       "      <th>id</th>\n",
       "      <th>Период</th>\n",
       "      <th>Выручка</th>\n",
       "    </tr>\n",
       "  </thead>\n",
       "  <tbody>\n",
       "    <tr>\n",
       "      <th>0</th>\n",
       "      <td>215348</td>\n",
       "      <td>препредыдущий_месяц</td>\n",
       "      <td>0.0</td>\n",
       "    </tr>\n",
       "    <tr>\n",
       "      <th>1</th>\n",
       "      <td>215348</td>\n",
       "      <td>текущий_месяц</td>\n",
       "      <td>3293.1</td>\n",
       "    </tr>\n",
       "    <tr>\n",
       "      <th>2</th>\n",
       "      <td>215348</td>\n",
       "      <td>предыдущий_месяц</td>\n",
       "      <td>0.0</td>\n",
       "    </tr>\n",
       "    <tr>\n",
       "      <th>3</th>\n",
       "      <td>215349</td>\n",
       "      <td>препредыдущий_месяц</td>\n",
       "      <td>4472.0</td>\n",
       "    </tr>\n",
       "    <tr>\n",
       "      <th>4</th>\n",
       "      <td>215349</td>\n",
       "      <td>текущий_месяц</td>\n",
       "      <td>4971.6</td>\n",
       "    </tr>\n",
       "  </tbody>\n",
       "</table>\n",
       "</div>"
      ],
      "text/plain": [
       "       id               Период  Выручка\n",
       "0  215348  препредыдущий_месяц      0.0\n",
       "1  215348        текущий_месяц   3293.1\n",
       "2  215348     предыдущий_месяц      0.0\n",
       "3  215349  препредыдущий_месяц   4472.0\n",
       "4  215349        текущий_месяц   4971.6"
      ]
     },
     "metadata": {},
     "output_type": "display_data"
    },
    {
     "data": {
      "text/html": [
       "<div>\n",
       "<style scoped>\n",
       "    .dataframe tbody tr th:only-of-type {\n",
       "        vertical-align: middle;\n",
       "    }\n",
       "\n",
       "    .dataframe tbody tr th {\n",
       "        vertical-align: top;\n",
       "    }\n",
       "\n",
       "    .dataframe thead th {\n",
       "        text-align: right;\n",
       "    }\n",
       "</style>\n",
       "<table border=\"1\" class=\"dataframe\">\n",
       "  <thead>\n",
       "    <tr style=\"text-align: right;\">\n",
       "      <th></th>\n",
       "      <th>id</th>\n",
       "      <th>Период</th>\n",
       "      <th>минут</th>\n",
       "    </tr>\n",
       "  </thead>\n",
       "  <tbody>\n",
       "    <tr>\n",
       "      <th>0</th>\n",
       "      <td>215348</td>\n",
       "      <td>текущий_месяц</td>\n",
       "      <td>14</td>\n",
       "    </tr>\n",
       "    <tr>\n",
       "      <th>1</th>\n",
       "      <td>215348</td>\n",
       "      <td>предыдцщий_месяц</td>\n",
       "      <td>13</td>\n",
       "    </tr>\n",
       "    <tr>\n",
       "      <th>2</th>\n",
       "      <td>215349</td>\n",
       "      <td>текущий_месяц</td>\n",
       "      <td>10</td>\n",
       "    </tr>\n",
       "    <tr>\n",
       "      <th>3</th>\n",
       "      <td>215349</td>\n",
       "      <td>предыдцщий_месяц</td>\n",
       "      <td>12</td>\n",
       "    </tr>\n",
       "    <tr>\n",
       "      <th>4</th>\n",
       "      <td>215350</td>\n",
       "      <td>текущий_месяц</td>\n",
       "      <td>13</td>\n",
       "    </tr>\n",
       "  </tbody>\n",
       "</table>\n",
       "</div>"
      ],
      "text/plain": [
       "       id            Период  минут\n",
       "0  215348     текущий_месяц     14\n",
       "1  215348  предыдцщий_месяц     13\n",
       "2  215349     текущий_месяц     10\n",
       "3  215349  предыдцщий_месяц     12\n",
       "4  215350     текущий_месяц     13"
      ]
     },
     "metadata": {},
     "output_type": "display_data"
    },
    {
     "data": {
      "text/html": [
       "<div>\n",
       "<style scoped>\n",
       "    .dataframe tbody tr th:only-of-type {\n",
       "        vertical-align: middle;\n",
       "    }\n",
       "\n",
       "    .dataframe tbody tr th {\n",
       "        vertical-align: top;\n",
       "    }\n",
       "\n",
       "    .dataframe thead th {\n",
       "        text-align: right;\n",
       "    }\n",
       "</style>\n",
       "<table border=\"1\" class=\"dataframe\">\n",
       "  <thead>\n",
       "    <tr style=\"text-align: right;\">\n",
       "      <th></th>\n",
       "      <th>id</th>\n",
       "      <th>Прибыль</th>\n",
       "    </tr>\n",
       "  </thead>\n",
       "  <tbody>\n",
       "    <tr>\n",
       "      <th>0</th>\n",
       "      <td>215348</td>\n",
       "      <td>0,98</td>\n",
       "    </tr>\n",
       "    <tr>\n",
       "      <th>1</th>\n",
       "      <td>215349</td>\n",
       "      <td>4,16</td>\n",
       "    </tr>\n",
       "    <tr>\n",
       "      <th>2</th>\n",
       "      <td>215350</td>\n",
       "      <td>3,13</td>\n",
       "    </tr>\n",
       "    <tr>\n",
       "      <th>3</th>\n",
       "      <td>215351</td>\n",
       "      <td>4,87</td>\n",
       "    </tr>\n",
       "    <tr>\n",
       "      <th>4</th>\n",
       "      <td>215352</td>\n",
       "      <td>4,21</td>\n",
       "    </tr>\n",
       "  </tbody>\n",
       "</table>\n",
       "</div>"
      ],
      "text/plain": [
       "       id Прибыль\n",
       "0  215348    0,98\n",
       "1  215349    4,16\n",
       "2  215350    3,13\n",
       "3  215351    4,87\n",
       "4  215352    4,21"
      ]
     },
     "metadata": {},
     "output_type": "display_data"
    }
   ],
   "source": [
    "display(market_file.head())\n",
    "display(market_money.head())\n",
    "display(market_time.head())\n",
    "display(money.head())"
   ]
  },
  {
   "cell_type": "markdown",
   "metadata": {},
   "source": [
    "Данные не плохие, но нужны корректировки."
   ]
  },
  {
   "cell_type": "markdown",
   "metadata": {},
   "source": [
    "### 2. Предобработка данных"
   ]
  },
  {
   "cell_type": "markdown",
   "metadata": {},
   "source": [
    "Приведем все названия столбцов в \"змеиный\" регистр."
   ]
  },
  {
   "cell_type": "code",
   "execution_count": 8,
   "metadata": {},
   "outputs": [
    {
     "name": "stdout",
     "output_type": "stream",
     "text": [
      "\n",
      "market_file\n",
      "['id', 'покупательская_активность', 'тип_сервиса', 'разрешить_сообщать', 'маркет_актив_6_мес', 'маркет_актив_тек_мес', 'длительность', 'акционные_покупки', 'популярная_категория', 'средний_просмотр_категорий_за_визит', 'неоплаченные_продукты_штук_квартал', 'ошибка_сервиса', 'страниц_за_визит']\n",
      "\n",
      "market_money\n",
      "['id', 'период', 'выручка']\n",
      "\n",
      "market_time\n",
      "['id', 'период', 'минут']\n",
      "\n",
      "money\n",
      "['id', 'прибыль']\n"
     ]
    }
   ],
   "source": [
    "tables = [\n",
    "    ('market_file', market_file),\n",
    "    ('market_money', market_money),\n",
    "    ('market_time', market_time),\n",
    "    ('money', money)\n",
    "]\n",
    "\n",
    "for name, df in tables:\n",
    "    df.columns = [re.sub(r'(?<!^)(?=[A-Z])', '_', i).replace(' ', '_').replace(',', '.').lower() \n",
    "                for i in df.columns]\n",
    "    for col in df.columns:\n",
    "        if pd.api.types.is_string_dtype(df[col]):\n",
    "            df[col] = df[col].str.lower()\n",
    "\n",
    "for name, df in tables:\n",
    "    print(f\"\\n{name}\")\n",
    "    print(df.columns.to_list())"
   ]
  },
  {
   "cell_type": "code",
   "execution_count": 9,
   "metadata": {},
   "outputs": [
    {
     "data": {
      "text/html": [
       "<div>\n",
       "<style scoped>\n",
       "    .dataframe tbody tr th:only-of-type {\n",
       "        vertical-align: middle;\n",
       "    }\n",
       "\n",
       "    .dataframe tbody tr th {\n",
       "        vertical-align: top;\n",
       "    }\n",
       "\n",
       "    .dataframe thead th {\n",
       "        text-align: right;\n",
       "    }\n",
       "</style>\n",
       "<table border=\"1\" class=\"dataframe\">\n",
       "  <thead>\n",
       "    <tr style=\"text-align: right;\">\n",
       "      <th></th>\n",
       "      <th>id</th>\n",
       "      <th>покупательская_активность</th>\n",
       "      <th>тип_сервиса</th>\n",
       "      <th>разрешить_сообщать</th>\n",
       "      <th>маркет_актив_6_мес</th>\n",
       "      <th>маркет_актив_тек_мес</th>\n",
       "      <th>длительность</th>\n",
       "      <th>акционные_покупки</th>\n",
       "      <th>популярная_категория</th>\n",
       "      <th>средний_просмотр_категорий_за_визит</th>\n",
       "      <th>неоплаченные_продукты_штук_квартал</th>\n",
       "      <th>ошибка_сервиса</th>\n",
       "      <th>страниц_за_визит</th>\n",
       "    </tr>\n",
       "  </thead>\n",
       "  <tbody>\n",
       "    <tr>\n",
       "      <th>0</th>\n",
       "      <td>215348</td>\n",
       "      <td>снизилась</td>\n",
       "      <td>премиум</td>\n",
       "      <td>да</td>\n",
       "      <td>3.4</td>\n",
       "      <td>5</td>\n",
       "      <td>121</td>\n",
       "      <td>0.00</td>\n",
       "      <td>товары для детей</td>\n",
       "      <td>6</td>\n",
       "      <td>2</td>\n",
       "      <td>1</td>\n",
       "      <td>5</td>\n",
       "    </tr>\n",
       "    <tr>\n",
       "      <th>1</th>\n",
       "      <td>215349</td>\n",
       "      <td>снизилась</td>\n",
       "      <td>премиум</td>\n",
       "      <td>да</td>\n",
       "      <td>4.4</td>\n",
       "      <td>4</td>\n",
       "      <td>819</td>\n",
       "      <td>0.75</td>\n",
       "      <td>товары для детей</td>\n",
       "      <td>4</td>\n",
       "      <td>4</td>\n",
       "      <td>2</td>\n",
       "      <td>5</td>\n",
       "    </tr>\n",
       "    <tr>\n",
       "      <th>2</th>\n",
       "      <td>215350</td>\n",
       "      <td>снизилась</td>\n",
       "      <td>стандартт</td>\n",
       "      <td>нет</td>\n",
       "      <td>4.9</td>\n",
       "      <td>3</td>\n",
       "      <td>539</td>\n",
       "      <td>0.14</td>\n",
       "      <td>домашний текстиль</td>\n",
       "      <td>5</td>\n",
       "      <td>2</td>\n",
       "      <td>1</td>\n",
       "      <td>5</td>\n",
       "    </tr>\n",
       "    <tr>\n",
       "      <th>3</th>\n",
       "      <td>215351</td>\n",
       "      <td>снизилась</td>\n",
       "      <td>стандартт</td>\n",
       "      <td>да</td>\n",
       "      <td>3.2</td>\n",
       "      <td>5</td>\n",
       "      <td>896</td>\n",
       "      <td>0.99</td>\n",
       "      <td>товары для детей</td>\n",
       "      <td>5</td>\n",
       "      <td>0</td>\n",
       "      <td>6</td>\n",
       "      <td>4</td>\n",
       "    </tr>\n",
       "    <tr>\n",
       "      <th>4</th>\n",
       "      <td>215352</td>\n",
       "      <td>снизилась</td>\n",
       "      <td>стандартт</td>\n",
       "      <td>нет</td>\n",
       "      <td>5.1</td>\n",
       "      <td>3</td>\n",
       "      <td>1064</td>\n",
       "      <td>0.94</td>\n",
       "      <td>товары для детей</td>\n",
       "      <td>3</td>\n",
       "      <td>2</td>\n",
       "      <td>3</td>\n",
       "      <td>2</td>\n",
       "    </tr>\n",
       "  </tbody>\n",
       "</table>\n",
       "</div>"
      ],
      "text/plain": [
       "       id покупательская_активность тип_сервиса разрешить_сообщать  \\\n",
       "0  215348                 снизилась     премиум                 да   \n",
       "1  215349                 снизилась     премиум                 да   \n",
       "2  215350                 снизилась   стандартт                нет   \n",
       "3  215351                 снизилась   стандартт                 да   \n",
       "4  215352                 снизилась   стандартт                нет   \n",
       "\n",
       "   маркет_актив_6_мес  маркет_актив_тек_мес  длительность  акционные_покупки  \\\n",
       "0                 3.4                     5           121               0.00   \n",
       "1                 4.4                     4           819               0.75   \n",
       "2                 4.9                     3           539               0.14   \n",
       "3                 3.2                     5           896               0.99   \n",
       "4                 5.1                     3          1064               0.94   \n",
       "\n",
       "  популярная_категория  средний_просмотр_категорий_за_визит  \\\n",
       "0     товары для детей                                    6   \n",
       "1     товары для детей                                    4   \n",
       "2    домашний текстиль                                    5   \n",
       "3     товары для детей                                    5   \n",
       "4     товары для детей                                    3   \n",
       "\n",
       "   неоплаченные_продукты_штук_квартал  ошибка_сервиса  страниц_за_визит  \n",
       "0                                   2               1                 5  \n",
       "1                                   4               2                 5  \n",
       "2                                   2               1                 5  \n",
       "3                                   0               6                 4  \n",
       "4                                   2               3                 2  "
      ]
     },
     "metadata": {},
     "output_type": "display_data"
    },
    {
     "data": {
      "text/html": [
       "<div>\n",
       "<style scoped>\n",
       "    .dataframe tbody tr th:only-of-type {\n",
       "        vertical-align: middle;\n",
       "    }\n",
       "\n",
       "    .dataframe tbody tr th {\n",
       "        vertical-align: top;\n",
       "    }\n",
       "\n",
       "    .dataframe thead th {\n",
       "        text-align: right;\n",
       "    }\n",
       "</style>\n",
       "<table border=\"1\" class=\"dataframe\">\n",
       "  <thead>\n",
       "    <tr style=\"text-align: right;\">\n",
       "      <th></th>\n",
       "      <th>id</th>\n",
       "      <th>период</th>\n",
       "      <th>выручка</th>\n",
       "    </tr>\n",
       "  </thead>\n",
       "  <tbody>\n",
       "    <tr>\n",
       "      <th>0</th>\n",
       "      <td>215348</td>\n",
       "      <td>препредыдущий_месяц</td>\n",
       "      <td>0.0</td>\n",
       "    </tr>\n",
       "    <tr>\n",
       "      <th>1</th>\n",
       "      <td>215348</td>\n",
       "      <td>текущий_месяц</td>\n",
       "      <td>3293.1</td>\n",
       "    </tr>\n",
       "    <tr>\n",
       "      <th>2</th>\n",
       "      <td>215348</td>\n",
       "      <td>предыдущий_месяц</td>\n",
       "      <td>0.0</td>\n",
       "    </tr>\n",
       "    <tr>\n",
       "      <th>3</th>\n",
       "      <td>215349</td>\n",
       "      <td>препредыдущий_месяц</td>\n",
       "      <td>4472.0</td>\n",
       "    </tr>\n",
       "    <tr>\n",
       "      <th>4</th>\n",
       "      <td>215349</td>\n",
       "      <td>текущий_месяц</td>\n",
       "      <td>4971.6</td>\n",
       "    </tr>\n",
       "  </tbody>\n",
       "</table>\n",
       "</div>"
      ],
      "text/plain": [
       "       id               период  выручка\n",
       "0  215348  препредыдущий_месяц      0.0\n",
       "1  215348        текущий_месяц   3293.1\n",
       "2  215348     предыдущий_месяц      0.0\n",
       "3  215349  препредыдущий_месяц   4472.0\n",
       "4  215349        текущий_месяц   4971.6"
      ]
     },
     "metadata": {},
     "output_type": "display_data"
    },
    {
     "data": {
      "text/html": [
       "<div>\n",
       "<style scoped>\n",
       "    .dataframe tbody tr th:only-of-type {\n",
       "        vertical-align: middle;\n",
       "    }\n",
       "\n",
       "    .dataframe tbody tr th {\n",
       "        vertical-align: top;\n",
       "    }\n",
       "\n",
       "    .dataframe thead th {\n",
       "        text-align: right;\n",
       "    }\n",
       "</style>\n",
       "<table border=\"1\" class=\"dataframe\">\n",
       "  <thead>\n",
       "    <tr style=\"text-align: right;\">\n",
       "      <th></th>\n",
       "      <th>id</th>\n",
       "      <th>период</th>\n",
       "      <th>минут</th>\n",
       "    </tr>\n",
       "  </thead>\n",
       "  <tbody>\n",
       "    <tr>\n",
       "      <th>0</th>\n",
       "      <td>215348</td>\n",
       "      <td>текущий_месяц</td>\n",
       "      <td>14</td>\n",
       "    </tr>\n",
       "    <tr>\n",
       "      <th>1</th>\n",
       "      <td>215348</td>\n",
       "      <td>предыдцщий_месяц</td>\n",
       "      <td>13</td>\n",
       "    </tr>\n",
       "    <tr>\n",
       "      <th>2</th>\n",
       "      <td>215349</td>\n",
       "      <td>текущий_месяц</td>\n",
       "      <td>10</td>\n",
       "    </tr>\n",
       "    <tr>\n",
       "      <th>3</th>\n",
       "      <td>215349</td>\n",
       "      <td>предыдцщий_месяц</td>\n",
       "      <td>12</td>\n",
       "    </tr>\n",
       "    <tr>\n",
       "      <th>4</th>\n",
       "      <td>215350</td>\n",
       "      <td>текущий_месяц</td>\n",
       "      <td>13</td>\n",
       "    </tr>\n",
       "  </tbody>\n",
       "</table>\n",
       "</div>"
      ],
      "text/plain": [
       "       id            период  минут\n",
       "0  215348     текущий_месяц     14\n",
       "1  215348  предыдцщий_месяц     13\n",
       "2  215349     текущий_месяц     10\n",
       "3  215349  предыдцщий_месяц     12\n",
       "4  215350     текущий_месяц     13"
      ]
     },
     "metadata": {},
     "output_type": "display_data"
    },
    {
     "data": {
      "text/html": [
       "<div>\n",
       "<style scoped>\n",
       "    .dataframe tbody tr th:only-of-type {\n",
       "        vertical-align: middle;\n",
       "    }\n",
       "\n",
       "    .dataframe tbody tr th {\n",
       "        vertical-align: top;\n",
       "    }\n",
       "\n",
       "    .dataframe thead th {\n",
       "        text-align: right;\n",
       "    }\n",
       "</style>\n",
       "<table border=\"1\" class=\"dataframe\">\n",
       "  <thead>\n",
       "    <tr style=\"text-align: right;\">\n",
       "      <th></th>\n",
       "      <th>id</th>\n",
       "      <th>прибыль</th>\n",
       "    </tr>\n",
       "  </thead>\n",
       "  <tbody>\n",
       "    <tr>\n",
       "      <th>0</th>\n",
       "      <td>215348</td>\n",
       "      <td>0,98</td>\n",
       "    </tr>\n",
       "    <tr>\n",
       "      <th>1</th>\n",
       "      <td>215349</td>\n",
       "      <td>4,16</td>\n",
       "    </tr>\n",
       "    <tr>\n",
       "      <th>2</th>\n",
       "      <td>215350</td>\n",
       "      <td>3,13</td>\n",
       "    </tr>\n",
       "    <tr>\n",
       "      <th>3</th>\n",
       "      <td>215351</td>\n",
       "      <td>4,87</td>\n",
       "    </tr>\n",
       "    <tr>\n",
       "      <th>4</th>\n",
       "      <td>215352</td>\n",
       "      <td>4,21</td>\n",
       "    </tr>\n",
       "  </tbody>\n",
       "</table>\n",
       "</div>"
      ],
      "text/plain": [
       "       id прибыль\n",
       "0  215348    0,98\n",
       "1  215349    4,16\n",
       "2  215350    3,13\n",
       "3  215351    4,87\n",
       "4  215352    4,21"
      ]
     },
     "metadata": {},
     "output_type": "display_data"
    }
   ],
   "source": [
    "# проверка\n",
    "for name, df in tables:\n",
    "    display(df.head())"
   ]
  },
  {
   "cell_type": "markdown",
   "metadata": {},
   "source": [
    "Проведем проверку значений в столбцах."
   ]
  },
  {
   "cell_type": "code",
   "execution_count": 10,
   "metadata": {
    "scrolled": true
   },
   "outputs": [
    {
     "name": "stdout",
     "output_type": "stream",
     "text": [
      "\n",
      "\u001b[1mТаблица: market_file\u001b[0m\n",
      "----------------------------------------\n",
      "\n",
      "id:\n",
      "Уникальных: 1300\n",
      "\n",
      "покупательская_активность:\n",
      "Уникальных: 2\n",
      "Значения: ['прежний уровень', 'снизилась']\n",
      "\n",
      "тип_сервиса:\n",
      "Уникальных: 3\n",
      "Значения: ['премиум', 'стандарт', 'стандартт']\n",
      "\n",
      "разрешить_сообщать:\n",
      "Уникальных: 2\n",
      "Значения: ['да', 'нет']\n",
      "\n",
      "маркет_актив_6_мес:\n",
      "Уникальных: 41\n",
      "\n",
      "маркет_актив_тек_мес:\n",
      "Уникальных: 3\n",
      "Значения: [3, 4, 5]\n",
      "\n",
      "длительность:\n",
      "Уникальных: 658\n",
      "\n",
      "акционные_покупки:\n",
      "Уникальных: 42\n",
      "\n",
      "популярная_категория:\n",
      "Уникальных: 6\n",
      "Значения: ['домашний текстиль', 'косметика и аксесуары', 'кухонная посуда', 'мелкая бытовая техника и электроника', 'техника для красоты и здоровья', 'товары для детей']\n",
      "\n",
      "средний_просмотр_категорий_за_визит:\n",
      "Уникальных: 6\n",
      "Значения: [1, 2, 3, 4, 5, 6]\n",
      "\n",
      "неоплаченные_продукты_штук_квартал:\n",
      "Уникальных: 11\n",
      "Значения: [0, 1, 2, 3, 4, 5, 6, 7, 8, 9, 10]\n",
      "\n",
      "ошибка_сервиса:\n",
      "Уникальных: 10\n",
      "Значения: [0, 1, 2, 3, 4, 5, 6, 7, 8, 9]\n",
      "\n",
      "страниц_за_визит:\n",
      "Уникальных: 20\n",
      "\n",
      "\u001b[1mТаблица: market_money\u001b[0m\n",
      "----------------------------------------\n",
      "\n",
      "id:\n",
      "Уникальных: 1300\n",
      "\n",
      "период:\n",
      "Уникальных: 3\n",
      "Значения: ['предыдущий_месяц', 'препредыдущий_месяц', 'текущий_месяц']\n",
      "\n",
      "выручка:\n",
      "Уникальных: 2776\n",
      "\n",
      "\u001b[1mТаблица: market_time\u001b[0m\n",
      "----------------------------------------\n",
      "\n",
      "id:\n",
      "Уникальных: 1300\n",
      "\n",
      "период:\n",
      "Уникальных: 2\n",
      "Значения: ['предыдцщий_месяц', 'текущий_месяц']\n",
      "\n",
      "минут:\n",
      "Уникальных: 20\n",
      "\n",
      "\u001b[1mТаблица: money\u001b[0m\n",
      "----------------------------------------\n",
      "\n",
      "id:\n",
      "Уникальных: 1300\n",
      "\n",
      "прибыль:\n",
      "Уникальных: 400\n"
     ]
    }
   ],
   "source": [
    "for name, df in tables:\n",
    "    print(f\"\\n\\033[1mТаблица: {name}\\033[0m\")\n",
    "    print(\"-\" * 40)\n",
    "    \n",
    "    for col in df.columns:\n",
    "        print(f\"\\n{col}:\")\n",
    "        print(\"Уникальных:\", df[col].nunique())\n",
    "        \n",
    "        if df[col].nunique() < 20:\n",
    "            print(\"Значения:\", sorted(df[col].dropna().unique()))"
   ]
  },
  {
   "cell_type": "code",
   "execution_count": 11,
   "metadata": {
    "scrolled": false
   },
   "outputs": [
    {
     "name": "stdout",
     "output_type": "stream",
     "text": [
      "['премиум' 'стандарт']\n",
      "['товары для детей' 'домашний текстиль' 'косметика и аксессуары'\n",
      " 'техника для красоты и здоровья' 'кухонная посуда'\n",
      " 'мелкая бытовая техника и электроника']\n",
      "['текущий_месяц' 'предыдущий_месяц']\n"
     ]
    }
   ],
   "source": [
    "# редактируем ошибки\n",
    "market_file['тип_сервиса'] = market_file['тип_сервиса'].replace('стандартт', 'стандарт')\n",
    "market_file['популярная_категория'] = market_file['популярная_категория'].replace(\n",
    "    'косметика и аксесуары', 'косметика и аксессуары')\n",
    "market_time['период'] = market_time['период'].replace('предыдцщий_месяц', 'предыдущий_месяц')\n",
    "\n",
    "# и сразу же проверим\n",
    "print(market_file['тип_сервиса'].unique())\n",
    "print(market_file['популярная_категория'].unique())\n",
    "print(market_time['период'].unique())"
   ]
  },
  {
   "cell_type": "markdown",
   "metadata": {},
   "source": [
    "Названия столбцов привели к единому стилю. А так же данные в датафреймах привели к нижнему регистру и провели редактирование.  \n",
    "Далее проверим датафреймы по типу данных, а так же на пропуски и дубликаты(в том числе неявные)."
   ]
  },
  {
   "cell_type": "code",
   "execution_count": 12,
   "metadata": {
    "scrolled": true
   },
   "outputs": [
    {
     "name": "stdout",
     "output_type": "stream",
     "text": [
      "market_file\n",
      "id                                       int64\n",
      "покупательская_активность               object\n",
      "тип_сервиса                             object\n",
      "разрешить_сообщать                      object\n",
      "маркет_актив_6_мес                     float64\n",
      "маркет_актив_тек_мес                     int64\n",
      "длительность                             int64\n",
      "акционные_покупки                      float64\n",
      "популярная_категория                    object\n",
      "средний_просмотр_категорий_за_визит      int64\n",
      "неоплаченные_продукты_штук_квартал       int64\n",
      "ошибка_сервиса                           int64\n",
      "страниц_за_визит                         int64\n",
      "dtype: object\n",
      "--------------------------------------------------\n",
      "market_money\n",
      "id           int64\n",
      "период      object\n",
      "выручка    float64\n",
      "dtype: object\n",
      "--------------------------------------------------\n",
      "market_time\n",
      "id         int64\n",
      "период    object\n",
      "минут      int64\n",
      "dtype: object\n",
      "--------------------------------------------------\n",
      "money\n",
      "id          int64\n",
      "прибыль    object\n",
      "dtype: object\n",
      "--------------------------------------------------\n"
     ]
    }
   ],
   "source": [
    "for name, df in tables:\n",
    "    print(name)\n",
    "    print(df.dtypes)\n",
    "    print('-' * 50)"
   ]
  },
  {
   "cell_type": "code",
   "execution_count": 13,
   "metadata": {},
   "outputs": [],
   "source": [
    "# в целом все хорошо, но столбец \"прибыль\" в датафрейме money, изменим на тип float\n",
    "money['прибыль'] = money['прибыль'].str.replace(',', '.').astype(float)"
   ]
  },
  {
   "cell_type": "code",
   "execution_count": 14,
   "metadata": {
    "scrolled": true
   },
   "outputs": [
    {
     "name": "stdout",
     "output_type": "stream",
     "text": [
      "Пропуски: market_file\n",
      "id                                     0\n",
      "покупательская_активность              0\n",
      "тип_сервиса                            0\n",
      "разрешить_сообщать                     0\n",
      "маркет_актив_6_мес                     0\n",
      "маркет_актив_тек_мес                   0\n",
      "длительность                           0\n",
      "акционные_покупки                      0\n",
      "популярная_категория                   0\n",
      "средний_просмотр_категорий_за_визит    0\n",
      "неоплаченные_продукты_штук_квартал     0\n",
      "ошибка_сервиса                         0\n",
      "страниц_за_визит                       0\n",
      "dtype: int64\n",
      "Дубликаты: 0\n",
      "--------------------------------------------------\n",
      "Пропуски: market_money\n",
      "id         0\n",
      "период     0\n",
      "выручка    0\n",
      "dtype: int64\n",
      "Дубликаты: 0\n",
      "--------------------------------------------------\n",
      "Пропуски: market_time\n",
      "id        0\n",
      "период    0\n",
      "минут     0\n",
      "dtype: int64\n",
      "Дубликаты: 0\n",
      "--------------------------------------------------\n",
      "Пропуски: money\n",
      "id         0\n",
      "прибыль    0\n",
      "dtype: int64\n",
      "Дубликаты: 0\n",
      "--------------------------------------------------\n"
     ]
    }
   ],
   "source": [
    "# выводим пропуски\n",
    "for name, df in tables:\n",
    "    print('Пропуски:', name)\n",
    "    print(df.isna().sum().sort_values(ascending=False))\n",
    "    print('Дубликаты:', df.duplicated().sum())\n",
    "    print('-' * 50)"
   ]
  },
  {
   "cell_type": "markdown",
   "metadata": {},
   "source": [
    "Идеальные датафреймы. Пропусков и дубликатов нет."
   ]
  },
  {
   "cell_type": "code",
   "execution_count": 15,
   "metadata": {},
   "outputs": [],
   "source": [
    "# сделаем столбцы в датафрейме market_file покуп. активность, тип сервиса и разрешение - бинарными.\n",
    "le = LabelEncoder()\n",
    "market_file['покупательская_активность'] = le.fit_transform(market_file['покупательская_активность'])\n",
    "market_file['тип_сервиса'] = market_file['тип_сервиса'].map({'премиум': 1, 'стандарт': 0}).astype(int)\n",
    "market_file['разрешить_сообщать'] = market_file['разрешить_сообщать'].map({'да': 1, 'нет': 0}).astype(int)"
   ]
  },
  {
   "cell_type": "markdown",
   "metadata": {},
   "source": [
    "Покупательская способность: снизилась - 1, прежний уровень - 0.  \n",
    "Тип сервиса: премиум - 1, стандарт - 0.  \n",
    "Разрешить сообщать: да - 1, нет - 0."
   ]
  },
  {
   "cell_type": "code",
   "execution_count": 16,
   "metadata": {},
   "outputs": [
    {
     "data": {
      "text/html": [
       "<div>\n",
       "<style scoped>\n",
       "    .dataframe tbody tr th:only-of-type {\n",
       "        vertical-align: middle;\n",
       "    }\n",
       "\n",
       "    .dataframe tbody tr th {\n",
       "        vertical-align: top;\n",
       "    }\n",
       "\n",
       "    .dataframe thead th {\n",
       "        text-align: right;\n",
       "    }\n",
       "</style>\n",
       "<table border=\"1\" class=\"dataframe\">\n",
       "  <thead>\n",
       "    <tr style=\"text-align: right;\">\n",
       "      <th></th>\n",
       "      <th>id</th>\n",
       "      <th>покупательская_активность</th>\n",
       "      <th>тип_сервиса</th>\n",
       "      <th>разрешить_сообщать</th>\n",
       "      <th>маркет_актив_6_мес</th>\n",
       "      <th>маркет_актив_тек_мес</th>\n",
       "      <th>длительность</th>\n",
       "      <th>акционные_покупки</th>\n",
       "      <th>популярная_категория</th>\n",
       "      <th>средний_просмотр_категорий_за_визит</th>\n",
       "      <th>неоплаченные_продукты_штук_квартал</th>\n",
       "      <th>ошибка_сервиса</th>\n",
       "      <th>страниц_за_визит</th>\n",
       "    </tr>\n",
       "  </thead>\n",
       "  <tbody>\n",
       "    <tr>\n",
       "      <th>0</th>\n",
       "      <td>215348</td>\n",
       "      <td>1</td>\n",
       "      <td>1</td>\n",
       "      <td>1</td>\n",
       "      <td>3.4</td>\n",
       "      <td>5</td>\n",
       "      <td>121</td>\n",
       "      <td>0.00</td>\n",
       "      <td>товары для детей</td>\n",
       "      <td>6</td>\n",
       "      <td>2</td>\n",
       "      <td>1</td>\n",
       "      <td>5</td>\n",
       "    </tr>\n",
       "    <tr>\n",
       "      <th>1</th>\n",
       "      <td>215349</td>\n",
       "      <td>1</td>\n",
       "      <td>1</td>\n",
       "      <td>1</td>\n",
       "      <td>4.4</td>\n",
       "      <td>4</td>\n",
       "      <td>819</td>\n",
       "      <td>0.75</td>\n",
       "      <td>товары для детей</td>\n",
       "      <td>4</td>\n",
       "      <td>4</td>\n",
       "      <td>2</td>\n",
       "      <td>5</td>\n",
       "    </tr>\n",
       "    <tr>\n",
       "      <th>2</th>\n",
       "      <td>215350</td>\n",
       "      <td>1</td>\n",
       "      <td>0</td>\n",
       "      <td>0</td>\n",
       "      <td>4.9</td>\n",
       "      <td>3</td>\n",
       "      <td>539</td>\n",
       "      <td>0.14</td>\n",
       "      <td>домашний текстиль</td>\n",
       "      <td>5</td>\n",
       "      <td>2</td>\n",
       "      <td>1</td>\n",
       "      <td>5</td>\n",
       "    </tr>\n",
       "    <tr>\n",
       "      <th>3</th>\n",
       "      <td>215351</td>\n",
       "      <td>1</td>\n",
       "      <td>0</td>\n",
       "      <td>1</td>\n",
       "      <td>3.2</td>\n",
       "      <td>5</td>\n",
       "      <td>896</td>\n",
       "      <td>0.99</td>\n",
       "      <td>товары для детей</td>\n",
       "      <td>5</td>\n",
       "      <td>0</td>\n",
       "      <td>6</td>\n",
       "      <td>4</td>\n",
       "    </tr>\n",
       "    <tr>\n",
       "      <th>4</th>\n",
       "      <td>215352</td>\n",
       "      <td>1</td>\n",
       "      <td>0</td>\n",
       "      <td>0</td>\n",
       "      <td>5.1</td>\n",
       "      <td>3</td>\n",
       "      <td>1064</td>\n",
       "      <td>0.94</td>\n",
       "      <td>товары для детей</td>\n",
       "      <td>3</td>\n",
       "      <td>2</td>\n",
       "      <td>3</td>\n",
       "      <td>2</td>\n",
       "    </tr>\n",
       "  </tbody>\n",
       "</table>\n",
       "</div>"
      ],
      "text/plain": [
       "       id  покупательская_активность  тип_сервиса  разрешить_сообщать  \\\n",
       "0  215348                          1            1                   1   \n",
       "1  215349                          1            1                   1   \n",
       "2  215350                          1            0                   0   \n",
       "3  215351                          1            0                   1   \n",
       "4  215352                          1            0                   0   \n",
       "\n",
       "   маркет_актив_6_мес  маркет_актив_тек_мес  длительность  акционные_покупки  \\\n",
       "0                 3.4                     5           121               0.00   \n",
       "1                 4.4                     4           819               0.75   \n",
       "2                 4.9                     3           539               0.14   \n",
       "3                 3.2                     5           896               0.99   \n",
       "4                 5.1                     3          1064               0.94   \n",
       "\n",
       "  популярная_категория  средний_просмотр_категорий_за_визит  \\\n",
       "0     товары для детей                                    6   \n",
       "1     товары для детей                                    4   \n",
       "2    домашний текстиль                                    5   \n",
       "3     товары для детей                                    5   \n",
       "4     товары для детей                                    3   \n",
       "\n",
       "   неоплаченные_продукты_штук_квартал  ошибка_сервиса  страниц_за_визит  \n",
       "0                                   2               1                 5  \n",
       "1                                   4               2                 5  \n",
       "2                                   2               1                 5  \n",
       "3                                   0               6                 4  \n",
       "4                                   2               3                 2  "
      ]
     },
     "execution_count": 16,
     "metadata": {},
     "output_type": "execute_result"
    }
   ],
   "source": [
    "# проверка\n",
    "market_file.head()"
   ]
  },
  {
   "cell_type": "markdown",
   "metadata": {},
   "source": [
    "Дубликатов, пропусков нет. Типы данных в порядке, значения привели к единому стилю."
   ]
  },
  {
   "cell_type": "markdown",
   "metadata": {},
   "source": [
    "## 3. Исследовательский анализ данных"
   ]
  },
  {
   "cell_type": "markdown",
   "metadata": {},
   "source": [
    "Проведем статистический анализ."
   ]
  },
  {
   "cell_type": "code",
   "execution_count": 17,
   "metadata": {
    "scrolled": true
   },
   "outputs": [
    {
     "name": "stdout",
     "output_type": "stream",
     "text": [
      "market_file\n"
     ]
    },
    {
     "data": {
      "text/html": [
       "<div>\n",
       "<style scoped>\n",
       "    .dataframe tbody tr th:only-of-type {\n",
       "        vertical-align: middle;\n",
       "    }\n",
       "\n",
       "    .dataframe tbody tr th {\n",
       "        vertical-align: top;\n",
       "    }\n",
       "\n",
       "    .dataframe thead th {\n",
       "        text-align: right;\n",
       "    }\n",
       "</style>\n",
       "<table border=\"1\" class=\"dataframe\">\n",
       "  <thead>\n",
       "    <tr style=\"text-align: right;\">\n",
       "      <th></th>\n",
       "      <th>покупательская_активность</th>\n",
       "      <th>тип_сервиса</th>\n",
       "      <th>разрешить_сообщать</th>\n",
       "      <th>маркет_актив_6_мес</th>\n",
       "      <th>маркет_актив_тек_мес</th>\n",
       "      <th>длительность</th>\n",
       "      <th>акционные_покупки</th>\n",
       "      <th>средний_просмотр_категорий_за_визит</th>\n",
       "      <th>неоплаченные_продукты_штук_квартал</th>\n",
       "      <th>ошибка_сервиса</th>\n",
       "      <th>страниц_за_визит</th>\n",
       "    </tr>\n",
       "  </thead>\n",
       "  <tbody>\n",
       "    <tr>\n",
       "      <th>count</th>\n",
       "      <td>1300.000000</td>\n",
       "      <td>1300.000000</td>\n",
       "      <td>1300.000000</td>\n",
       "      <td>1300.000000</td>\n",
       "      <td>1300.000000</td>\n",
       "      <td>1300.000000</td>\n",
       "      <td>1300.000000</td>\n",
       "      <td>1300.00000</td>\n",
       "      <td>1300.000000</td>\n",
       "      <td>1300.000000</td>\n",
       "      <td>1300.000000</td>\n",
       "    </tr>\n",
       "    <tr>\n",
       "      <th>mean</th>\n",
       "      <td>0.383077</td>\n",
       "      <td>0.289231</td>\n",
       "      <td>0.740000</td>\n",
       "      <td>4.253769</td>\n",
       "      <td>4.011538</td>\n",
       "      <td>601.898462</td>\n",
       "      <td>0.319808</td>\n",
       "      <td>3.27000</td>\n",
       "      <td>2.840000</td>\n",
       "      <td>4.185385</td>\n",
       "      <td>8.176923</td>\n",
       "    </tr>\n",
       "    <tr>\n",
       "      <th>std</th>\n",
       "      <td>0.486324</td>\n",
       "      <td>0.453580</td>\n",
       "      <td>0.438803</td>\n",
       "      <td>1.014814</td>\n",
       "      <td>0.696868</td>\n",
       "      <td>249.856289</td>\n",
       "      <td>0.249843</td>\n",
       "      <td>1.35535</td>\n",
       "      <td>1.971451</td>\n",
       "      <td>1.955298</td>\n",
       "      <td>3.978126</td>\n",
       "    </tr>\n",
       "    <tr>\n",
       "      <th>min</th>\n",
       "      <td>0.000000</td>\n",
       "      <td>0.000000</td>\n",
       "      <td>0.000000</td>\n",
       "      <td>0.900000</td>\n",
       "      <td>3.000000</td>\n",
       "      <td>110.000000</td>\n",
       "      <td>0.000000</td>\n",
       "      <td>1.00000</td>\n",
       "      <td>0.000000</td>\n",
       "      <td>0.000000</td>\n",
       "      <td>1.000000</td>\n",
       "    </tr>\n",
       "    <tr>\n",
       "      <th>25%</th>\n",
       "      <td>0.000000</td>\n",
       "      <td>0.000000</td>\n",
       "      <td>0.000000</td>\n",
       "      <td>3.700000</td>\n",
       "      <td>4.000000</td>\n",
       "      <td>405.500000</td>\n",
       "      <td>0.170000</td>\n",
       "      <td>2.00000</td>\n",
       "      <td>1.000000</td>\n",
       "      <td>3.000000</td>\n",
       "      <td>5.000000</td>\n",
       "    </tr>\n",
       "    <tr>\n",
       "      <th>50%</th>\n",
       "      <td>0.000000</td>\n",
       "      <td>0.000000</td>\n",
       "      <td>1.000000</td>\n",
       "      <td>4.200000</td>\n",
       "      <td>4.000000</td>\n",
       "      <td>606.000000</td>\n",
       "      <td>0.240000</td>\n",
       "      <td>3.00000</td>\n",
       "      <td>3.000000</td>\n",
       "      <td>4.000000</td>\n",
       "      <td>8.000000</td>\n",
       "    </tr>\n",
       "    <tr>\n",
       "      <th>75%</th>\n",
       "      <td>1.000000</td>\n",
       "      <td>1.000000</td>\n",
       "      <td>1.000000</td>\n",
       "      <td>4.900000</td>\n",
       "      <td>4.000000</td>\n",
       "      <td>806.000000</td>\n",
       "      <td>0.300000</td>\n",
       "      <td>4.00000</td>\n",
       "      <td>4.000000</td>\n",
       "      <td>6.000000</td>\n",
       "      <td>11.000000</td>\n",
       "    </tr>\n",
       "    <tr>\n",
       "      <th>max</th>\n",
       "      <td>1.000000</td>\n",
       "      <td>1.000000</td>\n",
       "      <td>1.000000</td>\n",
       "      <td>6.600000</td>\n",
       "      <td>5.000000</td>\n",
       "      <td>1079.000000</td>\n",
       "      <td>0.990000</td>\n",
       "      <td>6.00000</td>\n",
       "      <td>10.000000</td>\n",
       "      <td>9.000000</td>\n",
       "      <td>20.000000</td>\n",
       "    </tr>\n",
       "  </tbody>\n",
       "</table>\n",
       "</div>"
      ],
      "text/plain": [
       "       покупательская_активность  тип_сервиса  разрешить_сообщать  \\\n",
       "count                1300.000000  1300.000000         1300.000000   \n",
       "mean                    0.383077     0.289231            0.740000   \n",
       "std                     0.486324     0.453580            0.438803   \n",
       "min                     0.000000     0.000000            0.000000   \n",
       "25%                     0.000000     0.000000            0.000000   \n",
       "50%                     0.000000     0.000000            1.000000   \n",
       "75%                     1.000000     1.000000            1.000000   \n",
       "max                     1.000000     1.000000            1.000000   \n",
       "\n",
       "       маркет_актив_6_мес  маркет_актив_тек_мес  длительность  \\\n",
       "count         1300.000000           1300.000000   1300.000000   \n",
       "mean             4.253769              4.011538    601.898462   \n",
       "std              1.014814              0.696868    249.856289   \n",
       "min              0.900000              3.000000    110.000000   \n",
       "25%              3.700000              4.000000    405.500000   \n",
       "50%              4.200000              4.000000    606.000000   \n",
       "75%              4.900000              4.000000    806.000000   \n",
       "max              6.600000              5.000000   1079.000000   \n",
       "\n",
       "       акционные_покупки  средний_просмотр_категорий_за_визит  \\\n",
       "count        1300.000000                           1300.00000   \n",
       "mean            0.319808                              3.27000   \n",
       "std             0.249843                              1.35535   \n",
       "min             0.000000                              1.00000   \n",
       "25%             0.170000                              2.00000   \n",
       "50%             0.240000                              3.00000   \n",
       "75%             0.300000                              4.00000   \n",
       "max             0.990000                              6.00000   \n",
       "\n",
       "       неоплаченные_продукты_штук_квартал  ошибка_сервиса  страниц_за_визит  \n",
       "count                         1300.000000     1300.000000       1300.000000  \n",
       "mean                             2.840000        4.185385          8.176923  \n",
       "std                              1.971451        1.955298          3.978126  \n",
       "min                              0.000000        0.000000          1.000000  \n",
       "25%                              1.000000        3.000000          5.000000  \n",
       "50%                              3.000000        4.000000          8.000000  \n",
       "75%                              4.000000        6.000000         11.000000  \n",
       "max                             10.000000        9.000000         20.000000  "
      ]
     },
     "metadata": {},
     "output_type": "display_data"
    },
    {
     "data": {
      "text/html": [
       "<div>\n",
       "<style scoped>\n",
       "    .dataframe tbody tr th:only-of-type {\n",
       "        vertical-align: middle;\n",
       "    }\n",
       "\n",
       "    .dataframe tbody tr th {\n",
       "        vertical-align: top;\n",
       "    }\n",
       "\n",
       "    .dataframe thead th {\n",
       "        text-align: right;\n",
       "    }\n",
       "</style>\n",
       "<table border=\"1\" class=\"dataframe\">\n",
       "  <thead>\n",
       "    <tr style=\"text-align: right;\">\n",
       "      <th></th>\n",
       "      <th>популярная_категория</th>\n",
       "    </tr>\n",
       "  </thead>\n",
       "  <tbody>\n",
       "    <tr>\n",
       "      <th>count</th>\n",
       "      <td>1300</td>\n",
       "    </tr>\n",
       "    <tr>\n",
       "      <th>unique</th>\n",
       "      <td>6</td>\n",
       "    </tr>\n",
       "    <tr>\n",
       "      <th>top</th>\n",
       "      <td>товары для детей</td>\n",
       "    </tr>\n",
       "    <tr>\n",
       "      <th>freq</th>\n",
       "      <td>330</td>\n",
       "    </tr>\n",
       "  </tbody>\n",
       "</table>\n",
       "</div>"
      ],
      "text/plain": [
       "       популярная_категория\n",
       "count                  1300\n",
       "unique                    6\n",
       "top        товары для детей\n",
       "freq                    330"
      ]
     },
     "metadata": {},
     "output_type": "display_data"
    },
    {
     "name": "stdout",
     "output_type": "stream",
     "text": [
      "--------------------------------------------------\n",
      "market_money\n"
     ]
    },
    {
     "data": {
      "text/html": [
       "<div>\n",
       "<style scoped>\n",
       "    .dataframe tbody tr th:only-of-type {\n",
       "        vertical-align: middle;\n",
       "    }\n",
       "\n",
       "    .dataframe tbody tr th {\n",
       "        vertical-align: top;\n",
       "    }\n",
       "\n",
       "    .dataframe thead th {\n",
       "        text-align: right;\n",
       "    }\n",
       "</style>\n",
       "<table border=\"1\" class=\"dataframe\">\n",
       "  <thead>\n",
       "    <tr style=\"text-align: right;\">\n",
       "      <th></th>\n",
       "      <th>выручка</th>\n",
       "    </tr>\n",
       "  </thead>\n",
       "  <tbody>\n",
       "    <tr>\n",
       "      <th>count</th>\n",
       "      <td>3900.000000</td>\n",
       "    </tr>\n",
       "    <tr>\n",
       "      <th>mean</th>\n",
       "      <td>5025.696051</td>\n",
       "    </tr>\n",
       "    <tr>\n",
       "      <th>std</th>\n",
       "      <td>1777.704104</td>\n",
       "    </tr>\n",
       "    <tr>\n",
       "      <th>min</th>\n",
       "      <td>0.000000</td>\n",
       "    </tr>\n",
       "    <tr>\n",
       "      <th>25%</th>\n",
       "      <td>4590.150000</td>\n",
       "    </tr>\n",
       "    <tr>\n",
       "      <th>50%</th>\n",
       "      <td>4957.500000</td>\n",
       "    </tr>\n",
       "    <tr>\n",
       "      <th>75%</th>\n",
       "      <td>5363.000000</td>\n",
       "    </tr>\n",
       "    <tr>\n",
       "      <th>max</th>\n",
       "      <td>106862.200000</td>\n",
       "    </tr>\n",
       "  </tbody>\n",
       "</table>\n",
       "</div>"
      ],
      "text/plain": [
       "             выручка\n",
       "count    3900.000000\n",
       "mean     5025.696051\n",
       "std      1777.704104\n",
       "min         0.000000\n",
       "25%      4590.150000\n",
       "50%      4957.500000\n",
       "75%      5363.000000\n",
       "max    106862.200000"
      ]
     },
     "metadata": {},
     "output_type": "display_data"
    },
    {
     "data": {
      "text/html": [
       "<div>\n",
       "<style scoped>\n",
       "    .dataframe tbody tr th:only-of-type {\n",
       "        vertical-align: middle;\n",
       "    }\n",
       "\n",
       "    .dataframe tbody tr th {\n",
       "        vertical-align: top;\n",
       "    }\n",
       "\n",
       "    .dataframe thead th {\n",
       "        text-align: right;\n",
       "    }\n",
       "</style>\n",
       "<table border=\"1\" class=\"dataframe\">\n",
       "  <thead>\n",
       "    <tr style=\"text-align: right;\">\n",
       "      <th></th>\n",
       "      <th>период</th>\n",
       "    </tr>\n",
       "  </thead>\n",
       "  <tbody>\n",
       "    <tr>\n",
       "      <th>count</th>\n",
       "      <td>3900</td>\n",
       "    </tr>\n",
       "    <tr>\n",
       "      <th>unique</th>\n",
       "      <td>3</td>\n",
       "    </tr>\n",
       "    <tr>\n",
       "      <th>top</th>\n",
       "      <td>препредыдущий_месяц</td>\n",
       "    </tr>\n",
       "    <tr>\n",
       "      <th>freq</th>\n",
       "      <td>1300</td>\n",
       "    </tr>\n",
       "  </tbody>\n",
       "</table>\n",
       "</div>"
      ],
      "text/plain": [
       "                     период\n",
       "count                  3900\n",
       "unique                    3\n",
       "top     препредыдущий_месяц\n",
       "freq                   1300"
      ]
     },
     "metadata": {},
     "output_type": "display_data"
    },
    {
     "name": "stdout",
     "output_type": "stream",
     "text": [
      "--------------------------------------------------\n",
      "market_time\n"
     ]
    },
    {
     "data": {
      "text/html": [
       "<div>\n",
       "<style scoped>\n",
       "    .dataframe tbody tr th:only-of-type {\n",
       "        vertical-align: middle;\n",
       "    }\n",
       "\n",
       "    .dataframe tbody tr th {\n",
       "        vertical-align: top;\n",
       "    }\n",
       "\n",
       "    .dataframe thead th {\n",
       "        text-align: right;\n",
       "    }\n",
       "</style>\n",
       "<table border=\"1\" class=\"dataframe\">\n",
       "  <thead>\n",
       "    <tr style=\"text-align: right;\">\n",
       "      <th></th>\n",
       "      <th>минут</th>\n",
       "    </tr>\n",
       "  </thead>\n",
       "  <tbody>\n",
       "    <tr>\n",
       "      <th>count</th>\n",
       "      <td>2600.000000</td>\n",
       "    </tr>\n",
       "    <tr>\n",
       "      <th>mean</th>\n",
       "      <td>13.336154</td>\n",
       "    </tr>\n",
       "    <tr>\n",
       "      <th>std</th>\n",
       "      <td>4.080198</td>\n",
       "    </tr>\n",
       "    <tr>\n",
       "      <th>min</th>\n",
       "      <td>4.000000</td>\n",
       "    </tr>\n",
       "    <tr>\n",
       "      <th>25%</th>\n",
       "      <td>10.000000</td>\n",
       "    </tr>\n",
       "    <tr>\n",
       "      <th>50%</th>\n",
       "      <td>13.000000</td>\n",
       "    </tr>\n",
       "    <tr>\n",
       "      <th>75%</th>\n",
       "      <td>16.000000</td>\n",
       "    </tr>\n",
       "    <tr>\n",
       "      <th>max</th>\n",
       "      <td>23.000000</td>\n",
       "    </tr>\n",
       "  </tbody>\n",
       "</table>\n",
       "</div>"
      ],
      "text/plain": [
       "             минут\n",
       "count  2600.000000\n",
       "mean     13.336154\n",
       "std       4.080198\n",
       "min       4.000000\n",
       "25%      10.000000\n",
       "50%      13.000000\n",
       "75%      16.000000\n",
       "max      23.000000"
      ]
     },
     "metadata": {},
     "output_type": "display_data"
    },
    {
     "data": {
      "text/html": [
       "<div>\n",
       "<style scoped>\n",
       "    .dataframe tbody tr th:only-of-type {\n",
       "        vertical-align: middle;\n",
       "    }\n",
       "\n",
       "    .dataframe tbody tr th {\n",
       "        vertical-align: top;\n",
       "    }\n",
       "\n",
       "    .dataframe thead th {\n",
       "        text-align: right;\n",
       "    }\n",
       "</style>\n",
       "<table border=\"1\" class=\"dataframe\">\n",
       "  <thead>\n",
       "    <tr style=\"text-align: right;\">\n",
       "      <th></th>\n",
       "      <th>период</th>\n",
       "    </tr>\n",
       "  </thead>\n",
       "  <tbody>\n",
       "    <tr>\n",
       "      <th>count</th>\n",
       "      <td>2600</td>\n",
       "    </tr>\n",
       "    <tr>\n",
       "      <th>unique</th>\n",
       "      <td>2</td>\n",
       "    </tr>\n",
       "    <tr>\n",
       "      <th>top</th>\n",
       "      <td>предыдущий_месяц</td>\n",
       "    </tr>\n",
       "    <tr>\n",
       "      <th>freq</th>\n",
       "      <td>1300</td>\n",
       "    </tr>\n",
       "  </tbody>\n",
       "</table>\n",
       "</div>"
      ],
      "text/plain": [
       "                  период\n",
       "count               2600\n",
       "unique                 2\n",
       "top     предыдущий_месяц\n",
       "freq                1300"
      ]
     },
     "metadata": {},
     "output_type": "display_data"
    },
    {
     "name": "stdout",
     "output_type": "stream",
     "text": [
      "--------------------------------------------------\n",
      "money\n"
     ]
    },
    {
     "data": {
      "text/html": [
       "<div>\n",
       "<style scoped>\n",
       "    .dataframe tbody tr th:only-of-type {\n",
       "        vertical-align: middle;\n",
       "    }\n",
       "\n",
       "    .dataframe tbody tr th {\n",
       "        vertical-align: top;\n",
       "    }\n",
       "\n",
       "    .dataframe thead th {\n",
       "        text-align: right;\n",
       "    }\n",
       "</style>\n",
       "<table border=\"1\" class=\"dataframe\">\n",
       "  <thead>\n",
       "    <tr style=\"text-align: right;\">\n",
       "      <th></th>\n",
       "      <th>прибыль</th>\n",
       "    </tr>\n",
       "  </thead>\n",
       "  <tbody>\n",
       "    <tr>\n",
       "      <th>count</th>\n",
       "      <td>1300.000000</td>\n",
       "    </tr>\n",
       "    <tr>\n",
       "      <th>mean</th>\n",
       "      <td>3.996631</td>\n",
       "    </tr>\n",
       "    <tr>\n",
       "      <th>std</th>\n",
       "      <td>1.013722</td>\n",
       "    </tr>\n",
       "    <tr>\n",
       "      <th>min</th>\n",
       "      <td>0.860000</td>\n",
       "    </tr>\n",
       "    <tr>\n",
       "      <th>25%</th>\n",
       "      <td>3.300000</td>\n",
       "    </tr>\n",
       "    <tr>\n",
       "      <th>50%</th>\n",
       "      <td>4.045000</td>\n",
       "    </tr>\n",
       "    <tr>\n",
       "      <th>75%</th>\n",
       "      <td>4.670000</td>\n",
       "    </tr>\n",
       "    <tr>\n",
       "      <th>max</th>\n",
       "      <td>7.430000</td>\n",
       "    </tr>\n",
       "  </tbody>\n",
       "</table>\n",
       "</div>"
      ],
      "text/plain": [
       "           прибыль\n",
       "count  1300.000000\n",
       "mean      3.996631\n",
       "std       1.013722\n",
       "min       0.860000\n",
       "25%       3.300000\n",
       "50%       4.045000\n",
       "75%       4.670000\n",
       "max       7.430000"
      ]
     },
     "metadata": {},
     "output_type": "display_data"
    },
    {
     "name": "stdout",
     "output_type": "stream",
     "text": [
      "--------------------------------------------------\n"
     ]
    }
   ],
   "source": [
    "for name, df in tables:\n",
    "    print(name)\n",
    "    \n",
    "    df_to_analyze = df.drop(columns=['id'], errors='ignore')\n",
    "    \n",
    "    num_cols = df_to_analyze.select_dtypes(include='number')\n",
    "    if not num_cols.empty:\n",
    "        display(num_cols.describe())\n",
    "    \n",
    "    cat_cols = df_to_analyze.select_dtypes(exclude='number')\n",
    "    if not cat_cols.empty:\n",
    "        display(cat_cols.describe())\n",
    "    \n",
    "    print('-' * 50)"
   ]
  },
  {
   "cell_type": "markdown",
   "metadata": {},
   "source": [
    "Данные неплохие, в таблице market_money наблюдаем выброс, редактируем путем удаления первых двух цифр."
   ]
  },
  {
   "cell_type": "code",
   "execution_count": 18,
   "metadata": {},
   "outputs": [
    {
     "data": {
      "text/plain": [
       "count    3900.000000\n",
       "mean     5000.055026\n",
       "std       707.538134\n",
       "min         0.000000\n",
       "25%      4590.150000\n",
       "50%      4957.500000\n",
       "75%      5363.000000\n",
       "max      7799.400000\n",
       "Name: выручка, dtype: float64"
      ]
     },
     "metadata": {},
     "output_type": "display_data"
    }
   ],
   "source": [
    "market_money['выручка'] = market_money['выручка'].replace(106862.200000, 6862.200000)\n",
    "# и сразу же проверим\n",
    "display(market_money['выручка'].describe())"
   ]
  },
  {
   "cell_type": "code",
   "execution_count": 19,
   "metadata": {},
   "outputs": [
    {
     "name": "stdout",
     "output_type": "stream",
     "text": [
      "        id               период  выручка\n",
      "96  215380  препредыдущий_месяц   5051.0\n",
      "97  215380     предыдущий_месяц   6077.0\n",
      "98  215380        текущий_месяц   6862.2\n"
     ]
    }
   ],
   "source": [
    "print(market_money[market_money['id'] == 215380])"
   ]
  },
  {
   "cell_type": "code",
   "execution_count": 20,
   "metadata": {},
   "outputs": [
    {
     "data": {
      "text/html": [
       "<div>\n",
       "<style scoped>\n",
       "    .dataframe tbody tr th:only-of-type {\n",
       "        vertical-align: middle;\n",
       "    }\n",
       "\n",
       "    .dataframe tbody tr th {\n",
       "        vertical-align: top;\n",
       "    }\n",
       "\n",
       "    .dataframe thead th {\n",
       "        text-align: right;\n",
       "    }\n",
       "</style>\n",
       "<table border=\"1\" class=\"dataframe\">\n",
       "  <thead>\n",
       "    <tr style=\"text-align: right;\">\n",
       "      <th></th>\n",
       "      <th>id</th>\n",
       "      <th>покупательская_активность</th>\n",
       "      <th>тип_сервиса</th>\n",
       "      <th>разрешить_сообщать</th>\n",
       "      <th>маркет_актив_6_мес</th>\n",
       "      <th>маркет_актив_тек_мес</th>\n",
       "      <th>длительность</th>\n",
       "      <th>акционные_покупки</th>\n",
       "      <th>популярная_категория</th>\n",
       "      <th>средний_просмотр_категорий_за_визит</th>\n",
       "      <th>неоплаченные_продукты_штук_квартал</th>\n",
       "      <th>ошибка_сервиса</th>\n",
       "      <th>страниц_за_визит</th>\n",
       "    </tr>\n",
       "  </thead>\n",
       "  <tbody>\n",
       "    <tr>\n",
       "      <th>0</th>\n",
       "      <td>215348</td>\n",
       "      <td>1</td>\n",
       "      <td>1</td>\n",
       "      <td>1</td>\n",
       "      <td>3.4</td>\n",
       "      <td>5</td>\n",
       "      <td>121</td>\n",
       "      <td>0.00</td>\n",
       "      <td>товары для детей</td>\n",
       "      <td>6</td>\n",
       "      <td>2</td>\n",
       "      <td>1</td>\n",
       "      <td>5</td>\n",
       "    </tr>\n",
       "    <tr>\n",
       "      <th>1</th>\n",
       "      <td>215349</td>\n",
       "      <td>1</td>\n",
       "      <td>1</td>\n",
       "      <td>1</td>\n",
       "      <td>4.4</td>\n",
       "      <td>4</td>\n",
       "      <td>819</td>\n",
       "      <td>0.75</td>\n",
       "      <td>товары для детей</td>\n",
       "      <td>4</td>\n",
       "      <td>4</td>\n",
       "      <td>2</td>\n",
       "      <td>5</td>\n",
       "    </tr>\n",
       "    <tr>\n",
       "      <th>2</th>\n",
       "      <td>215350</td>\n",
       "      <td>1</td>\n",
       "      <td>0</td>\n",
       "      <td>0</td>\n",
       "      <td>4.9</td>\n",
       "      <td>3</td>\n",
       "      <td>539</td>\n",
       "      <td>0.14</td>\n",
       "      <td>домашний текстиль</td>\n",
       "      <td>5</td>\n",
       "      <td>2</td>\n",
       "      <td>1</td>\n",
       "      <td>5</td>\n",
       "    </tr>\n",
       "    <tr>\n",
       "      <th>3</th>\n",
       "      <td>215351</td>\n",
       "      <td>1</td>\n",
       "      <td>0</td>\n",
       "      <td>1</td>\n",
       "      <td>3.2</td>\n",
       "      <td>5</td>\n",
       "      <td>896</td>\n",
       "      <td>0.99</td>\n",
       "      <td>товары для детей</td>\n",
       "      <td>5</td>\n",
       "      <td>0</td>\n",
       "      <td>6</td>\n",
       "      <td>4</td>\n",
       "    </tr>\n",
       "    <tr>\n",
       "      <th>4</th>\n",
       "      <td>215352</td>\n",
       "      <td>1</td>\n",
       "      <td>0</td>\n",
       "      <td>0</td>\n",
       "      <td>5.1</td>\n",
       "      <td>3</td>\n",
       "      <td>1064</td>\n",
       "      <td>0.94</td>\n",
       "      <td>товары для детей</td>\n",
       "      <td>3</td>\n",
       "      <td>2</td>\n",
       "      <td>3</td>\n",
       "      <td>2</td>\n",
       "    </tr>\n",
       "  </tbody>\n",
       "</table>\n",
       "</div>"
      ],
      "text/plain": [
       "       id  покупательская_активность  тип_сервиса  разрешить_сообщать  \\\n",
       "0  215348                          1            1                   1   \n",
       "1  215349                          1            1                   1   \n",
       "2  215350                          1            0                   0   \n",
       "3  215351                          1            0                   1   \n",
       "4  215352                          1            0                   0   \n",
       "\n",
       "   маркет_актив_6_мес  маркет_актив_тек_мес  длительность  акционные_покупки  \\\n",
       "0                 3.4                     5           121               0.00   \n",
       "1                 4.4                     4           819               0.75   \n",
       "2                 4.9                     3           539               0.14   \n",
       "3                 3.2                     5           896               0.99   \n",
       "4                 5.1                     3          1064               0.94   \n",
       "\n",
       "  популярная_категория  средний_просмотр_категорий_за_визит  \\\n",
       "0     товары для детей                                    6   \n",
       "1     товары для детей                                    4   \n",
       "2    домашний текстиль                                    5   \n",
       "3     товары для детей                                    5   \n",
       "4     товары для детей                                    3   \n",
       "\n",
       "   неоплаченные_продукты_штук_квартал  ошибка_сервиса  страниц_за_визит  \n",
       "0                                   2               1                 5  \n",
       "1                                   4               2                 5  \n",
       "2                                   2               1                 5  \n",
       "3                                   0               6                 4  \n",
       "4                                   2               3                 2  "
      ]
     },
     "execution_count": 20,
     "metadata": {},
     "output_type": "execute_result"
    }
   ],
   "source": [
    "market_file.head()"
   ]
  },
  {
   "cell_type": "markdown",
   "metadata": {},
   "source": [
    "Далее построим диаграммы распределения."
   ]
  },
  {
   "cell_type": "code",
   "execution_count": 21,
   "metadata": {
    "scrolled": true
   },
   "outputs": [
    {
     "data": {
      "image/png": "[encoded data removed]",
      "text/plain": [
       "<Figure size 1080x360 with 1 Axes>"
      ]
     },
     "metadata": {
      "needs_background": "light"
     },
     "output_type": "display_data"
    },
    {
     "data": {
      "image/png": "[encoded data removed]",
      "text/plain": [
       "<Figure size 1080x360 with 1 Axes>"
      ]
     },
     "metadata": {
      "needs_background": "light"
     },
     "output_type": "display_data"
    },
    {
     "data": {
      "image/png": "[encoded data removed]",
      "text/plain": [
       "<Figure size 1080x360 with 1 Axes>"
      ]
     },
     "metadata": {
      "needs_background": "light"
     },
     "output_type": "display_data"
    },
    {
     "data": {
      "image/png": "[encoded data removed]",
      "text/plain": [
       "<Figure size 1080x360 with 1 Axes>"
      ]
     },
     "metadata": {
      "needs_background": "light"
     },
     "output_type": "display_data"
    },
    {
     "data": {
      "image/png": "[encoded data removed]",
      "text/plain": [
       "<Figure size 1080x360 with 1 Axes>"
      ]
     },
     "metadata": {
      "needs_background": "light"
     },
     "output_type": "display_data"
    },
    {
     "data": {
      "image/png": "[encoded data removed]",
      "text/plain": [
       "<Figure size 1080x360 with 1 Axes>"
      ]
     },
     "metadata": {
      "needs_background": "light"
     },
     "output_type": "display_data"
    },
    {
     "data": {
      "image/png": "[encoded data removed]",
      "text/plain": [
       "<Figure size 1080x360 with 1 Axes>"
      ]
     },
     "metadata": {
      "needs_background": "light"
     },
     "output_type": "display_data"
    },
    {
     "data": {
      "image/png": "[encoded data removed]",
      "text/plain": [
       "<Figure size 1080x360 with 1 Axes>"
      ]
     },
     "metadata": {
      "needs_background": "light"
     },
     "output_type": "display_data"
    },
    {
     "data": {
      "image/png": "[encoded data removed]",
      "text/plain": [
       "<Figure size 1080x360 with 1 Axes>"
      ]
     },
     "metadata": {
      "needs_background": "light"
     },
     "output_type": "display_data"
    },
    {
     "data": {
      "image/png": "[encoded data removed]",
      "text/plain": [
       "<Figure size 1080x360 with 1 Axes>"
      ]
     },
     "metadata": {
      "needs_background": "light"
     },
     "output_type": "display_data"
    },
    {
     "data": {
      "image/png": "[encoded data removed]",
      "text/plain": [
       "<Figure size 1080x360 with 1 Axes>"
      ]
     },
     "metadata": {
      "needs_background": "light"
     },
     "output_type": "display_data"
    },
    {
     "data": {
      "image/png": "[encoded data removed]",
      "text/plain": [
       "<Figure size 1080x360 with 1 Axes>"
      ]
     },
     "metadata": {
      "needs_background": "light"
     },
     "output_type": "display_data"
    }
   ],
   "source": [
    "cat_cols = ['популярная_категория']\n",
    "\n",
    "discrete_cols = ['покупательская_активность', 'тип_сервиса', 'разрешить_сообщать', 'маркет_актив_тек_мес',\n",
    "                'средний_просмотр_категорий_за_визит', 'неоплаченные_продукты_штук_квартал',\n",
    "                'ошибка_сервиса', 'страниц_за_визит']\n",
    "\n",
    "continuous_cols = ['маркет_актив_6_мес', 'акционные_покупки', 'длительность']\n",
    "\n",
    "for col in continuous_cols:\n",
    "    plt.figure(figsize=(15, 5))\n",
    "    sns.histplot(\n",
    "        data=market_file[col],\n",
    "        kde=True,\n",
    "        bins='auto'\n",
    "    )\n",
    "    plt.grid(True, linestyle='-', alpha=0.5)\n",
    "    plt.title(f\"Распределение непрерывного признака: {col}\")\n",
    "    plt.xlabel(col)\n",
    "    plt.ylabel('Частота')\n",
    "    plt.show()\n",
    "\n",
    "for col in discrete_cols:\n",
    "    plt.figure(figsize=(15, 5))\n",
    "    sns.countplot(\n",
    "        x=market_file[col]\n",
    "    )\n",
    "    plt.grid(True, linestyle='-', alpha=0.5)\n",
    "    plt.title(f\"Распределение дискретного признака: {col}\")\n",
    "    plt.xlabel(col)\n",
    "    plt.ylabel('Количество')\n",
    "    plt.tight_layout()\n",
    "    plt.show()\n",
    "\n",
    "for col in cat_cols:\n",
    "    plt.figure(figsize=(15, 5))\n",
    "    sns.countplot(\n",
    "        x=market_file[col]\n",
    "    )\n",
    "    plt.grid(True, linestyle='-', alpha=0.5)\n",
    "    plt.title(f\"Распределение категориального признака: {col}\")\n",
    "    plt.xlabel(col)\n",
    "    plt.ylabel('Количество')\n",
    "    plt.tight_layout()\n",
    "    plt.show()"
   ]
  },
  {
   "cell_type": "markdown",
   "metadata": {},
   "source": [
    "Выводы по market_file:  \n",
    "- покупательская активность снизилась значительно.\n",
    "- тип сервиса преобладает \"стандарт\".\n",
    "- большинство пользователей дают согласие на рекламу.\n",
    "- за последние 6 месяцев, в среднем было 4 маркентиговых активности на 1 пользователя.\n",
    "- в текущем месяце есть значения 3, 4 и 5 активностей, преобладают так же 4. Маркетинговая стратегия не изменилась за последние пол года.\n",
    "- \"жизненный цикл\" клиента или длительность с момента регистрации - распределение почти равномерное.\n",
    "- большинство клиентов берут со скидкой от 10% до 40% и при этом есть небольшая группа, с покупками со скидкой районе 99%.\n",
    "- в среднем количество просматриваемых категорий от 2 до 4.\n",
    "- от 1 до 5, в среднем колличестве неоплаченных позиций в корзине.\n",
    "- число сбоев наибольшое 4.\n",
    "- в среднем пользователь смотрит до 15 страниц.\n",
    "- самая популярная категория: \"товары для детей\", наименее популярная: \"кухонная посуда\"."
   ]
  },
  {
   "cell_type": "code",
   "execution_count": 22,
   "metadata": {},
   "outputs": [
    {
     "data": {
      "image/png": "[encoded data removed]",
      "text/plain": [
       "<Figure size 720x360 with 1 Axes>"
      ]
     },
     "metadata": {
      "needs_background": "light"
     },
     "output_type": "display_data"
    }
   ],
   "source": [
    "# market_money\n",
    "market_money_group_period = market_money.groupby('период')['выручка'].sum()\n",
    "market_money_group_period = market_money_group_period.reset_index()\n",
    "market_money_group_period.columns = ['период', 'выручка']\n",
    "period_order = ['препредыдущий_месяц', 'предыдущий_месяц', 'текущий_месяц']\n",
    "market_money_group_period['период'] = pd.Categorical(\n",
    "    market_money_group_period['период'], \n",
    "    categories=period_order, \n",
    "    ordered=True)\n",
    "\n",
    "plt.figure(figsize=(10, 5))\n",
    "ax = sns.barplot(\n",
    "    data=market_money_group_period,\n",
    "    x='период',\n",
    "    y='выручка')\n",
    "\n",
    "y_min = market_money_group_period['выручка'].min() * 0.98\n",
    "y_max = market_money_group_period['выручка'].max() * 1.02\n",
    "plt.ylim(y_min, y_max)\n",
    "\n",
    "for p in ax.patches:\n",
    "    ax.annotate(\n",
    "        f\"{p.get_height():,.0f}\", \n",
    "        (p.get_x() + p.get_width() / 2., p.get_height()),\n",
    "        ha='center', \n",
    "        va='center', \n",
    "        xytext=(0, 10), \n",
    "        textcoords='offset points')\n",
    "\n",
    "plt.title('Выручка по периодам')\n",
    "plt.grid(axis='y', linestyle='--', alpha=0.4)  \n",
    "plt.show()"
   ]
  },
  {
   "cell_type": "code",
   "execution_count": 23,
   "metadata": {},
   "outputs": [
    {
     "name": "stdout",
     "output_type": "stream",
     "text": [
      "период\n",
      "предыдущий_месяц       1297\n",
      "препредыдущий_месяц    1297\n",
      "текущий_месяц          1300\n",
      "Name: id, dtype: int64\n"
     ]
    }
   ],
   "source": [
    "# проверим количество активных покупатель в каждом периоде\n",
    "active_buyers = market_money[market_money['выручка'] > 0].groupby('период')['id'].nunique()\n",
    "print(active_buyers)"
   ]
  },
  {
   "cell_type": "markdown",
   "metadata": {},
   "source": [
    "Выручка растет каждый месяц, при том же количестве покупателей."
   ]
  },
  {
   "cell_type": "markdown",
   "metadata": {},
   "source": [
    "## 4. Объединение таблиц"
   ]
  },
  {
   "cell_type": "markdown",
   "metadata": {},
   "source": [
    "Развернем таблицы по периодам. Далее объединим по столбцы 'id'."
   ]
  },
  {
   "cell_type": "code",
   "execution_count": 24,
   "metadata": {},
   "outputs": [],
   "source": [
    "money_pivot = market_money.pivot(\n",
    "    index='id',\n",
    "    columns='период',\n",
    "    values='выручка'\n",
    ").add_prefix('выручка_').reset_index()\n",
    "\n",
    "money_pivot.columns = ['id', 'выручка_препред', 'выручка_пред', 'выручка_тек']"
   ]
  },
  {
   "cell_type": "code",
   "execution_count": 25,
   "metadata": {},
   "outputs": [],
   "source": [
    "time_pivot = market_time.pivot(\n",
    "    index='id',\n",
    "    columns='период',\n",
    "    values='минут'\n",
    ").add_prefix('время_').reset_index()\n",
    "\n",
    "time_pivot = time_pivot.rename(columns={'время_предыдущий_месяц': 'время_пред'})"
   ]
  },
  {
   "cell_type": "code",
   "execution_count": 26,
   "metadata": {},
   "outputs": [
    {
     "data": {
      "text/html": [
       "<div>\n",
       "<style scoped>\n",
       "    .dataframe tbody tr th:only-of-type {\n",
       "        vertical-align: middle;\n",
       "    }\n",
       "\n",
       "    .dataframe tbody tr th {\n",
       "        vertical-align: top;\n",
       "    }\n",
       "\n",
       "    .dataframe thead th {\n",
       "        text-align: right;\n",
       "    }\n",
       "</style>\n",
       "<table border=\"1\" class=\"dataframe\">\n",
       "  <thead>\n",
       "    <tr style=\"text-align: right;\">\n",
       "      <th></th>\n",
       "      <th>id</th>\n",
       "      <th>покупательская_активность</th>\n",
       "      <th>тип_сервиса</th>\n",
       "      <th>разрешить_сообщать</th>\n",
       "      <th>маркет_актив_6_мес</th>\n",
       "      <th>маркет_актив_тек_мес</th>\n",
       "      <th>длительность</th>\n",
       "      <th>акционные_покупки</th>\n",
       "      <th>популярная_категория</th>\n",
       "      <th>средний_просмотр_категорий_за_визит</th>\n",
       "      <th>неоплаченные_продукты_штук_квартал</th>\n",
       "      <th>ошибка_сервиса</th>\n",
       "      <th>страниц_за_визит</th>\n",
       "      <th>выручка_препред</th>\n",
       "      <th>выручка_пред</th>\n",
       "      <th>выручка_тек</th>\n",
       "      <th>время_пред</th>\n",
       "      <th>время_текущий_месяц</th>\n",
       "    </tr>\n",
       "  </thead>\n",
       "  <tbody>\n",
       "    <tr>\n",
       "      <th>0</th>\n",
       "      <td>215348</td>\n",
       "      <td>1</td>\n",
       "      <td>1</td>\n",
       "      <td>1</td>\n",
       "      <td>3.4</td>\n",
       "      <td>5</td>\n",
       "      <td>121</td>\n",
       "      <td>0.00</td>\n",
       "      <td>товары для детей</td>\n",
       "      <td>6</td>\n",
       "      <td>2</td>\n",
       "      <td>1</td>\n",
       "      <td>5</td>\n",
       "      <td>0.0</td>\n",
       "      <td>0.0</td>\n",
       "      <td>3293.1</td>\n",
       "      <td>13</td>\n",
       "      <td>14</td>\n",
       "    </tr>\n",
       "    <tr>\n",
       "      <th>1</th>\n",
       "      <td>215349</td>\n",
       "      <td>1</td>\n",
       "      <td>1</td>\n",
       "      <td>1</td>\n",
       "      <td>4.4</td>\n",
       "      <td>4</td>\n",
       "      <td>819</td>\n",
       "      <td>0.75</td>\n",
       "      <td>товары для детей</td>\n",
       "      <td>4</td>\n",
       "      <td>4</td>\n",
       "      <td>2</td>\n",
       "      <td>5</td>\n",
       "      <td>5216.0</td>\n",
       "      <td>4472.0</td>\n",
       "      <td>4971.6</td>\n",
       "      <td>12</td>\n",
       "      <td>10</td>\n",
       "    </tr>\n",
       "    <tr>\n",
       "      <th>2</th>\n",
       "      <td>215350</td>\n",
       "      <td>1</td>\n",
       "      <td>0</td>\n",
       "      <td>0</td>\n",
       "      <td>4.9</td>\n",
       "      <td>3</td>\n",
       "      <td>539</td>\n",
       "      <td>0.14</td>\n",
       "      <td>домашний текстиль</td>\n",
       "      <td>5</td>\n",
       "      <td>2</td>\n",
       "      <td>1</td>\n",
       "      <td>5</td>\n",
       "      <td>5457.5</td>\n",
       "      <td>4826.0</td>\n",
       "      <td>5058.4</td>\n",
       "      <td>8</td>\n",
       "      <td>13</td>\n",
       "    </tr>\n",
       "    <tr>\n",
       "      <th>3</th>\n",
       "      <td>215351</td>\n",
       "      <td>1</td>\n",
       "      <td>0</td>\n",
       "      <td>1</td>\n",
       "      <td>3.2</td>\n",
       "      <td>5</td>\n",
       "      <td>896</td>\n",
       "      <td>0.99</td>\n",
       "      <td>товары для детей</td>\n",
       "      <td>5</td>\n",
       "      <td>0</td>\n",
       "      <td>6</td>\n",
       "      <td>4</td>\n",
       "      <td>6158.0</td>\n",
       "      <td>4793.0</td>\n",
       "      <td>6610.4</td>\n",
       "      <td>11</td>\n",
       "      <td>13</td>\n",
       "    </tr>\n",
       "    <tr>\n",
       "      <th>4</th>\n",
       "      <td>215352</td>\n",
       "      <td>1</td>\n",
       "      <td>0</td>\n",
       "      <td>0</td>\n",
       "      <td>5.1</td>\n",
       "      <td>3</td>\n",
       "      <td>1064</td>\n",
       "      <td>0.94</td>\n",
       "      <td>товары для детей</td>\n",
       "      <td>3</td>\n",
       "      <td>2</td>\n",
       "      <td>3</td>\n",
       "      <td>2</td>\n",
       "      <td>5807.5</td>\n",
       "      <td>4594.0</td>\n",
       "      <td>5872.5</td>\n",
       "      <td>8</td>\n",
       "      <td>11</td>\n",
       "    </tr>\n",
       "  </tbody>\n",
       "</table>\n",
       "</div>"
      ],
      "text/plain": [
       "       id  покупательская_активность  тип_сервиса  разрешить_сообщать  \\\n",
       "0  215348                          1            1                   1   \n",
       "1  215349                          1            1                   1   \n",
       "2  215350                          1            0                   0   \n",
       "3  215351                          1            0                   1   \n",
       "4  215352                          1            0                   0   \n",
       "\n",
       "   маркет_актив_6_мес  маркет_актив_тек_мес  длительность  акционные_покупки  \\\n",
       "0                 3.4                     5           121               0.00   \n",
       "1                 4.4                     4           819               0.75   \n",
       "2                 4.9                     3           539               0.14   \n",
       "3                 3.2                     5           896               0.99   \n",
       "4                 5.1                     3          1064               0.94   \n",
       "\n",
       "  популярная_категория  средний_просмотр_категорий_за_визит  \\\n",
       "0     товары для детей                                    6   \n",
       "1     товары для детей                                    4   \n",
       "2    домашний текстиль                                    5   \n",
       "3     товары для детей                                    5   \n",
       "4     товары для детей                                    3   \n",
       "\n",
       "   неоплаченные_продукты_штук_квартал  ошибка_сервиса  страниц_за_визит  \\\n",
       "0                                   2               1                 5   \n",
       "1                                   4               2                 5   \n",
       "2                                   2               1                 5   \n",
       "3                                   0               6                 4   \n",
       "4                                   2               3                 2   \n",
       "\n",
       "   выручка_препред  выручка_пред  выручка_тек  время_пред  время_текущий_месяц  \n",
       "0              0.0           0.0       3293.1          13                   14  \n",
       "1           5216.0        4472.0       4971.6          12                   10  \n",
       "2           5457.5        4826.0       5058.4           8                   13  \n",
       "3           6158.0        4793.0       6610.4          11                   13  \n",
       "4           5807.5        4594.0       5872.5           8                   11  "
      ]
     },
     "metadata": {},
     "output_type": "display_data"
    }
   ],
   "source": [
    "final_df = (\n",
    "    market_file\n",
    "    .merge(money_pivot, on='id', how='left')\n",
    "    .merge(time_pivot, on='id', how='left')\n",
    ")\n",
    "# Удаляем пользователей без полной истории покупок\n",
    "active_users = market_money.groupby('id')['период'].nunique()\n",
    "active_users = active_users[active_users == 3].index.tolist()\n",
    "\n",
    "final_df = final_df[final_df['id'].isin(active_users)]\n",
    "display(final_df.head())"
   ]
  },
  {
   "cell_type": "markdown",
   "metadata": {},
   "source": [
    "Развернули таблицы по периода, для удобства и объеденили."
   ]
  },
  {
   "cell_type": "markdown",
   "metadata": {},
   "source": [
    "## 5. Корреляционный анализ"
   ]
  },
  {
   "cell_type": "markdown",
   "metadata": {},
   "source": [
    "Проведем корреляционный анализ."
   ]
  },
  {
   "cell_type": "code",
   "execution_count": 27,
   "metadata": {},
   "outputs": [
    {
     "name": "stdout",
     "output_type": "stream",
     "text": [
      "Непрерывные признаки для phik: ['маркет_актив_6_мес', 'длительность', 'акционные_покупки', 'выручка_тек', 'время_текущий_месяц']\n"
     ]
    },
    {
     "data": {
      "image/png": "[encoded data removed]",
      "text/plain": [
       "<Figure size 1152x720 with 2 Axes>"
      ]
     },
     "metadata": {
      "needs_background": "light"
     },
     "output_type": "display_data"
    }
   ],
   "source": [
    "columns_to_drop = ['id', 'выручка_препред', 'выручка_пред', 'время_пред']  # все технические столбцы\n",
    "final_df_no_id = final_df.drop(columns=columns_to_drop)\n",
    "\n",
    "continuous_for_phik = [\n",
    "    'маркет_актив_6_мес', 'длительность', 'акционные_покупки',\n",
    "    'выручка_тек', 'время_текущий_месяц', 'прибыль'\n",
    "]\n",
    "\n",
    "available_continuous = [f for f in continuous_for_phik if f in final_df_no_id.columns]\n",
    "print(\"Непрерывные признаки для phik:\", available_continuous)\n",
    "\n",
    "corr_matrix = final_df_no_id.phik_matrix(interval_cols=available_continuous)\n",
    "\n",
    "plt.figure(figsize=(16, 10))\n",
    "sns.heatmap(\n",
    "    data=corr_matrix,\n",
    "    annot=True,\n",
    "    fmt='0.2f',\n",
    "    vmin=-1,\n",
    "    vmax=1,\n",
    "    cmap='coolwarm',\n",
    "    center=0,\n",
    "    square=True\n",
    ")\n",
    "plt.title('Матрица корреляции Phi-K (Phik) между признаками', fontsize=16, pad=20)\n",
    "plt.xticks(rotation=45, ha='right')\n",
    "plt.yticks(rotation=0)\n",
    "plt.tight_layout()\n",
    "plt.show()"
   ]
  },
  {
   "cell_type": "markdown",
   "metadata": {},
   "source": [
    "Видим, что у **покупательской активности** корреляция с:  \n",
    "    - маркет_актив_6_месяц  \n",
    "    - акционные_покупки  \n",
    "    - средний просмотр_категорий_за_визит  \n",
    "    - неоплаченные_продукты_штук_квартал  \n",
    "    - страниц_за_визит  \n",
    "    - выручка_пред  \n",
    "    - время_пред  \n",
    "    - время_текущий_месяц  \n",
    "Сильной мультиколлинеарности - нет."
   ]
  },
  {
   "cell_type": "code",
   "execution_count": 28,
   "metadata": {},
   "outputs": [
    {
     "data": {
      "text/html": [
       "<div>\n",
       "<style scoped>\n",
       "    .dataframe tbody tr th:only-of-type {\n",
       "        vertical-align: middle;\n",
       "    }\n",
       "\n",
       "    .dataframe tbody tr th {\n",
       "        vertical-align: top;\n",
       "    }\n",
       "\n",
       "    .dataframe thead th {\n",
       "        text-align: right;\n",
       "    }\n",
       "</style>\n",
       "<table border=\"1\" class=\"dataframe\">\n",
       "  <thead>\n",
       "    <tr style=\"text-align: right;\">\n",
       "      <th></th>\n",
       "      <th>id</th>\n",
       "      <th>покупательская_активность</th>\n",
       "      <th>тип_сервиса</th>\n",
       "      <th>разрешить_сообщать</th>\n",
       "      <th>маркет_актив_6_мес</th>\n",
       "      <th>маркет_актив_тек_мес</th>\n",
       "      <th>длительность</th>\n",
       "      <th>акционные_покупки</th>\n",
       "      <th>популярная_категория</th>\n",
       "      <th>средний_просмотр_категорий_за_визит</th>\n",
       "      <th>неоплаченные_продукты_штук_квартал</th>\n",
       "      <th>ошибка_сервиса</th>\n",
       "      <th>страниц_за_визит</th>\n",
       "      <th>выручка_препред</th>\n",
       "      <th>выручка_пред</th>\n",
       "      <th>выручка_тек</th>\n",
       "      <th>время_пред</th>\n",
       "      <th>время_текущий_месяц</th>\n",
       "    </tr>\n",
       "  </thead>\n",
       "  <tbody>\n",
       "    <tr>\n",
       "      <th>0</th>\n",
       "      <td>215348</td>\n",
       "      <td>1</td>\n",
       "      <td>1</td>\n",
       "      <td>1</td>\n",
       "      <td>3.4</td>\n",
       "      <td>5</td>\n",
       "      <td>121</td>\n",
       "      <td>0.00</td>\n",
       "      <td>товары для детей</td>\n",
       "      <td>6</td>\n",
       "      <td>2</td>\n",
       "      <td>1</td>\n",
       "      <td>5</td>\n",
       "      <td>0.0</td>\n",
       "      <td>0.0</td>\n",
       "      <td>3293.1</td>\n",
       "      <td>13</td>\n",
       "      <td>14</td>\n",
       "    </tr>\n",
       "    <tr>\n",
       "      <th>1</th>\n",
       "      <td>215349</td>\n",
       "      <td>1</td>\n",
       "      <td>1</td>\n",
       "      <td>1</td>\n",
       "      <td>4.4</td>\n",
       "      <td>4</td>\n",
       "      <td>819</td>\n",
       "      <td>0.75</td>\n",
       "      <td>товары для детей</td>\n",
       "      <td>4</td>\n",
       "      <td>4</td>\n",
       "      <td>2</td>\n",
       "      <td>5</td>\n",
       "      <td>5216.0</td>\n",
       "      <td>4472.0</td>\n",
       "      <td>4971.6</td>\n",
       "      <td>12</td>\n",
       "      <td>10</td>\n",
       "    </tr>\n",
       "    <tr>\n",
       "      <th>2</th>\n",
       "      <td>215350</td>\n",
       "      <td>1</td>\n",
       "      <td>0</td>\n",
       "      <td>0</td>\n",
       "      <td>4.9</td>\n",
       "      <td>3</td>\n",
       "      <td>539</td>\n",
       "      <td>0.14</td>\n",
       "      <td>домашний текстиль</td>\n",
       "      <td>5</td>\n",
       "      <td>2</td>\n",
       "      <td>1</td>\n",
       "      <td>5</td>\n",
       "      <td>5457.5</td>\n",
       "      <td>4826.0</td>\n",
       "      <td>5058.4</td>\n",
       "      <td>8</td>\n",
       "      <td>13</td>\n",
       "    </tr>\n",
       "    <tr>\n",
       "      <th>3</th>\n",
       "      <td>215351</td>\n",
       "      <td>1</td>\n",
       "      <td>0</td>\n",
       "      <td>1</td>\n",
       "      <td>3.2</td>\n",
       "      <td>5</td>\n",
       "      <td>896</td>\n",
       "      <td>0.99</td>\n",
       "      <td>товары для детей</td>\n",
       "      <td>5</td>\n",
       "      <td>0</td>\n",
       "      <td>6</td>\n",
       "      <td>4</td>\n",
       "      <td>6158.0</td>\n",
       "      <td>4793.0</td>\n",
       "      <td>6610.4</td>\n",
       "      <td>11</td>\n",
       "      <td>13</td>\n",
       "    </tr>\n",
       "    <tr>\n",
       "      <th>4</th>\n",
       "      <td>215352</td>\n",
       "      <td>1</td>\n",
       "      <td>0</td>\n",
       "      <td>0</td>\n",
       "      <td>5.1</td>\n",
       "      <td>3</td>\n",
       "      <td>1064</td>\n",
       "      <td>0.94</td>\n",
       "      <td>товары для детей</td>\n",
       "      <td>3</td>\n",
       "      <td>2</td>\n",
       "      <td>3</td>\n",
       "      <td>2</td>\n",
       "      <td>5807.5</td>\n",
       "      <td>4594.0</td>\n",
       "      <td>5872.5</td>\n",
       "      <td>8</td>\n",
       "      <td>11</td>\n",
       "    </tr>\n",
       "  </tbody>\n",
       "</table>\n",
       "</div>"
      ],
      "text/plain": [
       "       id  покупательская_активность  тип_сервиса  разрешить_сообщать  \\\n",
       "0  215348                          1            1                   1   \n",
       "1  215349                          1            1                   1   \n",
       "2  215350                          1            0                   0   \n",
       "3  215351                          1            0                   1   \n",
       "4  215352                          1            0                   0   \n",
       "\n",
       "   маркет_актив_6_мес  маркет_актив_тек_мес  длительность  акционные_покупки  \\\n",
       "0                 3.4                     5           121               0.00   \n",
       "1                 4.4                     4           819               0.75   \n",
       "2                 4.9                     3           539               0.14   \n",
       "3                 3.2                     5           896               0.99   \n",
       "4                 5.1                     3          1064               0.94   \n",
       "\n",
       "  популярная_категория  средний_просмотр_категорий_за_визит  \\\n",
       "0     товары для детей                                    6   \n",
       "1     товары для детей                                    4   \n",
       "2    домашний текстиль                                    5   \n",
       "3     товары для детей                                    5   \n",
       "4     товары для детей                                    3   \n",
       "\n",
       "   неоплаченные_продукты_штук_квартал  ошибка_сервиса  страниц_за_визит  \\\n",
       "0                                   2               1                 5   \n",
       "1                                   4               2                 5   \n",
       "2                                   2               1                 5   \n",
       "3                                   0               6                 4   \n",
       "4                                   2               3                 2   \n",
       "\n",
       "   выручка_препред  выручка_пред  выручка_тек  время_пред  время_текущий_месяц  \n",
       "0              0.0           0.0       3293.1          13                   14  \n",
       "1           5216.0        4472.0       4971.6          12                   10  \n",
       "2           5457.5        4826.0       5058.4           8                   13  \n",
       "3           6158.0        4793.0       6610.4          11                   13  \n",
       "4           5807.5        4594.0       5872.5           8                   11  "
      ]
     },
     "execution_count": 28,
     "metadata": {},
     "output_type": "execute_result"
    }
   ],
   "source": [
    "final_df.head()"
   ]
  },
  {
   "cell_type": "markdown",
   "metadata": {},
   "source": [
    "## 6. Использование пайплайнов"
   ]
  },
  {
   "cell_type": "markdown",
   "metadata": {},
   "source": [
    "ОБОСНОВАНИЕ ВЫБОРА МЕТРИКИ ROC-AUC:\n",
    "1. Дисбаланс классов: в наших данных распределение целевой переменной неравномерно\n",
    "2. ROC-AUC показывает качество разделения классов независимо от порога классификации\n",
    "3. Метрика устойчива к дисбалансу классов и хорошо подходит для бинарной классификации\n",
    "4. Позволяет оценивать модель на различных порогах принятия решений"
   ]
  },
  {
   "cell_type": "code",
   "execution_count": 29,
   "metadata": {},
   "outputs": [],
   "source": [
    "RANDOM_STATE = 42\n",
    "TEST_SIZE = 0.25\n",
    "\n",
    "# выделяем признаки\n",
    "excluded_features = ['id', 'страниц_за_визит', 'время_пред', 'маркет_актив_тек_мес', 'выручка_пред']\n",
    "categorical_features = ['тип_сервиса', 'разрешить_сообщать', 'популярная_категория']\n",
    "numerical_features = [\n",
    "    'маркет_актив_6_мес', 'длительность', 'акционные_покупки',\n",
    "    'средний_просмотр_категорий_за_визит', 'неоплаченные_продукты_штук_квартал',\n",
    "    'ошибка_сервиса', 'выручка_тек', 'время_текущий_месяц']\n",
    "\n",
    "numerical_std = [\n",
    "    'маркет_актив_6_мес', 'длительность', 'акционные_покупки',\n",
    "    'средний_просмотр_категорий_за_визит', 'ошибка_сервиса', 'время_текущий_месяц']\n",
    "numerical_robust = [\n",
    "    'неоплаченные_продукты_штук_квартал', 'выручка_тек']\n",
    "categorical_ordinal = ['тип_сервиса', 'разрешить_сообщать']\n",
    "categorical_ohe = ['популярная_категория']\n",
    "ordinal_categories = {\n",
    "    'тип_сервиса': [0, 1],\n",
    "    'разрешить_сообщать': [0, 1]}"
   ]
  },
  {
   "cell_type": "code",
   "execution_count": 30,
   "metadata": {},
   "outputs": [],
   "source": [
    "# создаем пайплайн\n",
    "preprocessor = ColumnTransformer(\n",
    "    transformers=[\n",
    "        ('num_std', Pipeline(steps=[\n",
    "            ('imputer', SimpleImputer(strategy='median')),\n",
    "            ('scaler', StandardScaler())\n",
    "        ]), numerical_std),\n",
    "        \n",
    "        ('num_robust', Pipeline(steps=[\n",
    "            ('imputer', SimpleImputer(strategy='median')),\n",
    "            ('scaler', RobustScaler())\n",
    "        ]), numerical_robust),\n",
    "        \n",
    "        ('cat_ordinal', Pipeline(steps=[\n",
    "            ('imputer', SimpleImputer(strategy='most_frequent')),\n",
    "            ('encoder', OrdinalEncoder(\n",
    "                categories=[ordinal_categories[feat] for feat in categorical_ordinal],\n",
    "                handle_unknown='use_encoded_value', \n",
    "                unknown_value=np.nan\n",
    "        )),\n",
    "        ('simpleImputer_after_ord', SimpleImputer(missing_values=np.nan, strategy='most_frequent'))\n",
    "        ]), categorical_ordinal),\n",
    "        \n",
    "        ('cat_ohe', Pipeline(steps=[\n",
    "            ('imputer', SimpleImputer(strategy='most_frequent')),\n",
    "            ('encoder', OneHotEncoder(handle_unknown='ignore', sparse=False))\n",
    "        ]), categorical_ohe)\n",
    "    ],\n",
    "    remainder='drop'\n",
    ")\n",
    "\n",
    "pipe_final = Pipeline(steps=[\n",
    "    ('preprocessor', preprocessor),\n",
    "    ('classifier', None)\n",
    "])"
   ]
  },
  {
   "cell_type": "code",
   "execution_count": 31,
   "metadata": {},
   "outputs": [],
   "source": [
    "RANDOM_STATE = 42\n",
    "TEST_SIZE = 0.25\n",
    "\n",
    "# готовим данные для модели\n",
    "X = final_df.drop(columns=['покупательская_активность'] + excluded_features)\n",
    "y = final_df['покупательская_активность']\n",
    "\n",
    "X_train, X_test, y_train, y_test = train_test_split(\n",
    "    X, y, \n",
    "    test_size=TEST_SIZE, \n",
    "    random_state=RANDOM_STATE,\n",
    "    stratify=y)"
   ]
  },
  {
   "cell_type": "code",
   "execution_count": 34,
   "metadata": {},
   "outputs": [],
   "source": [
    "# подбираем гиперпараметры\n",
    "param_distributions = [\n",
    "    # DecisionTreeClassifier\n",
    "    {\n",
    "        \"classifier\": [DecisionTreeClassifier(random_state=RANDOM_STATE)],\n",
    "        \"classifier__max_depth\": [3, 5, 7, 10],\n",
    "        \"classifier__min_samples_split\": [2, 5, 10]\n",
    "    },\n",
    "     \n",
    "    # LogisticRegression\n",
    "    {\n",
    "        \"classifier\": [LogisticRegression(random_state=RANDOM_STATE, max_iter=1000)],\n",
    "        \"classifier__C\": [0.1, 1, 10],\n",
    "        \"classifier__solver\": ['liblinear']\n",
    "    },\n",
    "    \n",
    "    # ⭐ НОВАЯ МОДЕЛЬ: RandomForest\n",
    "    {\n",
    "        \"classifier\": [RandomForestClassifier(random_state=RANDOM_STATE)],\n",
    "        \"classifier__n_estimators\": [50, 100, 200],\n",
    "        \"classifier__max_depth\": [5, 10, None],\n",
    "        \"classifier__min_samples_split\": [2, 5]\n",
    "    },\n",
    "    \n",
    "    # ⭐ НОВАЯ МОДЕЛЬ: KNeighbors\n",
    "    {\n",
    "        \"classifier\": [KNeighborsClassifier()],\n",
    "        \"classifier__n_neighbors\": [3, 5, 7],\n",
    "        \"classifier__weights\": ['uniform', 'distance']\n",
    "    }\n",
    "]\n",
    "\n",
    "randomized_search = RandomizedSearchCV(\n",
    "    estimator=pipe_final,\n",
    "    param_distributions=param_distributions,\n",
    "    n_iter=4,\n",
    "    cv=3,\n",
    "    scoring='roc_auc',\n",
    "    random_state=RANDOM_STATE,\n",
    "    n_jobs=-1,\n",
    "    verbose=1)"
   ]
  },
  {
   "cell_type": "code",
   "execution_count": 35,
   "metadata": {
    "scrolled": false
   },
   "outputs": [
    {
     "name": "stdout",
     "output_type": "stream",
     "text": [
      "Fitting 3 folds for each of 4 candidates, totalling 12 fits\n",
      "\n",
      "Лучшая модель и её параметры:\n",
      "Pipeline(steps=[('preprocessor',\n",
      "                 ColumnTransformer(transformers=[('num_std',\n",
      "                                                  Pipeline(steps=[('imputer',\n",
      "                                                                   SimpleImputer(strategy='median')),\n",
      "                                                                  ('scaler',\n",
      "                                                                   StandardScaler())]),\n",
      "                                                  ['маркет_актив_6_мес',\n",
      "                                                   'длительность',\n",
      "                                                   'акционные_покупки',\n",
      "                                                   'средний_просмотр_категорий_за_визит',\n",
      "                                                   'ошибка_сервиса',\n",
      "                                                   'время_текущий_месяц']),\n",
      "                                                 ('num_robust',\n",
      "                                                  Pipeline(steps=[('imputer',\n",
      "                                                                   SimpleI...\n",
      "                                                                  ('simpleImputer_after_ord',\n",
      "                                                                   SimpleImputer(strategy='most_frequent'))]),\n",
      "                                                  ['тип_сервиса',\n",
      "                                                   'разрешить_сообщать']),\n",
      "                                                 ('cat_ohe',\n",
      "                                                  Pipeline(steps=[('imputer',\n",
      "                                                                   SimpleImputer(strategy='most_frequent')),\n",
      "                                                                  ('encoder',\n",
      "                                                                   OneHotEncoder(handle_unknown='ignore',\n",
      "                                                                                 sparse=False))]),\n",
      "                                                  ['популярная_категория'])])),\n",
      "                ('classifier',\n",
      "                 LogisticRegression(C=1, max_iter=1000, random_state=42,\n",
      "                                    solver='liblinear'))])\n",
      "Лучшая метрика ROC-AUC на кросс-валидации: 0.8803\n",
      "Оценка на тестовой выборке:\n",
      "ROC-AUC на тесте: 0.8669\n",
      "Accuracy на тесте: 0.8277\n",
      "F1-score на тесте: 0.7607\n"
     ]
    }
   ],
   "source": [
    "randomized_search.fit(X_train, y_train)\n",
    "    \n",
    "print('\\nЛучшая модель и её параметры:')\n",
    "print(randomized_search.best_estimator_)\n",
    "print('Лучшая метрика ROC-AUC на кросс-валидации:', randomized_search.best_score_.round(4))\n",
    "\n",
    "best_model = randomized_search.best_estimator_\n",
    "y_pred_proba = best_model.predict_proba(X_test)[:, 1]\n",
    "y_pred = best_model.predict(X_test)\n",
    "\n",
    "test_roc_auc = roc_auc_score(y_test, y_pred_proba)\n",
    "test_accuracy = accuracy_score(y_test, y_pred)\n",
    "test_f1 = f1_score(y_test, y_pred)\n",
    "\n",
    "print(\"Оценка на тестовой выборке:\")\n",
    "print(f\"ROC-AUC на тесте: {test_roc_auc:.4f}\")\n",
    "print(f\"Accuracy на тесте: {test_accuracy:.4f}\")\n",
    "print(f\"F1-score на тесте: {test_f1:.4f}\")"
   ]
  },
  {
   "cell_type": "code",
   "execution_count": null,
   "metadata": {},
   "outputs": [],
   "source": [
    "# baseline model\n",
    "dummy_clf = DummyClassifier(strategy='stratified', random_state=RANDOM_STATE)\n",
    "dummy_clf.fit(X_train, y_train)\n",
    "dummy_pred_proba = dummy_clf.predict_proba(X_test)[:, 1]\n",
    "dummy_roc_auc = roc_auc_score(y_test, dummy_pred_proba)\n",
    "\n",
    "print(f\"\\nROC-AUC Baseline (Dummy): {dummy_roc_auc:.4f}\")\n",
    "print(f\"Улучшение над baseline: {test_roc_auc - dummy_roc_auc:.4f}\")"
   ]
  },
  {
   "cell_type": "code",
   "execution_count": null,
   "metadata": {},
   "outputs": [],
   "source": [
    "# отчет классификации\n",
    "print(\"\\nОтчет классификации:\")\n",
    "print(classification_report(y_test, y_pred))"
   ]
  },
  {
   "cell_type": "markdown",
   "metadata": {},
   "source": [
    "Лучшая модель SVC, точность 0.9."
   ]
  },
  {
   "cell_type": "code",
   "execution_count": null,
   "metadata": {},
   "outputs": [],
   "source": [
    "final_df.head()"
   ]
  },
  {
   "cell_type": "markdown",
   "metadata": {},
   "source": [
    "## 7. Анализ важности признаков"
   ]
  },
  {
   "cell_type": "code",
   "execution_count": null,
   "metadata": {},
   "outputs": [],
   "source": [
    "preprocessor = best_model.named_steps['preprocessor']\n",
    "\n",
    "num_features = numerical_features.copy()\n",
    "\n",
    "cat_encoder = preprocessor.named_transformers_['cat_ohe'].named_steps['encoder']\n",
    "cat_features = list(cat_encoder.get_feature_names())\n",
    "\n",
    "feature_names = num_features + cat_features\n",
    "\n",
    "perm_importance = permutation_importance(\n",
    "    best_model,\n",
    "    X_test,\n",
    "    y_test,\n",
    "    n_repeats=5,\n",
    "    random_state=RANDOM_STATE,\n",
    "    n_jobs=-1\n",
    ")\n",
    "\n",
    "print(f\"Количество feature_names: {len(feature_names)}\")\n",
    "print(f\"Размер perm_importance: {len(perm_importance.importances_mean)}\")\n",
    "\n",
    "if len(perm_importance.importances_mean) != len(feature_names):\n",
    "    print(\"Внимание: размерности не совпадают! Используем первые n признаков.\")\n",
    "    n = min(len(perm_importance.importances_mean), len(feature_names))\n",
    "    importance_values = perm_importance.importances_mean[:n]\n",
    "    feature_names_plot = feature_names[:n]\n",
    "else:\n",
    "    importance_values = perm_importance.importances_mean\n",
    "    feature_names_plot = feature_names\n",
    "\n",
    "sorted_idx = importance_values.argsort()[::-1]\n",
    "\n",
    "plt.figure(figsize=(12, 10))\n",
    "bars = plt.barh(range(len(feature_names_plot)), \n",
    "                importance_values)\n",
    "plt.yticks(range(len(feature_names_plot)), \n",
    "           [feature_names_plot[i] for i in range(len(feature_names_plot))])\n",
    "plt.title('Важность признаков (Permutation Importance)')\n",
    "plt.xlabel('Среднее уменьшение точности')\n",
    "plt.gca().invert_yaxis()\n",
    "\n",
    "for i, bar in enumerate(bars):\n",
    "    if importance_values[i] > 0:\n",
    "        plt.text(bar.get_width() + 0.001, bar.get_y() + bar.get_height()/2,\n",
    "                 f'{importance_values[i]:.4f}',\n",
    "                 ha='left', va='center')\n",
    "\n",
    "plt.tight_layout()\n",
    "plt.show()\n",
    "\n",
    "print(\"Топ-10 самых важных признаков:\")\n",
    "for i in range(min(10, len(sorted_idx))):\n",
    "    idx = sorted_idx[i]\n",
    "    if importance_values[idx] > 0:\n",
    "        print(f\"{i+1}. {feature_names_plot[idx]}: {importance_values[idx]:.4f}\")"
   ]
  },
  {
   "cell_type": "markdown",
   "metadata": {},
   "source": [
    "## 8. Сегментация покупателей"
   ]
  },
  {
   "cell_type": "markdown",
   "metadata": {},
   "source": [
    "Произведем сегментацию покупателей."
   ]
  },
  {
   "cell_type": "code",
   "execution_count": null,
   "metadata": {},
   "outputs": [],
   "source": [
    "# 8.1 Подготовка данных для сегментации\n",
    "\n",
    "print(\"Размер final_df:\", final_df.shape)\n",
    "print(\"Размер money:\", money.shape)\n",
    "\n",
    "final_df_with_profit = final_df.merge(money[['id', 'прибыль']], on='id', how='left')\n",
    "print(\"Размер после объединения с прибылью:\", final_df_with_profit.shape)\n",
    "print(\"Пропуски в прибыли:\", final_df_with_profit['прибыль'].isnull().sum())\n",
    "\n",
    "categorical_features = ['тип_сервиса', 'разрешить_сообщать', 'популярная_категория']\n",
    "\n",
    "df_for_segmentation = final_df_with_profit.dropna(subset=['прибыль']).copy()\n",
    "print(\"Размер после удаления пропусков в прибыли:\", df_for_segmentation.shape)\n",
    "\n",
    "encoder = OneHotEncoder(drop='first', sparse=False)\n",
    "encoded_features = encoder.fit_transform(df_for_segmentation[categorical_features])\n",
    "encoded_feature_names = encoder.get_feature_names(categorical_features)\n",
    "\n",
    "encoded_df = pd.DataFrame(encoded_features, columns=encoded_feature_names, index=df_for_segmentation.index)\n",
    "\n",
    "numerical_features = [\n",
    "    'маркет_актив_6_мес', 'длительность', 'акционные_покупки',\n",
    "    'средний_просмотр_категорий_за_визит', 'неоплаченные_продукты_штук_квартал',\n",
    "    'ошибка_сервиса', 'выручка_тек', 'время_текущий_месяц', 'прибыль'\n",
    "]\n",
    "\n",
    "X_segment = pd.concat([\n",
    "    df_for_segmentation[numerical_features],\n",
    "    encoded_df\n",
    "], axis=1)\n",
    "\n",
    "print(\"Размер X_segment:\", X_segment.shape)\n",
    "print(\"Пропуски в X_segment:\", X_segment.isnull().sum().sum())\n",
    "\n",
    "important_features = [\n",
    "    'разрешить_сообщать_1',\n",
    "    'неоплаченные_продукты_штук_квартал',\n",
    "    'время_текущий_месяц', \n",
    "    'акционные_покупки',\n",
    "    'выручка_тек',\n",
    "    'прибыль'\n",
    "]\n",
    "\n",
    "available_features = [feat for feat in important_features if feat in X_segment.columns]\n",
    "print(\"Доступные признаки:\", available_features)\n",
    "\n",
    "X_cluster = X_segment[available_features].copy()\n",
    "print(\"Размер X_cluster:\", X_cluster.shape)\n",
    "\n",
    "if len(X_cluster) == 0:\n",
    "    print(\"ОШИБКА: X_cluster пустой!\")\n",
    "    print(\"Проверьте данные на пропуски\")\n",
    "else:\n",
    "    scaler = StandardScaler()\n",
    "    X_scaled = scaler.fit_transform(X_cluster)\n",
    "\n",
    "    kmeans = KMeans(n_clusters=4, random_state=RANDOM_STATE, n_init=10)\n",
    "    clusters = kmeans.fit_predict(X_scaled)\n",
    "\n",
    "    X_segment['cluster'] = clusters\n",
    "    X_segment['покупательская_активность'] = df_for_segmentation['покупательская_активность']\n",
    "\n",
    "    cluster_analysis = X_segment.groupby('cluster').agg({\n",
    "        'разрешить_сообщать_1': 'mean',\n",
    "        'неоплаченные_продукты_штук_квартал': 'mean',\n",
    "        'время_текущий_месяц': 'mean',\n",
    "        'акционные_покупки': 'mean',\n",
    "        'выручка_тек': 'mean',\n",
    "        'прибыль': 'mean',\n",
    "        'покупательская_активность': 'mean',\n",
    "        'cluster': 'count'\n",
    "    }).rename(columns={'cluster': 'count'})\n",
    "\n",
    "    print(\"АНАЛИЗ КЛАСТЕРОВ:\")\n",
    "    display(cluster_analysis.round(3))"
   ]
  },
  {
   "cell_type": "markdown",
   "metadata": {},
   "source": [
    "Далее проведем анализ кластеров."
   ]
  },
  {
   "cell_type": "code",
   "execution_count": null,
   "metadata": {},
   "outputs": [],
   "source": [
    "# Анализ характеристик кластеров\n",
    "print(\"ДЕТАЛЬНЫЙ АНАЛИЗ КЛАСТЕРОВ:\")\n",
    "print(\"=\" * 50)\n",
    "\n",
    "for cluster_id in range(4):\n",
    "    cluster_data = cluster_analysis.loc[cluster_id]\n",
    "    print(f\"\\nКЛАСТЕР {cluster_id} ({cluster_data['count']} клиентов):\")\n",
    "    print(f\"• Доля снизившейся активности: {cluster_data['покупательская_активность']:.1%}\")\n",
    "    print(f\"• Прибыльность: {cluster_data['прибыль']:.2f}\")\n",
    "    print(f\"• Выручка: {cluster_data['выручка_тек']:.0f}\")\n",
    "    print(f\"• Время на сайте: {cluster_data['время_текущий_месяц']:.1f} мин\")\n",
    "    print(f\"• Товаров в корзине: {cluster_data['неоплаченные_продукты_штук_квартал']:.1f}\")\n",
    "    print(f\"• Доля акционных покупок: {cluster_data['акционные_покупки']:.1%}\")\n",
    "    print(f\"• Согласны на коммуникацию: {cluster_data['разрешить_сообщать_1']:.1%}\")\n",
    "\n",
    "plt.figure(figsize=(15, 10))\n",
    "\n",
    "features_to_plot = ['выручка_тек', 'прибыль', 'время_текущий_месяц', \n",
    "                   'неоплаченные_продукты_штук_квартал', 'акционные_покупки']\n",
    "\n",
    "for i, feature in enumerate(features_to_plot, 1):\n",
    "    plt.subplot(2, 3, i)\n",
    "    sns.boxplot(x='cluster', y=feature, data=X_segment)\n",
    "    plt.title(f'Распределение {feature} по кластерам')\n",
    "    plt.xticks(rotation=45)\n",
    "\n",
    "plt.tight_layout()\n",
    "plt.show()\n",
    "\n",
    "plt.figure(figsize=(10, 6))\n",
    "sns.barplot(x=cluster_analysis.index, y=cluster_analysis['покупательская_активность'])\n",
    "plt.title('Доля клиентов со снизившейся активностью по кластерам')\n",
    "plt.ylabel('Доля снижения активности')\n",
    "plt.xlabel('Кластер')\n",
    "plt.show()"
   ]
  },
  {
   "cell_type": "code",
   "execution_count": null,
   "metadata": {},
   "outputs": [],
   "source": [
    "# Выбираем кластер 2 для детального исследования - самый проблемный\n",
    "target_cluster = 2\n",
    "target_data = cluster_analysis.loc[target_cluster]\n",
    "\n",
    "print(\"🎯 ЦЕЛЕВОЙ СЕГМЕНТ ДЛЯ ИССЛЕДОВАНИЯ: КЛАСТЕР 2\")\n",
    "print(\"=\" * 60)\n",
    "print(f\"Размер сегмента: {target_data['count']} клиентов\")\n",
    "print(f\"Доля снизившейся активности: {target_data['покупательская_активность']:.1%}\")\n",
    "print(f\"Прибыльность: {target_data['прибыль']:.2f}\")\n",
    "print(f\"Средняя выручка: {target_data['выручка_тек']:.0f}\")\n",
    "\n",
    "print(\"\\n📊 ОСОБЕННОСТИ СЕГМЕНТА:\")\n",
    "print(\"• ОЧЕНЬ высокий процент акционных покупок (94.3%)\")\n",
    "print(\"• Много товаров в корзине (3.6)\")\n",
    "print(\"• Среднее время на сайте (11.4 мин)\")\n",
    "print(\"• Умеренное согласие на коммуникацию (71.3%)\")\n",
    "\n",
    "print(\"\\n🚨 ПРОБЛЕМЫ:\")\n",
    "print(\"• Самый высокий процент снижения активности (80.2%)\")\n",
    "print(\"• Клиенты ориентированы только на акции\")\n",
    "print(\"• Низкая лояльность вне акционных периодов\")\n",
    "\n",
    "print(\"\\n💡 РЕКОМЕНДАЦИИ ДЛЯ КЛАСТЕРА 2:\")\n",
    "print(\"1. 🎯 ПЕРСОНАЛИЗИРОВАННЫЕ АКЦИИ\")\n",
    "print(\"   • Создать программу лояльности для 'акционных' клиентов\")\n",
    "print(\"   • Персональные предложения based on истории покупок\")\n",
    "\n",
    "print(\"\\n2. 🛒 РАБОТА С КОРЗИНОЙ\")\n",
    "print(\"   • Напоминания о неоплаченных товарах\")\n",
    "print(\"   • Дополнительные скидки на товары в корзине\")\n",
    "\n",
    "print(\"\\n3. 📧 УЛУЧШЕНИЕ КОММУНИКАЦИИ\")\n",
    "print(\"   • Увеличить долю согласия на рассылки\")\n",
    "print(\"   • Сегментированные email-кампании\")\n",
    "\n",
    "print(\"\\n4. 🎁 LOYALTY PROGRAM\")\n",
    "print(\"   • Накопительная система бонусов\")\n",
    "print(\"   • Эксклюзивные предложения для постоянных клиентов\")\n",
    "\n",
    "print(\"\\n📈 ОЖИДАЕМЫЕ РЕЗУЛЬТАТЫ:\")\n",
    "print(\"• Снижение оттока на 20-30%\")\n",
    "print(\"• Увеличение среднего чека на 10-15%\")\n",
    "print(\"• Рост лояльности вне акционных периодов\")"
   ]
  },
  {
   "cell_type": "markdown",
   "metadata": {},
   "source": [
    "Итоговый вывод:"
   ]
  },
  {
   "cell_type": "code",
   "execution_count": null,
   "metadata": {},
   "outputs": [],
   "source": [
    "print(\"ФИНАЛЬНЫЕ ВЫВОДЫ И СТРАТЕГИИ ДЛЯ КАЖДОГО КЛАСТЕРА:\")\n",
    "print(\"=\" * 80)\n",
    "\n",
    "strategies = {\n",
    "    0: {\n",
    "        'название': 'ЛОЯЛЬНЫЕ АКТИВНЫЕ',\n",
    "        'стратегия': 'ПОДДЕРЖКА И РЕТЕНШН',\n",
    "        'действия': [\n",
    "            '• Премиум-обслуживание',\n",
    "            '• Эксклюзивные предложения',\n",
    "            '• Программа лояльности VIP'\n",
    "        ],\n",
    "        'цель': 'Сохранить лояльность'\n",
    "    },\n",
    "    1: {\n",
    "        'название': 'РИСКОВЫЕ СРЕДНЕАКТИВНЫЕ', \n",
    "        'стратегия': 'ВОЗВРАЩЕНИЕ И УДЕРЖАНИЕ',\n",
    "        'действия': [\n",
    "            '• Персональные акции',\n",
    "            '• Напоминания о корзине',\n",
    "            '• Улучшение коммуникации'\n",
    "        ],\n",
    "        'цель': 'Снизить отток на 20%'\n",
    "    },\n",
    "    2: {\n",
    "        'название': 'АКЦИОННЫЕ НЕЛОЯЛЬНЫЕ',\n",
    "        'стратегия': 'ТРАНСФОРМАЦИЯ В ЛОЯЛЬНЫХ',\n",
    "        'действия': [\n",
    "            '• Персональная программа лояльности',\n",
    "            '• Постепенное уменьшение акционной зависимости',\n",
    "            '• Улучшение клиентского опыта'\n",
    "        ],\n",
    "        'цель': 'Увеличить лояльность вне акций'\n",
    "    },\n",
    "    3: {\n",
    "        'название': 'ПАССИВНЫЕ ОТКАЗЧИКИ',\n",
    "        'стратегия': 'ВОВЛЕЧЕНИЕ В КОММУНИКАЦИЮ',\n",
    "        'действия': [\n",
    "            '• Стимулы для подписки на рассылки',\n",
    "            '• Welcome-программа',\n",
    "            '• Упрощение процесса коммуникации'\n",
    "        ],\n",
    "        'цель': 'Увеличить согласие на коммуникацию'\n",
    "    }\n",
    "}\n",
    "\n",
    "for cluster_id, strategy in strategies.items():\n",
    "    print(f\"\\n🔹 КЛАСТЕР {cluster_id}: {strategy['название']}\")\n",
    "    print(f\"   Стратегия: {strategy['стратегия']}\")\n",
    "    print(f\"   Действия:\")\n",
    "    for action in strategy['действия']:\n",
    "        print(f\"     {action}\")\n",
    "    print(f\"   Цель: {strategy['цель']}\")"
   ]
  },
  {
   "cell_type": "code",
   "execution_count": null,
   "metadata": {},
   "outputs": [],
   "source": [
    "print(\"\\n🎯 ПРИОРИТЕТЫ И ROADMAP:\")\n",
    "print(\"=\" * 80)\n",
    "print(\"1. 🚀 ВЫСОКИЙ ПРИОРИТЕТ (0-3 месяца):\")\n",
    "print(\"   • Кластер 2: Срочные меры по удержанию (80% оттока!)\")\n",
    "print(\"   • Кластер 1: Программа возврата клиентов\")\n",
    "\n",
    "print(\"\\n2. 📈 СРЕДНИЙ ПРИОРИТЕТ (3-6 месяцев):\")\n",
    "print(\"   • Кластер 3: Вовлечение в коммуникацию\")\n",
    "print(\"   • Кластер 0: Развитие премиум-сервиса\")\n",
    "\n",
    "print(\"\\n3. 🎯 КЛЮЧЕВЫЕ МЕТРИКИ УСПЕХА:\")\n",
    "print(\"   • Общее снижение оттока на 15% за 6 месяцев\")\n",
    "print(\"   • Увеличение LTV на 10%\")\n",
    "print(\"   • Рост согласия на коммуникацию на 20%\")\n",
    "\n",
    "print(\"\\n4. 📊 МОНИТОРИНГ И АНАЛИТИКА:\")\n",
    "print(\"   • Ежемесячный tracking кластеров\")\n",
    "print(\"   • A/B тестирование стратегий\")\n",
    "print(\"   • Корректировка подходов based on результатов\")"
   ]
  },
  {
   "cell_type": "markdown",
   "metadata": {},
   "source": [
    "**1. Модель предсказания**  \n",
    "- Лучшая модель: SVC с ROC-AUC = 0.90\n",
    "\n",
    "Топ-5 важных признаков:\n",
    "\n",
    "- Согласие на коммуникацию (0.0689)\n",
    "- Товары в корзине (0.0511)\n",
    "- Время на сайте (0.0357)\n",
    "- Акционные покупки (0.0326)\n",
    "- Выручка (0.0302)\n",
    "\n",
    "**2. Сегментация клиентов**\n",
    "Выявлено 4 четких кластера с разным поведением:\n",
    "\n",
    "- Кластер 0 (36%): Лояльные активные клиенты (17% оттока)\n",
    "- Кластер 1 (29%): Рисковые среднеактивные (51% оттока)\n",
    "- Кластер 2 (13%): Акционные нелояльные (80% оттока) ← Критическая группа\n",
    "- Кластер 3 (22%): Пассивные отказчики (31% оттока)\n",
    "\n",
    "**3. Главные инсайты**\n",
    "- Согласие на коммуникацию - самый важный фактор активности\n",
    "- Клиенты с товарами в корзине требуют особого внимания\n",
    "- \"Акционные\" клиенты показывают высокую зависимость от акций (94% покупок по акциям)\n",
    "- Прибыльность практически не отличается между кластерами\n",
    "\n",
    "**Рекомендации для бизнеса**\n",
    "🎯 Срочные меры для Кластера 2\n",
    "- Внедрить персонализированную программу лояльности\n",
    "- Настроить систему напоминаний о корзине\n",
    "- Разработать постепенный уход от акционной зависимости\n",
    "\n",
    "**📈 Стратегические инициативы**\n",
    "- Увеличить долю клиентов, согласных на коммуникацию\n",
    "- Внедрить сегментированный маркетинг\n",
    "- Создать систему премиального обслуживания\n",
    "\n",
    "**Ожидаемые результаты**\n",
    "- Снижение общего оттока на 15-20% за 6 месяцев\n",
    "- Увеличение среднего чека на 10-15%\n",
    "- Рост LTV на 10-12%\n",
    "- Увеличение конверсии корзины на 15-20%\n",
    "\n",
    "**План реализации**\n",
    "- Месяц 1-2: Внедрение для Кластера 2 (критический)\n",
    "- Месяц 3-4: Расширение на Кластер 1 (средний риск)\n",
    "- Месяц 5-6: Оптимизация для всех сегментов\n",
    "\n",
    "**Заключение**\n",
    "- Проект успешно достиг поставленных целей:\n",
    "- Построена эффективная модель предсказания\n",
    "- Выявлены ключевые сегменты клиентов\n",
    "- Разработаны персонализированные стратегии\n",
    "- Определены измеримые KPI"
   ]
  }
 ],
 "metadata": {
  "ExecuteTimeLog": [
   {
    "duration": 98,
    "start_time": "2025-08-10T10:52:12.695Z"
   },
   {
    "duration": 3,
    "start_time": "2025-08-10T11:00:41.421Z"
   },
   {
    "duration": 39608,
    "start_time": "2025-08-10T11:07:50.544Z"
   },
   {
    "duration": 3,
    "start_time": "2025-08-10T14:42:14.255Z"
   },
   {
    "duration": 427,
    "start_time": "2025-08-10T15:07:16.514Z"
   },
   {
    "duration": 91,
    "start_time": "2025-08-10T15:07:31.972Z"
   },
   {
    "duration": 57,
    "start_time": "2025-08-10T15:08:27.958Z"
   },
   {
    "duration": 10,
    "start_time": "2025-08-10T15:08:40.202Z"
   },
   {
    "duration": 19,
    "start_time": "2025-08-10T15:08:44.869Z"
   },
   {
    "duration": 246,
    "start_time": "2025-08-10T15:11:27.950Z"
   },
   {
    "duration": 122,
    "start_time": "2025-08-10T15:11:44.124Z"
   },
   {
    "duration": 19,
    "start_time": "2025-08-10T15:12:01.977Z"
   },
   {
    "duration": 37,
    "start_time": "2025-08-10T15:12:17.739Z"
   },
   {
    "duration": 29,
    "start_time": "2025-08-10T15:12:35.943Z"
   },
   {
    "duration": 83,
    "start_time": "2025-08-10T15:12:53.641Z"
   },
   {
    "duration": 81,
    "start_time": "2025-08-10T15:12:58.212Z"
   },
   {
    "duration": 38,
    "start_time": "2025-08-10T15:12:59.603Z"
   },
   {
    "duration": 15,
    "start_time": "2025-08-10T15:36:20.495Z"
   },
   {
    "duration": 3,
    "start_time": "2025-08-10T15:37:09.769Z"
   },
   {
    "duration": 79,
    "start_time": "2025-08-10T15:37:10.649Z"
   },
   {
    "duration": 32,
    "start_time": "2025-08-10T15:37:11.243Z"
   },
   {
    "duration": 4,
    "start_time": "2025-08-10T15:37:13.415Z"
   },
   {
    "duration": 14,
    "start_time": "2025-08-10T15:37:36.267Z"
   },
   {
    "duration": 12,
    "start_time": "2025-08-10T15:37:58.613Z"
   },
   {
    "duration": 4,
    "start_time": "2025-08-10T15:38:00.375Z"
   },
   {
    "duration": 4,
    "start_time": "2025-08-10T15:38:47.899Z"
   },
   {
    "duration": 9,
    "start_time": "2025-08-10T15:39:07.360Z"
   },
   {
    "duration": 57,
    "start_time": "2025-08-10T15:40:13.613Z"
   },
   {
    "duration": 26,
    "start_time": "2025-08-10T15:40:20.557Z"
   },
   {
    "duration": 5,
    "start_time": "2025-08-10T15:40:34.499Z"
   },
   {
    "duration": 9,
    "start_time": "2025-08-10T15:42:07.360Z"
   },
   {
    "duration": 7,
    "start_time": "2025-08-10T15:43:56.384Z"
   },
   {
    "duration": 6,
    "start_time": "2025-08-10T15:44:10.300Z"
   },
   {
    "duration": 7,
    "start_time": "2025-08-10T15:44:17.453Z"
   },
   {
    "duration": 6,
    "start_time": "2025-08-10T15:48:03.134Z"
   },
   {
    "duration": 15,
    "start_time": "2025-08-10T15:48:16.585Z"
   },
   {
    "duration": 13,
    "start_time": "2025-08-10T15:48:36.991Z"
   },
   {
    "duration": 11,
    "start_time": "2025-08-10T15:48:47.832Z"
   },
   {
    "duration": 11,
    "start_time": "2025-08-10T15:48:51.983Z"
   },
   {
    "duration": 17,
    "start_time": "2025-08-10T15:49:52.366Z"
   },
   {
    "duration": 13,
    "start_time": "2025-08-10T15:49:54.247Z"
   },
   {
    "duration": 20,
    "start_time": "2025-08-10T15:50:56.839Z"
   },
   {
    "duration": 24,
    "start_time": "2025-08-10T15:51:03.706Z"
   },
   {
    "duration": 8,
    "start_time": "2025-08-10T15:51:23.735Z"
   },
   {
    "duration": 5,
    "start_time": "2025-08-10T15:51:28.169Z"
   },
   {
    "duration": 8,
    "start_time": "2025-08-10T15:51:36.135Z"
   },
   {
    "duration": 15,
    "start_time": "2025-08-10T15:52:04.788Z"
   },
   {
    "duration": 47,
    "start_time": "2025-08-10T23:40:17.147Z"
   },
   {
    "duration": 382,
    "start_time": "2025-08-10T23:40:28.907Z"
   },
   {
    "duration": 88,
    "start_time": "2025-08-10T23:40:29.291Z"
   },
   {
    "duration": 30,
    "start_time": "2025-08-10T23:40:29.380Z"
   },
   {
    "duration": 16,
    "start_time": "2025-08-10T23:40:29.411Z"
   },
   {
    "duration": 5,
    "start_time": "2025-08-10T23:40:29.429Z"
   },
   {
    "duration": 1385,
    "start_time": "2025-08-10T23:40:59.555Z"
   },
   {
    "duration": 5,
    "start_time": "2025-08-10T23:41:12.049Z"
   },
   {
    "duration": 5,
    "start_time": "2025-08-10T23:41:28.025Z"
   },
   {
    "duration": 9,
    "start_time": "2025-08-10T23:41:35.448Z"
   },
   {
    "duration": 12,
    "start_time": "2025-08-10T23:42:00.171Z"
   },
   {
    "duration": 428,
    "start_time": "2025-08-11T16:59:46.657Z"
   },
   {
    "duration": 91,
    "start_time": "2025-08-11T16:59:47.089Z"
   },
   {
    "duration": 29,
    "start_time": "2025-08-11T16:59:47.181Z"
   },
   {
    "duration": 31,
    "start_time": "2025-08-11T16:59:47.212Z"
   },
   {
    "duration": 32,
    "start_time": "2025-08-11T16:59:47.244Z"
   },
   {
    "duration": 25,
    "start_time": "2025-08-11T17:04:51.545Z"
   },
   {
    "duration": 20,
    "start_time": "2025-08-11T17:18:36.761Z"
   },
   {
    "duration": 22,
    "start_time": "2025-08-11T17:18:49.905Z"
   },
   {
    "duration": 4,
    "start_time": "2025-08-11T17:21:18.256Z"
   },
   {
    "duration": 4,
    "start_time": "2025-08-11T17:21:32.488Z"
   },
   {
    "duration": 84,
    "start_time": "2025-08-11T17:22:15.871Z"
   },
   {
    "duration": 15,
    "start_time": "2025-08-11T17:23:11.347Z"
   },
   {
    "duration": 35,
    "start_time": "2025-08-11T17:24:11.549Z"
   },
   {
    "duration": 31,
    "start_time": "2025-08-11T17:25:08.026Z"
   },
   {
    "duration": 39,
    "start_time": "2025-08-11T17:26:15.494Z"
   },
   {
    "duration": 50,
    "start_time": "2025-08-11T17:26:44.967Z"
   },
   {
    "duration": 125,
    "start_time": "2025-08-11T17:26:57.582Z"
   },
   {
    "duration": 211,
    "start_time": "2025-08-11T17:27:05.329Z"
   },
   {
    "duration": 345,
    "start_time": "2025-08-11T17:27:20.657Z"
   },
   {
    "duration": 53,
    "start_time": "2025-08-11T17:27:29.917Z"
   },
   {
    "duration": 37,
    "start_time": "2025-08-11T17:28:25.966Z"
   },
   {
    "duration": 12,
    "start_time": "2025-08-11T17:37:05.513Z"
   },
   {
    "duration": 11,
    "start_time": "2025-08-11T17:37:14.060Z"
   },
   {
    "duration": 7,
    "start_time": "2025-08-11T17:37:54.551Z"
   },
   {
    "duration": 422,
    "start_time": "2025-08-11T17:38:09.868Z"
   },
   {
    "duration": 82,
    "start_time": "2025-08-11T17:38:10.293Z"
   },
   {
    "duration": 40,
    "start_time": "2025-08-11T17:38:10.377Z"
   },
   {
    "duration": 17,
    "start_time": "2025-08-11T17:38:10.419Z"
   },
   {
    "duration": 52,
    "start_time": "2025-08-11T17:38:10.439Z"
   },
   {
    "duration": 43,
    "start_time": "2025-08-11T17:38:10.493Z"
   },
   {
    "duration": 98,
    "start_time": "2025-08-11T17:38:10.538Z"
   },
   {
    "duration": 0,
    "start_time": "2025-08-11T17:38:10.638Z"
   },
   {
    "duration": 5,
    "start_time": "2025-08-11T17:38:32.127Z"
   },
   {
    "duration": 7,
    "start_time": "2025-08-11T17:38:33.226Z"
   },
   {
    "duration": 9,
    "start_time": "2025-08-11T17:38:43.316Z"
   },
   {
    "duration": 15,
    "start_time": "2025-08-11T17:38:44.667Z"
   },
   {
    "duration": 413,
    "start_time": "2025-08-11T17:38:50.159Z"
   },
   {
    "duration": 87,
    "start_time": "2025-08-11T17:38:50.574Z"
   },
   {
    "duration": 35,
    "start_time": "2025-08-11T17:38:50.664Z"
   },
   {
    "duration": 27,
    "start_time": "2025-08-11T17:38:50.701Z"
   },
   {
    "duration": 37,
    "start_time": "2025-08-11T17:38:50.730Z"
   },
   {
    "duration": 45,
    "start_time": "2025-08-11T17:38:50.769Z"
   },
   {
    "duration": 6,
    "start_time": "2025-08-11T17:38:50.816Z"
   },
   {
    "duration": 19,
    "start_time": "2025-08-11T17:38:50.823Z"
   },
   {
    "duration": 6,
    "start_time": "2025-08-11T17:49:57.307Z"
   },
   {
    "duration": 6,
    "start_time": "2025-08-11T17:49:58.321Z"
   },
   {
    "duration": 9,
    "start_time": "2025-08-11T17:52:37.451Z"
   },
   {
    "duration": 9,
    "start_time": "2025-08-11T17:52:44.198Z"
   },
   {
    "duration": 8,
    "start_time": "2025-08-11T17:52:48.042Z"
   },
   {
    "duration": 9,
    "start_time": "2025-08-11T17:52:52.516Z"
   },
   {
    "duration": 5,
    "start_time": "2025-08-11T17:58:06.461Z"
   },
   {
    "duration": 8,
    "start_time": "2025-08-11T17:59:07.444Z"
   },
   {
    "duration": 78,
    "start_time": "2025-08-11T17:59:20.138Z"
   },
   {
    "duration": 10,
    "start_time": "2025-08-11T17:59:27.588Z"
   },
   {
    "duration": 73,
    "start_time": "2025-08-11T18:10:19.403Z"
   },
   {
    "duration": 20,
    "start_time": "2025-08-11T18:11:08.340Z"
   },
   {
    "duration": 26,
    "start_time": "2025-08-11T18:11:09.216Z"
   },
   {
    "duration": 34,
    "start_time": "2025-08-11T18:11:10.030Z"
   },
   {
    "duration": 8,
    "start_time": "2025-08-11T18:11:10.270Z"
   },
   {
    "duration": 8,
    "start_time": "2025-08-11T18:11:10.909Z"
   },
   {
    "duration": 12,
    "start_time": "2025-08-11T18:11:11.251Z"
   },
   {
    "duration": 12,
    "start_time": "2025-08-11T18:13:13.606Z"
   },
   {
    "duration": 80,
    "start_time": "2025-08-11T18:14:31.479Z"
   },
   {
    "duration": 19,
    "start_time": "2025-08-11T18:14:41.008Z"
   },
   {
    "duration": 26,
    "start_time": "2025-08-11T18:14:43.816Z"
   },
   {
    "duration": 34,
    "start_time": "2025-08-11T18:14:44.616Z"
   },
   {
    "duration": 10,
    "start_time": "2025-08-11T18:14:45.097Z"
   },
   {
    "duration": 8,
    "start_time": "2025-08-11T18:14:46.067Z"
   },
   {
    "duration": 453,
    "start_time": "2025-08-11T18:14:54.087Z"
   },
   {
    "duration": 93,
    "start_time": "2025-08-11T18:14:54.542Z"
   },
   {
    "duration": 34,
    "start_time": "2025-08-11T18:14:54.637Z"
   },
   {
    "duration": 131,
    "start_time": "2025-08-11T18:14:54.673Z"
   },
   {
    "duration": 157,
    "start_time": "2025-08-11T18:14:54.806Z"
   },
   {
    "duration": 36,
    "start_time": "2025-08-11T18:14:54.965Z"
   },
   {
    "duration": 8,
    "start_time": "2025-08-11T18:14:55.002Z"
   },
   {
    "duration": 300,
    "start_time": "2025-08-11T18:14:55.012Z"
   },
   {
    "duration": 80,
    "start_time": "2025-08-11T18:14:55.314Z"
   },
   {
    "duration": 403,
    "start_time": "2025-08-11T18:18:44.347Z"
   },
   {
    "duration": 82,
    "start_time": "2025-08-11T18:18:44.753Z"
   },
   {
    "duration": 33,
    "start_time": "2025-08-11T18:18:44.837Z"
   },
   {
    "duration": 26,
    "start_time": "2025-08-11T18:18:44.872Z"
   },
   {
    "duration": 34,
    "start_time": "2025-08-11T18:18:44.901Z"
   },
   {
    "duration": 62,
    "start_time": "2025-08-11T18:18:44.937Z"
   },
   {
    "duration": 10,
    "start_time": "2025-08-11T18:18:45.001Z"
   },
   {
    "duration": 323,
    "start_time": "2025-08-11T18:18:45.013Z"
   },
   {
    "duration": 187,
    "start_time": "2025-08-11T18:18:45.338Z"
   },
   {
    "duration": 37,
    "start_time": "2025-08-11T18:19:11.024Z"
   },
   {
    "duration": 26,
    "start_time": "2025-08-11T18:21:37.391Z"
   },
   {
    "duration": 13,
    "start_time": "2025-08-11T18:22:13.927Z"
   },
   {
    "duration": 12,
    "start_time": "2025-08-11T18:22:45.969Z"
   },
   {
    "duration": 4,
    "start_time": "2025-08-11T18:23:14.578Z"
   },
   {
    "duration": 12,
    "start_time": "2025-08-11T20:12:15.422Z"
   },
   {
    "duration": 13,
    "start_time": "2025-08-11T20:12:34.161Z"
   },
   {
    "duration": 31,
    "start_time": "2025-08-11T20:14:07.489Z"
   },
   {
    "duration": 79,
    "start_time": "2025-08-11T20:14:46.819Z"
   },
   {
    "duration": 27,
    "start_time": "2025-08-11T20:14:51.889Z"
   },
   {
    "duration": 183,
    "start_time": "2025-08-11T20:15:02.135Z"
   },
   {
    "duration": 109,
    "start_time": "2025-08-11T20:15:35.875Z"
   },
   {
    "duration": 85,
    "start_time": "2025-08-11T20:15:47.880Z"
   },
   {
    "duration": 122,
    "start_time": "2025-08-11T20:15:56.286Z"
   },
   {
    "duration": 80,
    "start_time": "2025-08-11T20:15:59.059Z"
   },
   {
    "duration": 72,
    "start_time": "2025-08-11T20:16:43.221Z"
   },
   {
    "duration": 33,
    "start_time": "2025-08-11T20:16:52.687Z"
   },
   {
    "duration": 12,
    "start_time": "2025-08-11T20:17:32.650Z"
   },
   {
    "duration": 20,
    "start_time": "2025-08-11T20:17:46.540Z"
   },
   {
    "duration": 87,
    "start_time": "2025-08-11T20:17:56.390Z"
   },
   {
    "duration": 22,
    "start_time": "2025-08-11T20:18:00.044Z"
   },
   {
    "duration": 24,
    "start_time": "2025-08-11T20:18:42.181Z"
   },
   {
    "duration": 22,
    "start_time": "2025-08-11T20:18:55.674Z"
   },
   {
    "duration": 88,
    "start_time": "2025-08-11T20:19:07.681Z"
   },
   {
    "duration": 22,
    "start_time": "2025-08-11T20:19:21.978Z"
   },
   {
    "duration": 3,
    "start_time": "2025-08-11T20:21:41.341Z"
   },
   {
    "duration": 3,
    "start_time": "2025-08-11T20:21:53.797Z"
   },
   {
    "duration": 2,
    "start_time": "2025-08-11T20:21:57.851Z"
   },
   {
    "duration": 19,
    "start_time": "2025-08-11T20:32:15.213Z"
   },
   {
    "duration": 7,
    "start_time": "2025-08-11T20:38:46.509Z"
   },
   {
    "duration": 10,
    "start_time": "2025-08-11T20:38:47.350Z"
   },
   {
    "duration": 98,
    "start_time": "2025-08-11T20:43:25.882Z"
   },
   {
    "duration": 7,
    "start_time": "2025-08-11T20:43:29.033Z"
   },
   {
    "duration": 90,
    "start_time": "2025-08-11T21:38:21.294Z"
   },
   {
    "duration": 103,
    "start_time": "2025-08-11T21:38:32.833Z"
   },
   {
    "duration": 98,
    "start_time": "2025-08-11T21:38:54.551Z"
   },
   {
    "duration": 13,
    "start_time": "2025-08-11T21:40:36.739Z"
   },
   {
    "duration": 429,
    "start_time": "2025-08-11T21:41:14.678Z"
   },
   {
    "duration": 85,
    "start_time": "2025-08-11T21:41:15.110Z"
   },
   {
    "duration": 36,
    "start_time": "2025-08-11T21:41:15.198Z"
   },
   {
    "duration": 80,
    "start_time": "2025-08-11T21:41:15.235Z"
   },
   {
    "duration": 33,
    "start_time": "2025-08-11T21:41:15.317Z"
   },
   {
    "duration": 60,
    "start_time": "2025-08-11T21:41:15.352Z"
   },
   {
    "duration": 8,
    "start_time": "2025-08-11T21:41:15.414Z"
   },
   {
    "duration": 35,
    "start_time": "2025-08-11T21:41:15.423Z"
   },
   {
    "duration": 16,
    "start_time": "2025-08-11T21:41:15.459Z"
   },
   {
    "duration": 49,
    "start_time": "2025-08-11T21:41:15.476Z"
   },
   {
    "duration": 79,
    "start_time": "2025-08-11T21:41:15.526Z"
   },
   {
    "duration": 0,
    "start_time": "2025-08-11T21:41:15.607Z"
   },
   {
    "duration": 1,
    "start_time": "2025-08-11T21:41:15.608Z"
   },
   {
    "duration": 387,
    "start_time": "2025-08-11T21:41:25.432Z"
   },
   {
    "duration": 79,
    "start_time": "2025-08-11T21:41:25.821Z"
   },
   {
    "duration": 30,
    "start_time": "2025-08-11T21:41:25.904Z"
   },
   {
    "duration": 17,
    "start_time": "2025-08-11T21:41:25.936Z"
   },
   {
    "duration": 40,
    "start_time": "2025-08-11T21:41:25.955Z"
   },
   {
    "duration": 45,
    "start_time": "2025-08-11T21:41:25.996Z"
   },
   {
    "duration": 7,
    "start_time": "2025-08-11T21:41:26.043Z"
   },
   {
    "duration": 18,
    "start_time": "2025-08-11T21:41:26.051Z"
   },
   {
    "duration": 60,
    "start_time": "2025-08-11T21:41:26.070Z"
   },
   {
    "duration": 251,
    "start_time": "2025-08-11T21:41:26.133Z"
   },
   {
    "duration": 80,
    "start_time": "2025-08-11T21:41:26.385Z"
   },
   {
    "duration": 77,
    "start_time": "2025-08-11T21:41:26.467Z"
   },
   {
    "duration": 200,
    "start_time": "2025-08-11T21:41:26.545Z"
   },
   {
    "duration": 88,
    "start_time": "2025-08-11T21:43:45.330Z"
   },
   {
    "duration": 131,
    "start_time": "2025-08-11T21:44:03.881Z"
   },
   {
    "duration": 99,
    "start_time": "2025-08-11T21:44:23.022Z"
   },
   {
    "duration": 131,
    "start_time": "2025-08-11T21:47:31.177Z"
   },
   {
    "duration": 93,
    "start_time": "2025-08-11T21:47:44.523Z"
   },
   {
    "duration": 49,
    "start_time": "2025-08-11T21:51:57.802Z"
   },
   {
    "duration": 532,
    "start_time": "2025-08-11T21:52:22.722Z"
   },
   {
    "duration": 1889,
    "start_time": "2025-08-11T21:52:47.905Z"
   },
   {
    "duration": 92,
    "start_time": "2025-08-11T21:53:40.546Z"
   },
   {
    "duration": 431,
    "start_time": "2025-08-12T19:08:47.754Z"
   },
   {
    "duration": 92,
    "start_time": "2025-08-12T19:08:48.187Z"
   },
   {
    "duration": 32,
    "start_time": "2025-08-12T19:08:48.281Z"
   },
   {
    "duration": 18,
    "start_time": "2025-08-12T19:08:48.314Z"
   },
   {
    "duration": 52,
    "start_time": "2025-08-12T19:08:48.334Z"
   },
   {
    "duration": 37,
    "start_time": "2025-08-12T19:08:48.388Z"
   },
   {
    "duration": 10,
    "start_time": "2025-08-12T19:08:48.426Z"
   },
   {
    "duration": 39,
    "start_time": "2025-08-12T19:08:48.437Z"
   },
   {
    "duration": 4,
    "start_time": "2025-08-12T19:08:48.478Z"
   },
   {
    "duration": 21,
    "start_time": "2025-08-12T19:08:48.484Z"
   },
   {
    "duration": 15,
    "start_time": "2025-08-12T19:08:48.507Z"
   },
   {
    "duration": 26,
    "start_time": "2025-08-12T19:08:48.524Z"
   },
   {
    "duration": 134,
    "start_time": "2025-08-12T19:08:48.552Z"
   },
   {
    "duration": 1512,
    "start_time": "2025-08-12T19:29:51.128Z"
   },
   {
    "duration": 7,
    "start_time": "2025-08-12T19:30:34.091Z"
   },
   {
    "duration": 7,
    "start_time": "2025-08-12T19:33:10.587Z"
   },
   {
    "duration": 6,
    "start_time": "2025-08-12T19:33:20.330Z"
   },
   {
    "duration": 11,
    "start_time": "2025-08-12T19:33:53.098Z"
   },
   {
    "duration": 18,
    "start_time": "2025-08-12T19:33:57.735Z"
   },
   {
    "duration": 6,
    "start_time": "2025-08-12T19:36:30.094Z"
   },
   {
    "duration": 12,
    "start_time": "2025-08-12T19:37:09.188Z"
   },
   {
    "duration": 461,
    "start_time": "2025-08-12T19:38:04.352Z"
   },
   {
    "duration": 82,
    "start_time": "2025-08-12T19:38:04.815Z"
   },
   {
    "duration": 34,
    "start_time": "2025-08-12T19:38:04.899Z"
   },
   {
    "duration": 21,
    "start_time": "2025-08-12T19:38:04.934Z"
   },
   {
    "duration": 40,
    "start_time": "2025-08-12T19:38:04.957Z"
   },
   {
    "duration": 36,
    "start_time": "2025-08-12T19:38:04.999Z"
   },
   {
    "duration": 43,
    "start_time": "2025-08-12T19:38:05.036Z"
   },
   {
    "duration": 15,
    "start_time": "2025-08-12T19:38:05.081Z"
   },
   {
    "duration": 9,
    "start_time": "2025-08-12T19:38:05.098Z"
   },
   {
    "duration": 73,
    "start_time": "2025-08-12T19:38:05.109Z"
   },
   {
    "duration": 11,
    "start_time": "2025-08-12T19:38:05.184Z"
   },
   {
    "duration": 47,
    "start_time": "2025-08-12T19:38:05.197Z"
   },
   {
    "duration": 148,
    "start_time": "2025-08-12T19:38:05.245Z"
   },
   {
    "duration": 3,
    "start_time": "2025-08-12T19:38:05.397Z"
   },
   {
    "duration": 9,
    "start_time": "2025-08-12T19:38:43.303Z"
   },
   {
    "duration": 7,
    "start_time": "2025-08-12T19:39:09.904Z"
   },
   {
    "duration": 8,
    "start_time": "2025-08-12T19:39:24.239Z"
   },
   {
    "duration": 15,
    "start_time": "2025-08-12T19:39:37.163Z"
   },
   {
    "duration": 9,
    "start_time": "2025-08-12T19:39:44.328Z"
   },
   {
    "duration": 13,
    "start_time": "2025-08-12T19:41:17.399Z"
   },
   {
    "duration": 12,
    "start_time": "2025-08-12T19:41:24.461Z"
   },
   {
    "duration": 9,
    "start_time": "2025-08-12T19:41:24.836Z"
   },
   {
    "duration": 460,
    "start_time": "2025-08-12T19:41:31.344Z"
   },
   {
    "duration": 84,
    "start_time": "2025-08-12T19:41:31.807Z"
   },
   {
    "duration": 42,
    "start_time": "2025-08-12T19:41:31.895Z"
   },
   {
    "duration": 21,
    "start_time": "2025-08-12T19:41:31.939Z"
   },
   {
    "duration": 50,
    "start_time": "2025-08-12T19:41:31.976Z"
   },
   {
    "duration": 67,
    "start_time": "2025-08-12T19:41:32.028Z"
   },
   {
    "duration": 9,
    "start_time": "2025-08-12T19:41:32.097Z"
   },
   {
    "duration": 17,
    "start_time": "2025-08-12T19:41:32.107Z"
   },
   {
    "duration": 110,
    "start_time": "2025-08-12T19:41:32.125Z"
   },
   {
    "duration": 67,
    "start_time": "2025-08-12T19:41:32.237Z"
   },
   {
    "duration": 9,
    "start_time": "2025-08-12T19:41:32.306Z"
   },
   {
    "duration": 45,
    "start_time": "2025-08-12T19:41:32.317Z"
   },
   {
    "duration": 132,
    "start_time": "2025-08-12T19:41:32.366Z"
   },
   {
    "duration": 10,
    "start_time": "2025-08-12T19:41:32.499Z"
   },
   {
    "duration": 19,
    "start_time": "2025-08-12T19:41:32.512Z"
   },
   {
    "duration": 10,
    "start_time": "2025-08-12T19:43:00.886Z"
   },
   {
    "duration": 6,
    "start_time": "2025-08-12T19:43:01.714Z"
   },
   {
    "duration": 13,
    "start_time": "2025-08-12T19:43:40.431Z"
   },
   {
    "duration": 9,
    "start_time": "2025-08-12T19:43:42.430Z"
   },
   {
    "duration": 28,
    "start_time": "2025-08-12T19:48:00.655Z"
   },
   {
    "duration": 40,
    "start_time": "2025-08-12T19:48:09.045Z"
   },
   {
    "duration": 40,
    "start_time": "2025-08-12T19:48:13.932Z"
   },
   {
    "duration": 107,
    "start_time": "2025-08-12T19:48:36.591Z"
   },
   {
    "duration": 9,
    "start_time": "2025-08-12T19:48:38.637Z"
   },
   {
    "duration": 7,
    "start_time": "2025-08-12T19:48:39.208Z"
   },
   {
    "duration": 392,
    "start_time": "2025-08-12T19:48:44.533Z"
   },
   {
    "duration": 85,
    "start_time": "2025-08-12T19:48:44.927Z"
   },
   {
    "duration": 33,
    "start_time": "2025-08-12T19:48:45.013Z"
   },
   {
    "duration": 24,
    "start_time": "2025-08-12T19:48:45.048Z"
   },
   {
    "duration": 53,
    "start_time": "2025-08-12T19:48:45.075Z"
   },
   {
    "duration": 49,
    "start_time": "2025-08-12T19:48:45.130Z"
   },
   {
    "duration": 13,
    "start_time": "2025-08-12T19:48:45.181Z"
   },
   {
    "duration": 32,
    "start_time": "2025-08-12T19:48:45.196Z"
   },
   {
    "duration": 5,
    "start_time": "2025-08-12T19:48:45.229Z"
   },
   {
    "duration": 32,
    "start_time": "2025-08-12T19:48:45.235Z"
   },
   {
    "duration": 8,
    "start_time": "2025-08-12T19:48:45.269Z"
   },
   {
    "duration": 36,
    "start_time": "2025-08-12T19:48:45.279Z"
   },
   {
    "duration": 46,
    "start_time": "2025-08-12T19:48:45.317Z"
   },
   {
    "duration": 137,
    "start_time": "2025-08-12T19:48:45.365Z"
   },
   {
    "duration": 9,
    "start_time": "2025-08-12T19:48:45.504Z"
   },
   {
    "duration": 6,
    "start_time": "2025-08-12T19:48:45.515Z"
   },
   {
    "duration": 12,
    "start_time": "2025-08-12T19:49:06.715Z"
   },
   {
    "duration": 355,
    "start_time": "2025-08-12T19:49:35.227Z"
   },
   {
    "duration": 80,
    "start_time": "2025-08-12T19:49:35.584Z"
   },
   {
    "duration": 29,
    "start_time": "2025-08-12T19:49:35.666Z"
   },
   {
    "duration": 18,
    "start_time": "2025-08-12T19:49:35.697Z"
   },
   {
    "duration": 26,
    "start_time": "2025-08-12T19:49:35.718Z"
   },
   {
    "duration": 64,
    "start_time": "2025-08-12T19:49:35.777Z"
   },
   {
    "duration": 53,
    "start_time": "2025-08-12T19:49:35.843Z"
   },
   {
    "duration": 10,
    "start_time": "2025-08-12T19:49:35.898Z"
   },
   {
    "duration": 43,
    "start_time": "2025-08-12T19:49:35.910Z"
   },
   {
    "duration": 43,
    "start_time": "2025-08-12T19:49:35.955Z"
   },
   {
    "duration": 8,
    "start_time": "2025-08-12T19:49:36.000Z"
   },
   {
    "duration": 43,
    "start_time": "2025-08-12T19:49:36.010Z"
   },
   {
    "duration": 141,
    "start_time": "2025-08-12T19:49:36.055Z"
   },
   {
    "duration": 9,
    "start_time": "2025-08-12T19:49:36.199Z"
   },
   {
    "duration": 101,
    "start_time": "2025-08-12T19:49:36.209Z"
   },
   {
    "duration": 635,
    "start_time": "2025-08-12T21:54:16.365Z"
   },
   {
    "duration": 160,
    "start_time": "2025-08-12T21:54:17.002Z"
   },
   {
    "duration": 32,
    "start_time": "2025-08-12T21:54:17.164Z"
   },
   {
    "duration": 77,
    "start_time": "2025-08-12T21:54:17.197Z"
   },
   {
    "duration": 86,
    "start_time": "2025-08-12T21:54:17.276Z"
   },
   {
    "duration": 34,
    "start_time": "2025-08-12T21:54:17.363Z"
   },
   {
    "duration": 9,
    "start_time": "2025-08-12T21:54:17.461Z"
   },
   {
    "duration": 7,
    "start_time": "2025-08-12T21:54:17.472Z"
   },
   {
    "duration": 5,
    "start_time": "2025-08-12T21:54:17.480Z"
   },
   {
    "duration": 85,
    "start_time": "2025-08-12T21:54:17.486Z"
   },
   {
    "duration": 8,
    "start_time": "2025-08-12T21:54:17.572Z"
   },
   {
    "duration": 14,
    "start_time": "2025-08-12T21:54:17.582Z"
   },
   {
    "duration": 275,
    "start_time": "2025-08-12T21:54:17.597Z"
   },
   {
    "duration": 9,
    "start_time": "2025-08-12T21:54:17.875Z"
   },
   {
    "duration": 77,
    "start_time": "2025-08-12T21:54:17.885Z"
   },
   {
    "duration": 11,
    "start_time": "2025-08-12T21:58:03.500Z"
   },
   {
    "duration": 4,
    "start_time": "2025-08-12T21:58:07.821Z"
   },
   {
    "duration": 76,
    "start_time": "2025-08-12T22:00:21.430Z"
   },
   {
    "duration": 9,
    "start_time": "2025-08-12T22:00:48.734Z"
   },
   {
    "duration": 273,
    "start_time": "2025-08-12T22:01:00.221Z"
   },
   {
    "duration": 145,
    "start_time": "2025-08-12T22:01:05.338Z"
   },
   {
    "duration": 532,
    "start_time": "2025-08-12T22:01:21.461Z"
   },
   {
    "duration": 153,
    "start_time": "2025-08-12T22:01:26.078Z"
   },
   {
    "duration": 310,
    "start_time": "2025-08-12T22:01:44.376Z"
   },
   {
    "duration": 290,
    "start_time": "2025-08-12T22:01:50.235Z"
   },
   {
    "duration": 312,
    "start_time": "2025-08-12T22:02:07.363Z"
   },
   {
    "duration": 7206,
    "start_time": "2025-08-12T22:03:14.115Z"
   },
   {
    "duration": 267,
    "start_time": "2025-08-12T22:04:47.458Z"
   },
   {
    "duration": 1233,
    "start_time": "2025-08-12T22:05:00.759Z"
   },
   {
    "duration": 84,
    "start_time": "2025-08-12T22:05:01.994Z"
   },
   {
    "duration": 30,
    "start_time": "2025-08-12T22:05:02.079Z"
   },
   {
    "duration": 34,
    "start_time": "2025-08-12T22:05:02.110Z"
   },
   {
    "duration": 48,
    "start_time": "2025-08-12T22:05:02.147Z"
   },
   {
    "duration": 33,
    "start_time": "2025-08-12T22:05:02.197Z"
   },
   {
    "duration": 27,
    "start_time": "2025-08-12T22:05:02.233Z"
   },
   {
    "duration": 26,
    "start_time": "2025-08-12T22:05:02.262Z"
   },
   {
    "duration": 6,
    "start_time": "2025-08-12T22:05:02.290Z"
   },
   {
    "duration": 123,
    "start_time": "2025-08-12T22:05:02.298Z"
   },
   {
    "duration": 27,
    "start_time": "2025-08-12T22:05:02.423Z"
   },
   {
    "duration": 35,
    "start_time": "2025-08-12T22:05:02.452Z"
   },
   {
    "duration": 96,
    "start_time": "2025-08-12T22:05:02.489Z"
   },
   {
    "duration": 9,
    "start_time": "2025-08-12T22:05:02.588Z"
   },
   {
    "duration": 182,
    "start_time": "2025-08-12T22:05:02.599Z"
   },
   {
    "duration": 298,
    "start_time": "2025-08-12T22:05:02.782Z"
   },
   {
    "duration": 4,
    "start_time": "2025-08-12T22:05:03.081Z"
   },
   {
    "duration": 83,
    "start_time": "2025-08-12T22:07:09.828Z"
   },
   {
    "duration": 101,
    "start_time": "2025-08-12T22:07:21.748Z"
   },
   {
    "duration": 11,
    "start_time": "2025-08-12T22:07:42.357Z"
   },
   {
    "duration": 12,
    "start_time": "2025-08-12T22:08:05.936Z"
   },
   {
    "duration": 12,
    "start_time": "2025-08-12T22:08:19.971Z"
   },
   {
    "duration": 167,
    "start_time": "2025-08-12T22:08:31.964Z"
   },
   {
    "duration": 7181,
    "start_time": "2025-08-12T22:09:36.138Z"
   },
   {
    "duration": 44,
    "start_time": "2025-08-15T16:06:19.231Z"
   },
   {
    "duration": 1314,
    "start_time": "2025-08-15T16:06:26.684Z"
   },
   {
    "duration": 81,
    "start_time": "2025-08-15T16:06:28.000Z"
   },
   {
    "duration": 26,
    "start_time": "2025-08-15T16:06:28.083Z"
   },
   {
    "duration": 17,
    "start_time": "2025-08-15T16:06:28.110Z"
   },
   {
    "duration": 22,
    "start_time": "2025-08-15T16:06:28.129Z"
   },
   {
    "duration": 59,
    "start_time": "2025-08-15T16:06:28.152Z"
   },
   {
    "duration": 7,
    "start_time": "2025-08-15T16:06:28.213Z"
   },
   {
    "duration": 11,
    "start_time": "2025-08-15T16:06:28.221Z"
   },
   {
    "duration": 4,
    "start_time": "2025-08-15T16:06:28.233Z"
   },
   {
    "duration": 18,
    "start_time": "2025-08-15T16:06:28.239Z"
   },
   {
    "duration": 34,
    "start_time": "2025-08-15T16:06:28.258Z"
   },
   {
    "duration": 10,
    "start_time": "2025-08-15T16:06:28.294Z"
   },
   {
    "duration": 107,
    "start_time": "2025-08-15T16:06:28.305Z"
   },
   {
    "duration": 8,
    "start_time": "2025-08-15T16:06:28.414Z"
   },
   {
    "duration": 5,
    "start_time": "2025-08-15T16:06:28.423Z"
   },
   {
    "duration": 92,
    "start_time": "2025-08-15T16:06:28.430Z"
   },
   {
    "duration": 110,
    "start_time": "2025-08-15T16:06:39.986Z"
   },
   {
    "duration": 1780,
    "start_time": "2025-08-15T16:06:54.720Z"
   },
   {
    "duration": 1600,
    "start_time": "2025-08-15T16:08:05.422Z"
   },
   {
    "duration": 23,
    "start_time": "2025-08-15T16:08:21.724Z"
   },
   {
    "duration": 1749,
    "start_time": "2025-08-15T16:08:29.401Z"
   },
   {
    "duration": 1678,
    "start_time": "2025-08-15T16:08:50.566Z"
   },
   {
    "duration": 1447,
    "start_time": "2025-08-15T16:08:59.327Z"
   },
   {
    "duration": 1682,
    "start_time": "2025-08-15T16:09:05.414Z"
   },
   {
    "duration": 1591,
    "start_time": "2025-08-15T16:09:43.683Z"
   },
   {
    "duration": 1677,
    "start_time": "2025-08-15T16:10:37.920Z"
   },
   {
    "duration": 1464,
    "start_time": "2025-08-15T16:10:57.608Z"
   },
   {
    "duration": 17,
    "start_time": "2025-08-15T16:11:02.898Z"
   },
   {
    "duration": 1717,
    "start_time": "2025-08-15T16:11:06.851Z"
   },
   {
    "duration": 1539,
    "start_time": "2025-08-15T16:11:14.940Z"
   },
   {
    "duration": 1633,
    "start_time": "2025-08-15T16:11:19.468Z"
   },
   {
    "duration": 1566,
    "start_time": "2025-08-15T16:11:48.945Z"
   },
   {
    "duration": 1751,
    "start_time": "2025-08-15T16:11:55.286Z"
   },
   {
    "duration": 171,
    "start_time": "2025-08-15T16:12:21.126Z"
   },
   {
    "duration": 1717,
    "start_time": "2025-08-15T16:12:38.004Z"
   },
   {
    "duration": 1694,
    "start_time": "2025-08-15T16:13:16.267Z"
   },
   {
    "duration": 4989,
    "start_time": "2025-08-15T16:14:57.252Z"
   },
   {
    "duration": 1820,
    "start_time": "2025-08-15T16:15:53.702Z"
   },
   {
    "duration": 1871,
    "start_time": "2025-08-15T16:16:14.360Z"
   },
   {
    "duration": 170,
    "start_time": "2025-08-15T16:16:28.083Z"
   },
   {
    "duration": 1899,
    "start_time": "2025-08-15T16:16:40.080Z"
   },
   {
    "duration": 2141,
    "start_time": "2025-08-15T16:20:13.768Z"
   },
   {
    "duration": 1897,
    "start_time": "2025-08-15T16:20:40.397Z"
   },
   {
    "duration": 2023,
    "start_time": "2025-08-15T16:21:31.688Z"
   },
   {
    "duration": 1966,
    "start_time": "2025-08-15T16:21:41.932Z"
   },
   {
    "duration": 2067,
    "start_time": "2025-08-15T16:21:53.832Z"
   },
   {
    "duration": 1926,
    "start_time": "2025-08-15T16:22:25.955Z"
   },
   {
    "duration": 2235,
    "start_time": "2025-08-15T16:23:02.434Z"
   },
   {
    "duration": 2433,
    "start_time": "2025-08-15T16:24:55.775Z"
   },
   {
    "duration": 2201,
    "start_time": "2025-08-15T16:25:29.291Z"
   },
   {
    "duration": 2498,
    "start_time": "2025-08-15T16:25:43.309Z"
   },
   {
    "duration": 2468,
    "start_time": "2025-08-15T16:25:52.730Z"
   },
   {
    "duration": 109,
    "start_time": "2025-08-15T16:38:18.136Z"
   },
   {
    "duration": 10,
    "start_time": "2025-08-15T16:38:23.154Z"
   },
   {
    "duration": 6,
    "start_time": "2025-08-15T16:38:43.660Z"
   },
   {
    "duration": 12,
    "start_time": "2025-08-15T16:38:54.803Z"
   },
   {
    "duration": 8,
    "start_time": "2025-08-15T16:39:06.801Z"
   },
   {
    "duration": 14,
    "start_time": "2025-08-15T16:39:35.159Z"
   },
   {
    "duration": 15,
    "start_time": "2025-08-15T16:39:39.101Z"
   },
   {
    "duration": 9,
    "start_time": "2025-08-15T16:39:47.117Z"
   },
   {
    "duration": 8,
    "start_time": "2025-08-15T16:39:52.392Z"
   },
   {
    "duration": 6,
    "start_time": "2025-08-15T16:40:09.483Z"
   },
   {
    "duration": 6,
    "start_time": "2025-08-15T16:40:16.226Z"
   },
   {
    "duration": 1582,
    "start_time": "2025-08-16T21:23:02.566Z"
   },
   {
    "duration": 98,
    "start_time": "2025-08-16T21:23:04.150Z"
   },
   {
    "duration": 33,
    "start_time": "2025-08-16T21:23:04.250Z"
   },
   {
    "duration": 37,
    "start_time": "2025-08-16T21:23:04.285Z"
   },
   {
    "duration": 45,
    "start_time": "2025-08-16T21:23:04.325Z"
   },
   {
    "duration": 57,
    "start_time": "2025-08-16T21:23:04.373Z"
   },
   {
    "duration": 11,
    "start_time": "2025-08-16T21:23:04.461Z"
   },
   {
    "duration": 10,
    "start_time": "2025-08-16T21:23:04.474Z"
   },
   {
    "duration": 5,
    "start_time": "2025-08-16T21:23:04.487Z"
   },
   {
    "duration": 29,
    "start_time": "2025-08-16T21:23:04.494Z"
   },
   {
    "duration": 8,
    "start_time": "2025-08-16T21:23:04.561Z"
   },
   {
    "duration": 32,
    "start_time": "2025-08-16T21:23:04.570Z"
   },
   {
    "duration": 168,
    "start_time": "2025-08-16T21:23:04.605Z"
   },
   {
    "duration": 11,
    "start_time": "2025-08-16T21:23:04.776Z"
   },
   {
    "duration": 17,
    "start_time": "2025-08-16T21:23:04.790Z"
   },
   {
    "duration": 3004,
    "start_time": "2025-08-16T21:23:04.809Z"
   },
   {
    "duration": 11,
    "start_time": "2025-08-16T21:23:40.282Z"
   },
   {
    "duration": 6,
    "start_time": "2025-08-16T21:25:21.410Z"
   },
   {
    "duration": 10,
    "start_time": "2025-08-16T21:25:30.279Z"
   },
   {
    "duration": 311,
    "start_time": "2025-08-16T21:28:29.803Z"
   },
   {
    "duration": 176,
    "start_time": "2025-08-16T21:29:33.850Z"
   },
   {
    "duration": 89,
    "start_time": "2025-08-16T21:29:50.109Z"
   },
   {
    "duration": 85,
    "start_time": "2025-08-16T21:36:13.006Z"
   },
   {
    "duration": 122,
    "start_time": "2025-08-16T21:36:19.195Z"
   },
   {
    "duration": 192,
    "start_time": "2025-08-16T21:38:15.757Z"
   },
   {
    "duration": 8,
    "start_time": "2025-08-16T21:40:54.376Z"
   },
   {
    "duration": 163,
    "start_time": "2025-08-16T21:41:26.546Z"
   },
   {
    "duration": 163,
    "start_time": "2025-08-16T21:41:46.539Z"
   },
   {
    "duration": 177,
    "start_time": "2025-08-16T21:42:17.179Z"
   },
   {
    "duration": 172,
    "start_time": "2025-08-16T21:43:10.416Z"
   },
   {
    "duration": 3,
    "start_time": "2025-08-16T21:43:57.202Z"
   },
   {
    "duration": 986,
    "start_time": "2025-08-16T21:44:26.709Z"
   },
   {
    "duration": 180,
    "start_time": "2025-08-16T21:44:35.274Z"
   },
   {
    "duration": 131,
    "start_time": "2025-08-16T21:44:40.065Z"
   },
   {
    "duration": 1237,
    "start_time": "2025-08-16T21:44:46.357Z"
   },
   {
    "duration": 1625,
    "start_time": "2025-08-16T21:45:14.348Z"
   },
   {
    "duration": 1429,
    "start_time": "2025-08-16T21:45:26.886Z"
   },
   {
    "duration": 118,
    "start_time": "2025-08-16T21:45:59.983Z"
   },
   {
    "duration": 307,
    "start_time": "2025-08-16T21:46:09.622Z"
   },
   {
    "duration": 296,
    "start_time": "2025-08-16T21:46:16.973Z"
   },
   {
    "duration": 300,
    "start_time": "2025-08-16T21:46:22.839Z"
   },
   {
    "duration": 311,
    "start_time": "2025-08-16T21:46:30.878Z"
   },
   {
    "duration": 303,
    "start_time": "2025-08-16T21:47:01.279Z"
   },
   {
    "duration": 256,
    "start_time": "2025-08-16T21:48:37.279Z"
   },
   {
    "duration": 181,
    "start_time": "2025-08-16T21:48:53.181Z"
   },
   {
    "duration": 178,
    "start_time": "2025-08-16T21:49:49.364Z"
   },
   {
    "duration": 161,
    "start_time": "2025-08-16T21:50:16.687Z"
   },
   {
    "duration": 163,
    "start_time": "2025-08-16T21:50:42.534Z"
   },
   {
    "duration": 166,
    "start_time": "2025-08-16T21:51:15.081Z"
   },
   {
    "duration": 174,
    "start_time": "2025-08-16T21:52:07.110Z"
   },
   {
    "duration": 155,
    "start_time": "2025-08-16T21:53:26.429Z"
   },
   {
    "duration": 296,
    "start_time": "2025-08-16T21:53:48.533Z"
   },
   {
    "duration": 9,
    "start_time": "2025-08-16T21:54:24.190Z"
   },
   {
    "duration": 192,
    "start_time": "2025-08-16T21:55:46.746Z"
   },
   {
    "duration": 10,
    "start_time": "2025-08-16T21:56:36.849Z"
   },
   {
    "duration": 18,
    "start_time": "2025-08-16T21:59:29.021Z"
   },
   {
    "duration": 154,
    "start_time": "2025-08-16T21:59:40.836Z"
   },
   {
    "duration": 132,
    "start_time": "2025-08-16T21:59:46.549Z"
   },
   {
    "duration": 10,
    "start_time": "2025-08-16T21:59:59.423Z"
   },
   {
    "duration": 8,
    "start_time": "2025-08-16T22:00:07.484Z"
   },
   {
    "duration": 16,
    "start_time": "2025-08-16T22:00:57.231Z"
   },
   {
    "duration": 9,
    "start_time": "2025-08-16T22:01:03.521Z"
   },
   {
    "duration": 9,
    "start_time": "2025-08-16T22:01:54.530Z"
   },
   {
    "duration": 12,
    "start_time": "2025-08-16T22:02:05.690Z"
   },
   {
    "duration": 22,
    "start_time": "2025-08-16T22:02:57.297Z"
   },
   {
    "duration": 10,
    "start_time": "2025-08-16T22:03:18.627Z"
   },
   {
    "duration": 10,
    "start_time": "2025-08-16T22:03:49.209Z"
   },
   {
    "duration": 12,
    "start_time": "2025-08-16T22:03:53.502Z"
   },
   {
    "duration": 12,
    "start_time": "2025-08-16T22:03:59.238Z"
   },
   {
    "duration": 24,
    "start_time": "2025-08-16T22:04:38.512Z"
   },
   {
    "duration": 24,
    "start_time": "2025-08-16T22:04:51.617Z"
   },
   {
    "duration": 10,
    "start_time": "2025-08-16T22:05:29.945Z"
   },
   {
    "duration": 9,
    "start_time": "2025-08-16T22:05:34.062Z"
   },
   {
    "duration": 1625,
    "start_time": "2025-08-17T11:03:31.144Z"
   },
   {
    "duration": 101,
    "start_time": "2025-08-17T11:03:32.772Z"
   },
   {
    "duration": 38,
    "start_time": "2025-08-17T11:03:32.875Z"
   },
   {
    "duration": 82,
    "start_time": "2025-08-17T11:03:32.915Z"
   },
   {
    "duration": 33,
    "start_time": "2025-08-17T11:03:33.000Z"
   },
   {
    "duration": 50,
    "start_time": "2025-08-17T11:03:33.035Z"
   },
   {
    "duration": 11,
    "start_time": "2025-08-17T11:03:33.087Z"
   },
   {
    "duration": 35,
    "start_time": "2025-08-17T11:03:33.100Z"
   },
   {
    "duration": 12,
    "start_time": "2025-08-17T11:03:33.137Z"
   },
   {
    "duration": 38,
    "start_time": "2025-08-17T11:03:33.152Z"
   },
   {
    "duration": 8,
    "start_time": "2025-08-17T11:03:33.193Z"
   },
   {
    "duration": 108,
    "start_time": "2025-08-17T11:03:33.203Z"
   },
   {
    "duration": 161,
    "start_time": "2025-08-17T11:03:33.314Z"
   },
   {
    "duration": 13,
    "start_time": "2025-08-17T11:03:33.480Z"
   },
   {
    "duration": 8,
    "start_time": "2025-08-17T11:03:33.495Z"
   },
   {
    "duration": 3019,
    "start_time": "2025-08-17T11:03:33.505Z"
   },
   {
    "duration": 343,
    "start_time": "2025-08-17T11:03:36.527Z"
   },
   {
    "duration": 139,
    "start_time": "2025-08-17T11:03:36.872Z"
   },
   {
    "duration": 0,
    "start_time": "2025-08-17T11:03:37.013Z"
   },
   {
    "duration": 0,
    "start_time": "2025-08-17T11:03:37.015Z"
   },
   {
    "duration": 10,
    "start_time": "2025-08-17T11:05:04.234Z"
   },
   {
    "duration": 9,
    "start_time": "2025-08-17T11:05:23.598Z"
   },
   {
    "duration": 9,
    "start_time": "2025-08-17T11:05:31.871Z"
   },
   {
    "duration": 105,
    "start_time": "2025-08-17T11:05:50.050Z"
   },
   {
    "duration": 7,
    "start_time": "2025-08-17T11:05:59.380Z"
   },
   {
    "duration": 6,
    "start_time": "2025-08-17T11:06:19.841Z"
   },
   {
    "duration": 81,
    "start_time": "2025-08-17T11:06:27.610Z"
   },
   {
    "duration": 9,
    "start_time": "2025-08-17T11:06:34.121Z"
   },
   {
    "duration": 7,
    "start_time": "2025-08-17T11:08:06.491Z"
   },
   {
    "duration": 1337,
    "start_time": "2025-08-18T10:15:06.265Z"
   },
   {
    "duration": 88,
    "start_time": "2025-08-18T10:15:07.604Z"
   },
   {
    "duration": 28,
    "start_time": "2025-08-18T10:15:07.693Z"
   },
   {
    "duration": 43,
    "start_time": "2025-08-18T10:15:07.723Z"
   },
   {
    "duration": 95,
    "start_time": "2025-08-18T10:15:07.768Z"
   },
   {
    "duration": 31,
    "start_time": "2025-08-18T10:15:07.864Z"
   },
   {
    "duration": 62,
    "start_time": "2025-08-18T10:15:07.897Z"
   },
   {
    "duration": 23,
    "start_time": "2025-08-18T10:15:07.960Z"
   },
   {
    "duration": 5,
    "start_time": "2025-08-18T10:15:07.985Z"
   },
   {
    "duration": 22,
    "start_time": "2025-08-18T10:15:07.992Z"
   },
   {
    "duration": 50,
    "start_time": "2025-08-18T10:15:08.016Z"
   },
   {
    "duration": 38,
    "start_time": "2025-08-18T10:15:08.068Z"
   },
   {
    "duration": 101,
    "start_time": "2025-08-18T10:15:08.108Z"
   },
   {
    "duration": 9,
    "start_time": "2025-08-18T10:15:08.211Z"
   },
   {
    "duration": 7,
    "start_time": "2025-08-18T10:15:08.221Z"
   },
   {
    "duration": 2529,
    "start_time": "2025-08-18T10:15:08.229Z"
   },
   {
    "duration": 263,
    "start_time": "2025-08-18T10:15:10.760Z"
   },
   {
    "duration": 8,
    "start_time": "2025-08-18T10:15:11.024Z"
   },
   {
    "duration": 9,
    "start_time": "2025-08-18T10:16:14.318Z"
   },
   {
    "duration": 6,
    "start_time": "2025-08-18T10:16:27.930Z"
   },
   {
    "duration": 9,
    "start_time": "2025-08-18T10:16:38.691Z"
   },
   {
    "duration": 5,
    "start_time": "2025-08-18T10:16:49.344Z"
   },
   {
    "duration": 3,
    "start_time": "2025-08-18T10:22:53.606Z"
   },
   {
    "duration": 74,
    "start_time": "2025-08-18T10:27:04.826Z"
   },
   {
    "duration": 12,
    "start_time": "2025-08-18T10:27:10.184Z"
   },
   {
    "duration": 14,
    "start_time": "2025-08-18T10:27:15.017Z"
   },
   {
    "duration": 16,
    "start_time": "2025-08-18T10:28:46.663Z"
   },
   {
    "duration": 25,
    "start_time": "2025-08-18T10:32:50.192Z"
   },
   {
    "duration": 20,
    "start_time": "2025-08-18T10:32:56.648Z"
   },
   {
    "duration": 1364,
    "start_time": "2025-08-18T10:37:47.336Z"
   },
   {
    "duration": 1221,
    "start_time": "2025-08-18T10:38:00.532Z"
   },
   {
    "duration": 8,
    "start_time": "2025-08-18T10:38:24.169Z"
   },
   {
    "duration": 1207,
    "start_time": "2025-08-18T10:39:12.610Z"
   },
   {
    "duration": 8,
    "start_time": "2025-08-18T10:39:20.606Z"
   },
   {
    "duration": 11,
    "start_time": "2025-08-18T10:39:35.432Z"
   },
   {
    "duration": 30,
    "start_time": "2025-08-18T10:39:55.622Z"
   },
   {
    "duration": 23,
    "start_time": "2025-08-18T10:40:02.159Z"
   },
   {
    "duration": 74,
    "start_time": "2025-08-18T10:43:02.429Z"
   },
   {
    "duration": 7,
    "start_time": "2025-08-18T10:44:07.277Z"
   },
   {
    "duration": 14,
    "start_time": "2025-08-18T10:45:01.548Z"
   },
   {
    "duration": 14,
    "start_time": "2025-08-18T10:45:09.215Z"
   },
   {
    "duration": 24,
    "start_time": "2025-08-18T10:45:18.951Z"
   },
   {
    "duration": 1070,
    "start_time": "2025-08-18T12:56:16.010Z"
   },
   {
    "duration": 76,
    "start_time": "2025-08-18T12:56:17.082Z"
   },
   {
    "duration": 29,
    "start_time": "2025-08-18T12:56:17.160Z"
   },
   {
    "duration": 17,
    "start_time": "2025-08-18T12:56:17.191Z"
   },
   {
    "duration": 54,
    "start_time": "2025-08-18T12:56:17.211Z"
   },
   {
    "duration": 32,
    "start_time": "2025-08-18T12:56:17.267Z"
   },
   {
    "duration": 9,
    "start_time": "2025-08-18T12:56:17.301Z"
   },
   {
    "duration": 28,
    "start_time": "2025-08-18T12:56:17.312Z"
   },
   {
    "duration": 20,
    "start_time": "2025-08-18T12:56:17.342Z"
   },
   {
    "duration": 34,
    "start_time": "2025-08-18T12:56:17.364Z"
   },
   {
    "duration": 11,
    "start_time": "2025-08-18T12:56:17.400Z"
   },
   {
    "duration": 59,
    "start_time": "2025-08-18T12:56:17.412Z"
   },
   {
    "duration": 152,
    "start_time": "2025-08-18T12:56:17.473Z"
   },
   {
    "duration": 36,
    "start_time": "2025-08-18T12:56:17.629Z"
   },
   {
    "duration": 6,
    "start_time": "2025-08-18T12:56:17.667Z"
   },
   {
    "duration": 2376,
    "start_time": "2025-08-18T12:56:17.675Z"
   },
   {
    "duration": 249,
    "start_time": "2025-08-18T12:56:20.053Z"
   },
   {
    "duration": 7,
    "start_time": "2025-08-18T12:56:20.304Z"
   },
   {
    "duration": 8,
    "start_time": "2025-08-18T12:56:20.312Z"
   },
   {
    "duration": 8,
    "start_time": "2025-08-18T12:56:20.321Z"
   },
   {
    "duration": 43,
    "start_time": "2025-08-18T12:56:20.330Z"
   },
   {
    "duration": 24,
    "start_time": "2025-08-18T12:56:20.375Z"
   },
   {
    "duration": 3,
    "start_time": "2025-08-18T12:58:53.971Z"
   },
   {
    "duration": 5,
    "start_time": "2025-08-18T12:59:03.671Z"
   },
   {
    "duration": 2034,
    "start_time": "2025-08-18T13:10:32.261Z"
   },
   {
    "duration": 1976,
    "start_time": "2025-08-18T13:10:36.672Z"
   },
   {
    "duration": 112,
    "start_time": "2025-08-18T13:11:15.144Z"
   },
   {
    "duration": 11,
    "start_time": "2025-08-18T13:11:29.567Z"
   },
   {
    "duration": 10,
    "start_time": "2025-08-18T13:11:39.177Z"
   },
   {
    "duration": 1927,
    "start_time": "2025-08-18T13:11:53.804Z"
   },
   {
    "duration": 1913,
    "start_time": "2025-08-18T13:12:23.164Z"
   },
   {
    "duration": 1870,
    "start_time": "2025-08-18T13:13:38.466Z"
   },
   {
    "duration": 72,
    "start_time": "2025-08-18T13:19:48.962Z"
   },
   {
    "duration": 26,
    "start_time": "2025-08-18T13:20:19.094Z"
   },
   {
    "duration": 454,
    "start_time": "2025-08-18T13:22:12.017Z"
   },
   {
    "duration": 419,
    "start_time": "2025-08-18T13:22:23.450Z"
   },
   {
    "duration": 586,
    "start_time": "2025-08-18T13:22:34.477Z"
   },
   {
    "duration": 483,
    "start_time": "2025-08-18T13:22:40.282Z"
   },
   {
    "duration": 976,
    "start_time": "2025-08-18T13:25:44.696Z"
   },
   {
    "duration": 3,
    "start_time": "2025-08-18T13:25:54.100Z"
   },
   {
    "duration": 508,
    "start_time": "2025-08-18T13:26:00.662Z"
   },
   {
    "duration": 781,
    "start_time": "2025-08-18T13:27:01.995Z"
   },
   {
    "duration": 263,
    "start_time": "2025-08-18T13:54:19.696Z"
   },
   {
    "duration": 79,
    "start_time": "2025-08-18T13:55:09.352Z"
   },
   {
    "duration": 97,
    "start_time": "2025-08-18T13:55:14.636Z"
   },
   {
    "duration": 92,
    "start_time": "2025-08-18T13:55:24.446Z"
   },
   {
    "duration": 76,
    "start_time": "2025-08-18T13:55:35.567Z"
   },
   {
    "duration": 85,
    "start_time": "2025-08-18T13:55:41.022Z"
   },
   {
    "duration": 797,
    "start_time": "2025-08-18T13:56:02.649Z"
   },
   {
    "duration": 74,
    "start_time": "2025-08-18T13:59:14.847Z"
   },
   {
    "duration": 1389,
    "start_time": "2025-08-19T09:29:56.044Z"
   },
   {
    "duration": 78,
    "start_time": "2025-08-19T09:29:57.435Z"
   },
   {
    "duration": 31,
    "start_time": "2025-08-19T09:29:57.515Z"
   },
   {
    "duration": 103,
    "start_time": "2025-08-19T09:29:57.548Z"
   },
   {
    "duration": 30,
    "start_time": "2025-08-19T09:29:57.654Z"
   },
   {
    "duration": 32,
    "start_time": "2025-08-19T09:29:57.685Z"
   },
   {
    "duration": 8,
    "start_time": "2025-08-19T09:29:57.718Z"
   },
   {
    "duration": 9,
    "start_time": "2025-08-19T09:29:57.728Z"
   },
   {
    "duration": 104,
    "start_time": "2025-08-19T09:29:57.739Z"
   },
   {
    "duration": 125,
    "start_time": "2025-08-19T09:29:57.845Z"
   },
   {
    "duration": 7,
    "start_time": "2025-08-19T09:29:57.972Z"
   },
   {
    "duration": 11,
    "start_time": "2025-08-19T09:29:57.980Z"
   },
   {
    "duration": 117,
    "start_time": "2025-08-19T09:29:57.993Z"
   },
   {
    "duration": 7,
    "start_time": "2025-08-19T09:29:58.113Z"
   },
   {
    "duration": 6,
    "start_time": "2025-08-19T09:29:58.122Z"
   },
   {
    "duration": 2547,
    "start_time": "2025-08-19T09:29:58.129Z"
   },
   {
    "duration": 165,
    "start_time": "2025-08-19T09:30:00.678Z"
   },
   {
    "duration": 7,
    "start_time": "2025-08-19T09:30:00.844Z"
   },
   {
    "duration": 30,
    "start_time": "2025-08-19T09:30:00.853Z"
   },
   {
    "duration": 6,
    "start_time": "2025-08-19T09:30:00.885Z"
   },
   {
    "duration": 36,
    "start_time": "2025-08-19T09:30:00.893Z"
   },
   {
    "duration": 128,
    "start_time": "2025-08-19T09:30:00.931Z"
   },
   {
    "duration": 845,
    "start_time": "2025-08-19T09:31:12.188Z"
   },
   {
    "duration": 1306,
    "start_time": "2025-08-22T14:16:00.999Z"
   },
   {
    "duration": 223,
    "start_time": "2025-08-22T14:16:02.307Z"
   },
   {
    "duration": 29,
    "start_time": "2025-08-22T14:16:02.532Z"
   },
   {
    "duration": 51,
    "start_time": "2025-08-22T14:16:02.564Z"
   },
   {
    "duration": 53,
    "start_time": "2025-08-22T14:16:02.617Z"
   },
   {
    "duration": 64,
    "start_time": "2025-08-22T14:16:02.672Z"
   },
   {
    "duration": 8,
    "start_time": "2025-08-22T14:16:02.738Z"
   },
   {
    "duration": 47,
    "start_time": "2025-08-22T14:16:02.748Z"
   },
   {
    "duration": 36,
    "start_time": "2025-08-22T14:16:02.797Z"
   },
   {
    "duration": 32,
    "start_time": "2025-08-22T14:16:02.836Z"
   },
   {
    "duration": 29,
    "start_time": "2025-08-22T14:16:02.870Z"
   },
   {
    "duration": 39,
    "start_time": "2025-08-22T14:16:02.900Z"
   },
   {
    "duration": 117,
    "start_time": "2025-08-22T14:16:02.940Z"
   },
   {
    "duration": 9,
    "start_time": "2025-08-22T14:16:03.058Z"
   },
   {
    "duration": 16,
    "start_time": "2025-08-22T14:16:03.068Z"
   },
   {
    "duration": 2507,
    "start_time": "2025-08-22T14:16:03.086Z"
   },
   {
    "duration": 161,
    "start_time": "2025-08-22T14:16:05.595Z"
   },
   {
    "duration": 6,
    "start_time": "2025-08-22T14:16:05.758Z"
   },
   {
    "duration": 70,
    "start_time": "2025-08-22T14:16:05.765Z"
   },
   {
    "duration": 91,
    "start_time": "2025-08-22T14:16:05.836Z"
   },
   {
    "duration": 24,
    "start_time": "2025-08-22T14:16:05.928Z"
   },
   {
    "duration": 794,
    "start_time": "2025-08-22T14:16:05.954Z"
   },
   {
    "duration": 314,
    "start_time": "2025-08-22T14:57:18.586Z"
   },
   {
    "duration": 60,
    "start_time": "2025-08-22T15:02:18.322Z"
   },
   {
    "duration": 2226,
    "start_time": "2025-08-23T08:01:03.183Z"
   },
   {
    "duration": 90,
    "start_time": "2025-08-23T08:01:05.412Z"
   },
   {
    "duration": 29,
    "start_time": "2025-08-23T08:01:05.504Z"
   },
   {
    "duration": 17,
    "start_time": "2025-08-23T08:01:05.534Z"
   },
   {
    "duration": 51,
    "start_time": "2025-08-23T08:01:05.554Z"
   },
   {
    "duration": 51,
    "start_time": "2025-08-23T08:01:05.607Z"
   },
   {
    "duration": 9,
    "start_time": "2025-08-23T08:01:05.660Z"
   },
   {
    "duration": 49,
    "start_time": "2025-08-23T08:01:05.671Z"
   },
   {
    "duration": 17,
    "start_time": "2025-08-23T08:01:05.722Z"
   },
   {
    "duration": 40,
    "start_time": "2025-08-23T08:01:05.741Z"
   },
   {
    "duration": 10,
    "start_time": "2025-08-23T08:01:05.783Z"
   },
   {
    "duration": 52,
    "start_time": "2025-08-23T08:01:05.795Z"
   },
   {
    "duration": 130,
    "start_time": "2025-08-23T08:01:05.850Z"
   },
   {
    "duration": 9,
    "start_time": "2025-08-23T08:01:05.983Z"
   },
   {
    "duration": 29,
    "start_time": "2025-08-23T08:01:05.994Z"
   },
   {
    "duration": 2652,
    "start_time": "2025-08-23T08:01:06.025Z"
   },
   {
    "duration": 172,
    "start_time": "2025-08-23T08:01:08.679Z"
   },
   {
    "duration": 7,
    "start_time": "2025-08-23T08:01:08.853Z"
   },
   {
    "duration": 12,
    "start_time": "2025-08-23T08:01:08.861Z"
   },
   {
    "duration": 7,
    "start_time": "2025-08-23T08:01:08.875Z"
   },
   {
    "duration": 21,
    "start_time": "2025-08-23T08:01:08.883Z"
   },
   {
    "duration": 866,
    "start_time": "2025-08-23T08:01:08.906Z"
   },
   {
    "duration": 147,
    "start_time": "2025-08-23T08:01:09.774Z"
   },
   {
    "duration": 17,
    "start_time": "2025-08-23T08:01:43.961Z"
   },
   {
    "duration": 3,
    "start_time": "2025-08-23T08:02:52.713Z"
   },
   {
    "duration": 25,
    "start_time": "2025-08-23T08:03:00.107Z"
   },
   {
    "duration": 10,
    "start_time": "2025-08-23T08:03:42.570Z"
   },
   {
    "duration": 4,
    "start_time": "2025-08-23T08:03:44.636Z"
   },
   {
    "duration": 19,
    "start_time": "2025-08-23T08:04:51.277Z"
   },
   {
    "duration": 20,
    "start_time": "2025-08-23T08:05:45.580Z"
   },
   {
    "duration": 21,
    "start_time": "2025-08-23T08:07:26.169Z"
   },
   {
    "duration": 24,
    "start_time": "2025-08-23T08:09:47.094Z"
   },
   {
    "duration": 10,
    "start_time": "2025-08-23T08:10:23.220Z"
   },
   {
    "duration": 21,
    "start_time": "2025-08-23T08:10:27.036Z"
   },
   {
    "duration": 25,
    "start_time": "2025-08-23T08:15:09.317Z"
   },
   {
    "duration": 4,
    "start_time": "2025-08-23T08:18:34.201Z"
   },
   {
    "duration": 21,
    "start_time": "2025-08-23T08:18:38.057Z"
   },
   {
    "duration": 4,
    "start_time": "2025-08-23T08:19:07.356Z"
   },
   {
    "duration": 27,
    "start_time": "2025-08-23T08:19:10.902Z"
   },
   {
    "duration": 4,
    "start_time": "2025-08-23T08:19:34.634Z"
   },
   {
    "duration": 22,
    "start_time": "2025-08-23T08:19:38.901Z"
   },
   {
    "duration": 4,
    "start_time": "2025-08-23T08:20:33.098Z"
   },
   {
    "duration": 23,
    "start_time": "2025-08-23T08:20:36.189Z"
   },
   {
    "duration": 4,
    "start_time": "2025-08-23T08:20:56.723Z"
   },
   {
    "duration": 9256,
    "start_time": "2025-08-23T08:20:59.384Z"
   },
   {
    "duration": 9252,
    "start_time": "2025-08-23T08:23:01.731Z"
   },
   {
    "duration": 9213,
    "start_time": "2025-08-23T08:23:26.484Z"
   },
   {
    "duration": 95,
    "start_time": "2025-08-23T08:23:54.593Z"
   },
   {
    "duration": 9535,
    "start_time": "2025-08-23T08:24:01.599Z"
   },
   {
    "duration": 9198,
    "start_time": "2025-08-23T08:24:17.376Z"
   },
   {
    "duration": 13,
    "start_time": "2025-08-23T08:27:00.067Z"
   },
   {
    "duration": 4,
    "start_time": "2025-08-23T08:27:20.073Z"
   },
   {
    "duration": 4749,
    "start_time": "2025-08-23T08:27:29.259Z"
   },
   {
    "duration": 2450,
    "start_time": "2025-08-23T08:27:41.368Z"
   },
   {
    "duration": 369,
    "start_time": "2025-08-23T08:27:57.739Z"
   },
   {
    "duration": 1499,
    "start_time": "2025-08-23T08:28:02.937Z"
   },
   {
    "duration": 2390,
    "start_time": "2025-08-23T08:28:04.438Z"
   },
   {
    "duration": 443,
    "start_time": "2025-08-23T08:28:06.830Z"
   },
   {
    "duration": 85,
    "start_time": "2025-08-23T08:28:07.275Z"
   },
   {
    "duration": 28,
    "start_time": "2025-08-23T08:28:07.362Z"
   },
   {
    "duration": 18,
    "start_time": "2025-08-23T08:28:07.392Z"
   },
   {
    "duration": 34,
    "start_time": "2025-08-23T08:28:07.411Z"
   },
   {
    "duration": 32,
    "start_time": "2025-08-23T08:28:07.447Z"
   },
   {
    "duration": 7,
    "start_time": "2025-08-23T08:28:07.481Z"
   },
   {
    "duration": 32,
    "start_time": "2025-08-23T08:28:07.490Z"
   },
   {
    "duration": 19,
    "start_time": "2025-08-23T08:28:07.524Z"
   },
   {
    "duration": 94,
    "start_time": "2025-08-23T08:28:07.545Z"
   },
   {
    "duration": 11,
    "start_time": "2025-08-23T08:28:07.640Z"
   },
   {
    "duration": 12,
    "start_time": "2025-08-23T08:28:07.654Z"
   },
   {
    "duration": 118,
    "start_time": "2025-08-23T08:28:07.667Z"
   },
   {
    "duration": 8,
    "start_time": "2025-08-23T08:28:07.786Z"
   },
   {
    "duration": 13,
    "start_time": "2025-08-23T08:28:07.795Z"
   },
   {
    "duration": 2538,
    "start_time": "2025-08-23T08:28:07.809Z"
   },
   {
    "duration": 157,
    "start_time": "2025-08-23T08:28:10.349Z"
   },
   {
    "duration": 8,
    "start_time": "2025-08-23T08:28:10.509Z"
   },
   {
    "duration": 24,
    "start_time": "2025-08-23T08:28:10.519Z"
   },
   {
    "duration": 19,
    "start_time": "2025-08-23T08:28:10.545Z"
   },
   {
    "duration": 54,
    "start_time": "2025-08-23T08:28:10.566Z"
   },
   {
    "duration": 842,
    "start_time": "2025-08-23T08:28:10.622Z"
   },
   {
    "duration": 9313,
    "start_time": "2025-08-23T08:28:11.467Z"
   },
   {
    "duration": 145,
    "start_time": "2025-08-23T08:28:35.447Z"
   },
   {
    "duration": 21,
    "start_time": "2025-08-23T08:28:45.592Z"
   },
   {
    "duration": 4,
    "start_time": "2025-08-23T08:38:41.964Z"
   },
   {
    "duration": 86,
    "start_time": "2025-08-23T08:38:44.866Z"
   },
   {
    "duration": 91,
    "start_time": "2025-08-23T08:38:50.718Z"
   },
   {
    "duration": 722,
    "start_time": "2025-08-23T08:48:29.764Z"
   },
   {
    "duration": 41,
    "start_time": "2025-08-23T08:48:50.433Z"
   },
   {
    "duration": 1634,
    "start_time": "2025-08-23T18:18:14.520Z"
   },
   {
    "duration": 3914,
    "start_time": "2025-08-23T18:18:16.156Z"
   },
   {
    "duration": 449,
    "start_time": "2025-08-23T18:18:20.072Z"
   },
   {
    "duration": 85,
    "start_time": "2025-08-23T18:18:20.522Z"
   },
   {
    "duration": 29,
    "start_time": "2025-08-23T18:18:20.609Z"
   },
   {
    "duration": 18,
    "start_time": "2025-08-23T18:18:20.639Z"
   },
   {
    "duration": 23,
    "start_time": "2025-08-23T18:18:20.659Z"
   },
   {
    "duration": 60,
    "start_time": "2025-08-23T18:18:20.683Z"
   },
   {
    "duration": 8,
    "start_time": "2025-08-23T18:18:20.744Z"
   },
   {
    "duration": 20,
    "start_time": "2025-08-23T18:18:20.753Z"
   },
   {
    "duration": 4,
    "start_time": "2025-08-23T18:18:20.774Z"
   },
   {
    "duration": 18,
    "start_time": "2025-08-23T18:18:20.780Z"
   },
   {
    "duration": 6,
    "start_time": "2025-08-23T18:18:20.800Z"
   },
   {
    "duration": 32,
    "start_time": "2025-08-23T18:18:20.809Z"
   },
   {
    "duration": 129,
    "start_time": "2025-08-23T18:18:20.842Z"
   },
   {
    "duration": 12,
    "start_time": "2025-08-23T18:18:20.973Z"
   },
   {
    "duration": 44,
    "start_time": "2025-08-23T18:18:20.987Z"
   },
   {
    "duration": 2499,
    "start_time": "2025-08-23T18:18:21.033Z"
   },
   {
    "duration": 160,
    "start_time": "2025-08-23T18:18:23.534Z"
   },
   {
    "duration": 9,
    "start_time": "2025-08-23T18:18:23.696Z"
   },
   {
    "duration": 8,
    "start_time": "2025-08-23T18:18:23.706Z"
   },
   {
    "duration": 27,
    "start_time": "2025-08-23T18:18:23.716Z"
   },
   {
    "duration": 23,
    "start_time": "2025-08-23T18:18:23.745Z"
   },
   {
    "duration": 818,
    "start_time": "2025-08-23T18:18:23.770Z"
   },
   {
    "duration": 9218,
    "start_time": "2025-08-23T18:18:24.590Z"
   },
   {
    "duration": 156,
    "start_time": "2025-08-23T18:18:33.810Z"
   },
   {
    "duration": 20,
    "start_time": "2025-08-23T18:24:09.695Z"
   },
   {
    "duration": 31,
    "start_time": "2025-08-23T18:24:17.585Z"
   },
   {
    "duration": 21,
    "start_time": "2025-08-23T18:25:21.623Z"
   },
   {
    "duration": 30,
    "start_time": "2025-08-23T18:25:31.834Z"
   },
   {
    "duration": 15,
    "start_time": "2025-08-23T18:26:32.302Z"
   },
   {
    "duration": 912,
    "start_time": "2025-08-23T18:26:40.131Z"
   },
   {
    "duration": 891,
    "start_time": "2025-08-23T18:27:43.082Z"
   },
   {
    "duration": 15,
    "start_time": "2025-08-23T18:28:52.281Z"
   },
   {
    "duration": 1055,
    "start_time": "2025-08-23T18:29:01.231Z"
   },
   {
    "duration": 23,
    "start_time": "2025-08-23T20:09:01.171Z"
   },
   {
    "duration": 15,
    "start_time": "2025-08-23T20:10:58.173Z"
   },
   {
    "duration": 19,
    "start_time": "2025-08-23T20:11:39.010Z"
   },
   {
    "duration": 34,
    "start_time": "2025-08-23T20:11:48.629Z"
   },
   {
    "duration": 32,
    "start_time": "2025-08-23T20:13:16.394Z"
   },
   {
    "duration": 41,
    "start_time": "2025-08-23T20:13:30.019Z"
   },
   {
    "duration": 4,
    "start_time": "2025-08-23T20:14:40.825Z"
   },
   {
    "duration": 111,
    "start_time": "2025-08-23T20:14:44.742Z"
   },
   {
    "duration": 82,
    "start_time": "2025-08-23T20:15:24.360Z"
   },
   {
    "duration": 1094,
    "start_time": "2025-08-23T20:16:16.228Z"
   },
   {
    "duration": 9,
    "start_time": "2025-08-23T20:17:50.661Z"
   },
   {
    "duration": 619,
    "start_time": "2025-08-23T20:18:23.133Z"
   },
   {
    "duration": 8,
    "start_time": "2025-08-23T20:19:03.865Z"
   },
   {
    "duration": 6,
    "start_time": "2025-08-23T20:19:16.234Z"
   },
   {
    "duration": 657,
    "start_time": "2025-08-23T20:22:36.630Z"
   },
   {
    "duration": 5,
    "start_time": "2025-08-23T20:24:42.480Z"
   },
   {
    "duration": 1391,
    "start_time": "2025-08-23T20:24:48.153Z"
   },
   {
    "duration": 2574,
    "start_time": "2025-08-23T20:24:49.546Z"
   },
   {
    "duration": 425,
    "start_time": "2025-08-23T20:24:52.122Z"
   },
   {
    "duration": 74,
    "start_time": "2025-08-23T20:24:52.549Z"
   },
   {
    "duration": 27,
    "start_time": "2025-08-23T20:24:52.625Z"
   },
   {
    "duration": 34,
    "start_time": "2025-08-23T20:24:52.653Z"
   },
   {
    "duration": 23,
    "start_time": "2025-08-23T20:24:52.689Z"
   },
   {
    "duration": 49,
    "start_time": "2025-08-23T20:24:52.713Z"
   },
   {
    "duration": 8,
    "start_time": "2025-08-23T20:24:52.764Z"
   },
   {
    "duration": 17,
    "start_time": "2025-08-23T20:24:52.775Z"
   },
   {
    "duration": 23,
    "start_time": "2025-08-23T20:24:52.794Z"
   },
   {
    "duration": 42,
    "start_time": "2025-08-23T20:24:52.819Z"
   },
   {
    "duration": 6,
    "start_time": "2025-08-23T20:24:52.863Z"
   },
   {
    "duration": 13,
    "start_time": "2025-08-23T20:24:52.871Z"
   },
   {
    "duration": 117,
    "start_time": "2025-08-23T20:24:52.886Z"
   },
   {
    "duration": 9,
    "start_time": "2025-08-23T20:24:53.004Z"
   },
   {
    "duration": 29,
    "start_time": "2025-08-23T20:24:53.014Z"
   },
   {
    "duration": 2510,
    "start_time": "2025-08-23T20:24:53.045Z"
   },
   {
    "duration": 164,
    "start_time": "2025-08-23T20:24:55.557Z"
   },
   {
    "duration": 16,
    "start_time": "2025-08-23T20:24:55.723Z"
   },
   {
    "duration": 28,
    "start_time": "2025-08-23T20:24:55.741Z"
   },
   {
    "duration": 8,
    "start_time": "2025-08-23T20:24:55.771Z"
   },
   {
    "duration": 20,
    "start_time": "2025-08-23T20:24:55.781Z"
   },
   {
    "duration": 853,
    "start_time": "2025-08-23T20:24:55.803Z"
   },
   {
    "duration": 9113,
    "start_time": "2025-08-23T20:24:56.658Z"
   },
   {
    "duration": 1112,
    "start_time": "2025-08-23T20:25:05.773Z"
   },
   {
    "duration": 119,
    "start_time": "2025-08-23T20:25:06.887Z"
   },
   {
    "duration": 1135,
    "start_time": "2025-08-23T20:25:07.009Z"
   },
   {
    "duration": 11,
    "start_time": "2025-08-23T20:25:08.146Z"
   },
   {
    "duration": 11,
    "start_time": "2025-08-23T20:25:08.159Z"
   },
   {
    "duration": 39,
    "start_time": "2025-08-23T20:25:08.171Z"
   },
   {
    "duration": 1364,
    "start_time": "2025-08-23T20:28:56.193Z"
   },
   {
    "duration": 2404,
    "start_time": "2025-08-23T20:28:57.559Z"
   },
   {
    "duration": 426,
    "start_time": "2025-08-23T20:28:59.966Z"
   },
   {
    "duration": 85,
    "start_time": "2025-08-23T20:29:00.394Z"
   },
   {
    "duration": 28,
    "start_time": "2025-08-23T20:29:00.481Z"
   },
   {
    "duration": 34,
    "start_time": "2025-08-23T20:29:00.510Z"
   },
   {
    "duration": 61,
    "start_time": "2025-08-23T20:29:00.546Z"
   },
   {
    "duration": 48,
    "start_time": "2025-08-23T20:29:00.609Z"
   },
   {
    "duration": 59,
    "start_time": "2025-08-23T20:29:00.658Z"
   },
   {
    "duration": 39,
    "start_time": "2025-08-23T20:29:00.718Z"
   },
   {
    "duration": 38,
    "start_time": "2025-08-23T20:29:00.758Z"
   },
   {
    "duration": 51,
    "start_time": "2025-08-23T20:29:00.798Z"
   },
   {
    "duration": 23,
    "start_time": "2025-08-23T20:29:00.851Z"
   },
   {
    "duration": 26,
    "start_time": "2025-08-23T20:29:00.876Z"
   },
   {
    "duration": 151,
    "start_time": "2025-08-23T20:29:00.904Z"
   },
   {
    "duration": 9,
    "start_time": "2025-08-23T20:29:01.057Z"
   },
   {
    "duration": 36,
    "start_time": "2025-08-23T20:29:01.067Z"
   },
   {
    "duration": 2493,
    "start_time": "2025-08-23T20:29:01.105Z"
   },
   {
    "duration": 159,
    "start_time": "2025-08-23T20:29:03.600Z"
   },
   {
    "duration": 7,
    "start_time": "2025-08-23T20:29:03.761Z"
   },
   {
    "duration": 53,
    "start_time": "2025-08-23T20:29:03.770Z"
   },
   {
    "duration": 8,
    "start_time": "2025-08-23T20:29:03.824Z"
   },
   {
    "duration": 20,
    "start_time": "2025-08-23T20:29:03.834Z"
   },
   {
    "duration": 769,
    "start_time": "2025-08-23T20:29:03.856Z"
   },
   {
    "duration": 8802,
    "start_time": "2025-08-23T20:29:04.627Z"
   },
   {
    "duration": 1062,
    "start_time": "2025-08-23T20:29:13.430Z"
   },
   {
    "duration": 121,
    "start_time": "2025-08-23T20:29:14.493Z"
   },
   {
    "duration": 1142,
    "start_time": "2025-08-23T20:29:14.616Z"
   },
   {
    "duration": 11,
    "start_time": "2025-08-23T20:29:15.759Z"
   },
   {
    "duration": 49,
    "start_time": "2025-08-23T20:29:15.771Z"
   },
   {
    "duration": 20,
    "start_time": "2025-08-23T20:29:15.822Z"
   },
   {
    "duration": 8676,
    "start_time": "2025-08-23T20:34:37.336Z"
   },
   {
    "duration": 5,
    "start_time": "2025-08-23T20:36:38.772Z"
   },
   {
    "duration": 2340,
    "start_time": "2025-08-23T20:36:38.779Z"
   },
   {
    "duration": 3,
    "start_time": "2025-08-23T20:36:41.122Z"
   },
   {
    "duration": 85,
    "start_time": "2025-08-23T20:36:41.127Z"
   },
   {
    "duration": 29,
    "start_time": "2025-08-23T20:36:41.213Z"
   },
   {
    "duration": 21,
    "start_time": "2025-08-23T20:36:41.244Z"
   },
   {
    "duration": 28,
    "start_time": "2025-08-23T20:36:41.268Z"
   },
   {
    "duration": 74,
    "start_time": "2025-08-23T20:36:41.297Z"
   },
   {
    "duration": 8,
    "start_time": "2025-08-23T20:36:41.372Z"
   },
   {
    "duration": 9,
    "start_time": "2025-08-23T20:36:41.383Z"
   },
   {
    "duration": 8,
    "start_time": "2025-08-23T20:36:41.438Z"
   },
   {
    "duration": 77,
    "start_time": "2025-08-23T20:36:41.448Z"
   },
   {
    "duration": 8,
    "start_time": "2025-08-23T20:36:41.527Z"
   },
   {
    "duration": 25,
    "start_time": "2025-08-23T20:36:41.537Z"
   },
   {
    "duration": 109,
    "start_time": "2025-08-23T20:36:41.564Z"
   },
   {
    "duration": 9,
    "start_time": "2025-08-23T20:36:41.675Z"
   },
   {
    "duration": 7,
    "start_time": "2025-08-23T20:36:41.685Z"
   },
   {
    "duration": 2573,
    "start_time": "2025-08-23T20:36:41.693Z"
   },
   {
    "duration": 164,
    "start_time": "2025-08-23T20:36:44.268Z"
   },
   {
    "duration": 10,
    "start_time": "2025-08-23T20:36:44.434Z"
   },
   {
    "duration": 7,
    "start_time": "2025-08-23T20:36:44.446Z"
   },
   {
    "duration": 14,
    "start_time": "2025-08-23T20:36:44.454Z"
   },
   {
    "duration": 30,
    "start_time": "2025-08-23T20:36:44.469Z"
   },
   {
    "duration": 806,
    "start_time": "2025-08-23T20:36:44.500Z"
   },
   {
    "duration": 9071,
    "start_time": "2025-08-23T20:36:45.308Z"
   },
   {
    "duration": 1084,
    "start_time": "2025-08-23T20:36:54.381Z"
   },
   {
    "duration": 126,
    "start_time": "2025-08-23T20:36:55.467Z"
   },
   {
    "duration": 988,
    "start_time": "2025-08-23T20:36:55.596Z"
   },
   {
    "duration": 10,
    "start_time": "2025-08-23T20:36:56.586Z"
   },
   {
    "duration": 11,
    "start_time": "2025-08-23T20:36:56.598Z"
   },
   {
    "duration": 8,
    "start_time": "2025-08-23T20:36:56.639Z"
   },
   {
    "duration": 9101,
    "start_time": "2025-08-23T20:37:27.606Z"
   },
   {
    "duration": 97,
    "start_time": "2025-08-23T21:16:34.918Z"
   },
   {
    "duration": 5,
    "start_time": "2025-08-23T21:18:48.857Z"
   },
   {
    "duration": 11,
    "start_time": "2025-08-23T21:19:26.734Z"
   },
   {
    "duration": 157,
    "start_time": "2025-08-23T21:19:39.492Z"
   },
   {
    "duration": 18,
    "start_time": "2025-08-23T21:19:50.747Z"
   },
   {
    "duration": 1436,
    "start_time": "2025-08-23T21:21:04.562Z"
   },
   {
    "duration": 2401,
    "start_time": "2025-08-23T21:21:05.999Z"
   },
   {
    "duration": 460,
    "start_time": "2025-08-23T21:21:08.402Z"
   },
   {
    "duration": 87,
    "start_time": "2025-08-23T21:21:08.864Z"
   },
   {
    "duration": 29,
    "start_time": "2025-08-23T21:21:08.952Z"
   },
   {
    "duration": 18,
    "start_time": "2025-08-23T21:21:08.983Z"
   },
   {
    "duration": 44,
    "start_time": "2025-08-23T21:21:09.003Z"
   },
   {
    "duration": 34,
    "start_time": "2025-08-23T21:21:09.049Z"
   },
   {
    "duration": 10,
    "start_time": "2025-08-23T21:21:09.085Z"
   },
   {
    "duration": 7,
    "start_time": "2025-08-23T21:21:09.139Z"
   },
   {
    "duration": 8,
    "start_time": "2025-08-23T21:21:09.148Z"
   },
   {
    "duration": 29,
    "start_time": "2025-08-23T21:21:09.157Z"
   },
   {
    "duration": 8,
    "start_time": "2025-08-23T21:21:09.188Z"
   },
   {
    "duration": 47,
    "start_time": "2025-08-23T21:21:09.198Z"
   },
   {
    "duration": 14,
    "start_time": "2025-08-23T21:21:09.247Z"
   },
   {
    "duration": 138,
    "start_time": "2025-08-23T21:21:09.263Z"
   },
   {
    "duration": 43,
    "start_time": "2025-08-23T21:21:09.403Z"
   },
   {
    "duration": 6,
    "start_time": "2025-08-23T21:21:09.448Z"
   },
   {
    "duration": 2567,
    "start_time": "2025-08-23T21:21:09.455Z"
   },
   {
    "duration": 160,
    "start_time": "2025-08-23T21:21:12.024Z"
   },
   {
    "duration": 8,
    "start_time": "2025-08-23T21:21:12.186Z"
   },
   {
    "duration": 10,
    "start_time": "2025-08-23T21:21:12.195Z"
   },
   {
    "duration": 8,
    "start_time": "2025-08-23T21:21:12.206Z"
   },
   {
    "duration": 44,
    "start_time": "2025-08-23T21:21:12.215Z"
   },
   {
    "duration": 762,
    "start_time": "2025-08-23T21:21:12.261Z"
   },
   {
    "duration": 9350,
    "start_time": "2025-08-23T21:21:13.025Z"
   },
   {
    "duration": 1079,
    "start_time": "2025-08-23T21:21:22.377Z"
   },
   {
    "duration": 144,
    "start_time": "2025-08-23T21:21:23.459Z"
   },
   {
    "duration": 1150,
    "start_time": "2025-08-23T21:21:23.605Z"
   },
   {
    "duration": 12,
    "start_time": "2025-08-23T21:21:24.756Z"
   },
   {
    "duration": 21,
    "start_time": "2025-08-23T21:21:24.770Z"
   },
   {
    "duration": 22,
    "start_time": "2025-08-23T21:21:24.794Z"
   },
   {
    "duration": 81,
    "start_time": "2025-08-23T21:22:25.904Z"
   },
   {
    "duration": 104,
    "start_time": "2025-08-23T21:23:47.620Z"
   },
   {
    "duration": 76,
    "start_time": "2025-08-23T21:23:56.069Z"
   },
   {
    "duration": 153,
    "start_time": "2025-08-23T21:24:26.172Z"
   },
   {
    "duration": 2829,
    "start_time": "2025-08-23T21:25:30.181Z"
   },
   {
    "duration": 2971,
    "start_time": "2025-08-23T21:26:16.938Z"
   },
   {
    "duration": 3039,
    "start_time": "2025-08-23T21:26:52.567Z"
   },
   {
    "duration": 3061,
    "start_time": "2025-08-23T21:27:09.842Z"
   },
   {
    "duration": 79,
    "start_time": "2025-08-23T21:28:03.810Z"
   },
   {
    "duration": 2867,
    "start_time": "2025-08-23T21:28:56.301Z"
   },
   {
    "duration": 8,
    "start_time": "2025-08-23T21:30:08.966Z"
   },
   {
    "duration": 21,
    "start_time": "2025-08-23T21:30:09.605Z"
   },
   {
    "duration": 9,
    "start_time": "2025-08-23T21:30:49.653Z"
   },
   {
    "duration": 22,
    "start_time": "2025-08-23T21:31:02.163Z"
   },
   {
    "duration": 10,
    "start_time": "2025-08-23T21:31:16.016Z"
   },
   {
    "duration": 8,
    "start_time": "2025-08-23T21:31:19.778Z"
   },
   {
    "duration": 21,
    "start_time": "2025-08-23T21:31:20.356Z"
   },
   {
    "duration": 22,
    "start_time": "2025-08-23T21:31:28.326Z"
   },
   {
    "duration": 1453,
    "start_time": "2025-08-23T21:31:58.274Z"
   },
   {
    "duration": 2471,
    "start_time": "2025-08-23T21:31:59.729Z"
   },
   {
    "duration": 431,
    "start_time": "2025-08-23T21:32:02.203Z"
   },
   {
    "duration": 75,
    "start_time": "2025-08-23T21:32:02.636Z"
   },
   {
    "duration": 29,
    "start_time": "2025-08-23T21:32:02.714Z"
   },
   {
    "duration": 29,
    "start_time": "2025-08-23T21:32:02.745Z"
   },
   {
    "duration": 41,
    "start_time": "2025-08-23T21:32:02.776Z"
   },
   {
    "duration": 53,
    "start_time": "2025-08-23T21:32:02.819Z"
   },
   {
    "duration": 10,
    "start_time": "2025-08-23T21:32:02.874Z"
   },
   {
    "duration": 15,
    "start_time": "2025-08-23T21:32:02.886Z"
   },
   {
    "duration": 40,
    "start_time": "2025-08-23T21:32:02.902Z"
   },
   {
    "duration": 56,
    "start_time": "2025-08-23T21:32:02.943Z"
   },
   {
    "duration": 103,
    "start_time": "2025-08-23T21:32:03.001Z"
   },
   {
    "duration": 48,
    "start_time": "2025-08-23T21:32:03.106Z"
   },
   {
    "duration": 123,
    "start_time": "2025-08-23T21:32:03.156Z"
   },
   {
    "duration": 8,
    "start_time": "2025-08-23T21:32:03.281Z"
   },
   {
    "duration": 40,
    "start_time": "2025-08-23T21:32:03.290Z"
   },
   {
    "duration": 2878,
    "start_time": "2025-08-23T21:32:03.332Z"
   },
   {
    "duration": 164,
    "start_time": "2025-08-23T21:32:06.212Z"
   },
   {
    "duration": 7,
    "start_time": "2025-08-23T21:32:06.378Z"
   },
   {
    "duration": 11,
    "start_time": "2025-08-23T21:32:06.387Z"
   },
   {
    "duration": 8,
    "start_time": "2025-08-23T21:32:06.400Z"
   },
   {
    "duration": 164,
    "start_time": "2025-08-23T21:32:06.410Z"
   },
   {
    "duration": 0,
    "start_time": "2025-08-23T21:32:06.575Z"
   },
   {
    "duration": 0,
    "start_time": "2025-08-23T21:32:06.576Z"
   },
   {
    "duration": 0,
    "start_time": "2025-08-23T21:32:06.578Z"
   },
   {
    "duration": 0,
    "start_time": "2025-08-23T21:32:06.579Z"
   },
   {
    "duration": 0,
    "start_time": "2025-08-23T21:32:06.581Z"
   },
   {
    "duration": 0,
    "start_time": "2025-08-23T21:32:06.582Z"
   },
   {
    "duration": 0,
    "start_time": "2025-08-23T21:32:06.583Z"
   },
   {
    "duration": 0,
    "start_time": "2025-08-23T21:32:06.585Z"
   },
   {
    "duration": 0,
    "start_time": "2025-08-23T21:32:06.586Z"
   },
   {
    "duration": 24,
    "start_time": "2025-08-23T21:32:52.362Z"
   },
   {
    "duration": 1517,
    "start_time": "2025-08-23T21:32:57.222Z"
   },
   {
    "duration": 2404,
    "start_time": "2025-08-23T21:32:58.741Z"
   },
   {
    "duration": 451,
    "start_time": "2025-08-23T21:33:01.147Z"
   },
   {
    "duration": 76,
    "start_time": "2025-08-23T21:33:01.600Z"
   },
   {
    "duration": 29,
    "start_time": "2025-08-23T21:33:01.677Z"
   },
   {
    "duration": 21,
    "start_time": "2025-08-23T21:33:01.708Z"
   },
   {
    "duration": 28,
    "start_time": "2025-08-23T21:33:01.731Z"
   },
   {
    "duration": 64,
    "start_time": "2025-08-23T21:33:01.761Z"
   },
   {
    "duration": 8,
    "start_time": "2025-08-23T21:33:01.827Z"
   },
   {
    "duration": 8,
    "start_time": "2025-08-23T21:33:01.837Z"
   },
   {
    "duration": 6,
    "start_time": "2025-08-23T21:33:01.847Z"
   },
   {
    "duration": 59,
    "start_time": "2025-08-23T21:33:01.854Z"
   },
   {
    "duration": 44,
    "start_time": "2025-08-23T21:33:01.915Z"
   },
   {
    "duration": 28,
    "start_time": "2025-08-23T21:33:01.961Z"
   },
   {
    "duration": 148,
    "start_time": "2025-08-23T21:33:01.991Z"
   },
   {
    "duration": 12,
    "start_time": "2025-08-23T21:33:02.142Z"
   },
   {
    "duration": 69,
    "start_time": "2025-08-23T21:33:02.156Z"
   },
   {
    "duration": 2890,
    "start_time": "2025-08-23T21:33:02.226Z"
   },
   {
    "duration": 162,
    "start_time": "2025-08-23T21:33:05.118Z"
   },
   {
    "duration": 7,
    "start_time": "2025-08-23T21:33:05.282Z"
   },
   {
    "duration": 26,
    "start_time": "2025-08-23T21:33:05.291Z"
   },
   {
    "duration": 7,
    "start_time": "2025-08-23T21:33:05.318Z"
   },
   {
    "duration": 35,
    "start_time": "2025-08-23T21:33:05.326Z"
   },
   {
    "duration": 766,
    "start_time": "2025-08-23T21:33:05.363Z"
   },
   {
    "duration": 8999,
    "start_time": "2025-08-23T21:33:06.131Z"
   },
   {
    "duration": 1051,
    "start_time": "2025-08-23T21:33:15.132Z"
   },
   {
    "duration": 124,
    "start_time": "2025-08-23T21:33:16.185Z"
   },
   {
    "duration": 1164,
    "start_time": "2025-08-23T21:33:16.312Z"
   },
   {
    "duration": 10,
    "start_time": "2025-08-23T21:33:17.478Z"
   },
   {
    "duration": 27,
    "start_time": "2025-08-23T21:33:17.490Z"
   },
   {
    "duration": 29,
    "start_time": "2025-08-23T21:33:17.519Z"
   },
   {
    "duration": 112,
    "start_time": "2025-08-23T21:34:10.930Z"
   },
   {
    "duration": 2387,
    "start_time": "2025-08-23T21:34:25.308Z"
   },
   {
    "duration": 82,
    "start_time": "2025-08-23T21:34:27.697Z"
   },
   {
    "duration": 3001,
    "start_time": "2025-08-23T21:34:34.707Z"
   },
   {
    "duration": 67738,
    "start_time": "2025-08-23T21:35:13.433Z"
   },
   {
    "duration": 90,
    "start_time": "2025-08-23T21:36:21.173Z"
   },
   {
    "duration": 3021,
    "start_time": "2025-08-23T21:36:51.701Z"
   },
   {
    "duration": 124,
    "start_time": "2025-08-23T21:37:28.993Z"
   },
   {
    "duration": 174,
    "start_time": "2025-08-23T21:40:19.684Z"
   },
   {
    "duration": 41,
    "start_time": "2025-08-23T21:40:45.786Z"
   },
   {
    "duration": 3360,
    "start_time": "2025-08-23T21:43:15.341Z"
   },
   {
    "duration": 1514,
    "start_time": "2025-08-23T21:43:29.955Z"
   },
   {
    "duration": 2408,
    "start_time": "2025-08-23T21:43:31.471Z"
   },
   {
    "duration": 2383,
    "start_time": "2025-08-23T21:43:33.881Z"
   },
   {
    "duration": 420,
    "start_time": "2025-08-23T21:43:36.266Z"
   },
   {
    "duration": 73,
    "start_time": "2025-08-23T21:43:36.688Z"
   },
   {
    "duration": 27,
    "start_time": "2025-08-23T21:43:36.763Z"
   },
   {
    "duration": 40,
    "start_time": "2025-08-23T21:43:36.792Z"
   },
   {
    "duration": 81,
    "start_time": "2025-08-23T21:43:36.834Z"
   },
   {
    "duration": 85,
    "start_time": "2025-08-23T21:43:36.917Z"
   },
   {
    "duration": 36,
    "start_time": "2025-08-23T21:43:37.005Z"
   },
   {
    "duration": 81,
    "start_time": "2025-08-23T21:43:37.043Z"
   },
   {
    "duration": 26,
    "start_time": "2025-08-23T21:43:37.126Z"
   },
   {
    "duration": 53,
    "start_time": "2025-08-23T21:43:37.154Z"
   },
   {
    "duration": 29,
    "start_time": "2025-08-23T21:43:37.208Z"
   },
   {
    "duration": 22,
    "start_time": "2025-08-23T21:43:37.238Z"
   },
   {
    "duration": 131,
    "start_time": "2025-08-23T21:43:37.261Z"
   },
   {
    "duration": 8,
    "start_time": "2025-08-23T21:43:37.394Z"
   },
   {
    "duration": 39,
    "start_time": "2025-08-23T21:43:37.403Z"
   },
   {
    "duration": 3676,
    "start_time": "2025-08-23T21:43:37.443Z"
   },
   {
    "duration": 160,
    "start_time": "2025-08-23T21:43:41.122Z"
   },
   {
    "duration": 8,
    "start_time": "2025-08-23T21:43:41.283Z"
   },
   {
    "duration": 8,
    "start_time": "2025-08-23T21:43:41.292Z"
   },
   {
    "duration": 6,
    "start_time": "2025-08-23T21:43:41.302Z"
   },
   {
    "duration": 49,
    "start_time": "2025-08-23T21:43:41.310Z"
   },
   {
    "duration": 154,
    "start_time": "2025-08-23T21:43:41.361Z"
   },
   {
    "duration": 0,
    "start_time": "2025-08-23T21:43:41.517Z"
   },
   {
    "duration": 0,
    "start_time": "2025-08-23T21:43:41.518Z"
   },
   {
    "duration": 0,
    "start_time": "2025-08-23T21:43:41.519Z"
   },
   {
    "duration": 0,
    "start_time": "2025-08-23T21:43:41.520Z"
   },
   {
    "duration": 0,
    "start_time": "2025-08-23T21:43:41.522Z"
   },
   {
    "duration": 0,
    "start_time": "2025-08-23T21:43:41.523Z"
   },
   {
    "duration": 0,
    "start_time": "2025-08-23T21:43:41.538Z"
   },
   {
    "duration": 3196,
    "start_time": "2025-08-23T21:44:47.025Z"
   },
   {
    "duration": 3242,
    "start_time": "2025-08-23T21:44:56.677Z"
   },
   {
    "duration": 259,
    "start_time": "2025-08-23T21:47:12.922Z"
   },
   {
    "duration": 324,
    "start_time": "2025-08-23T21:49:18.411Z"
   },
   {
    "duration": 325,
    "start_time": "2025-08-23T21:53:33.890Z"
   },
   {
    "duration": 1802,
    "start_time": "2025-08-25T11:45:03.370Z"
   },
   {
    "duration": 4626,
    "start_time": "2025-08-25T11:45:05.175Z"
   },
   {
    "duration": 3396,
    "start_time": "2025-08-25T11:45:09.804Z"
   },
   {
    "duration": 470,
    "start_time": "2025-08-25T11:45:13.202Z"
   },
   {
    "duration": 86,
    "start_time": "2025-08-25T11:45:13.674Z"
   },
   {
    "duration": 33,
    "start_time": "2025-08-25T11:45:13.762Z"
   },
   {
    "duration": 64,
    "start_time": "2025-08-25T11:45:13.797Z"
   },
   {
    "duration": 84,
    "start_time": "2025-08-25T11:45:13.862Z"
   },
   {
    "duration": 38,
    "start_time": "2025-08-25T11:45:13.947Z"
   },
   {
    "duration": 12,
    "start_time": "2025-08-25T11:45:13.989Z"
   },
   {
    "duration": 9,
    "start_time": "2025-08-25T11:45:14.002Z"
   },
   {
    "duration": 6,
    "start_time": "2025-08-25T11:45:14.012Z"
   },
   {
    "duration": 48,
    "start_time": "2025-08-25T11:45:14.020Z"
   },
   {
    "duration": 7,
    "start_time": "2025-08-25T11:45:14.070Z"
   },
   {
    "duration": 35,
    "start_time": "2025-08-25T11:45:14.079Z"
   },
   {
    "duration": 142,
    "start_time": "2025-08-25T11:45:14.116Z"
   },
   {
    "duration": 10,
    "start_time": "2025-08-25T11:45:14.261Z"
   },
   {
    "duration": 7,
    "start_time": "2025-08-25T11:45:14.273Z"
   },
   {
    "duration": 3308,
    "start_time": "2025-08-25T11:45:14.282Z"
   },
   {
    "duration": 179,
    "start_time": "2025-08-25T11:45:17.592Z"
   },
   {
    "duration": 8,
    "start_time": "2025-08-25T11:45:17.773Z"
   },
   {
    "duration": 129,
    "start_time": "2025-08-25T11:45:17.783Z"
   },
   {
    "duration": 27,
    "start_time": "2025-08-25T11:45:17.914Z"
   },
   {
    "duration": 34,
    "start_time": "2025-08-25T11:45:17.943Z"
   },
   {
    "duration": 3539,
    "start_time": "2025-08-25T11:45:17.979Z"
   },
   {
    "duration": 389,
    "start_time": "2025-08-25T11:45:21.520Z"
   },
   {
    "duration": 168,
    "start_time": "2025-08-25T11:45:21.912Z"
   },
   {
    "duration": 0,
    "start_time": "2025-08-25T11:45:22.082Z"
   },
   {
    "duration": 0,
    "start_time": "2025-08-25T11:45:22.084Z"
   },
   {
    "duration": 0,
    "start_time": "2025-08-25T11:45:22.086Z"
   },
   {
    "duration": 0,
    "start_time": "2025-08-25T11:45:22.087Z"
   },
   {
    "duration": 1,
    "start_time": "2025-08-25T11:45:22.088Z"
   },
   {
    "duration": 6,
    "start_time": "2025-08-25T11:56:36.685Z"
   },
   {
    "duration": 2773,
    "start_time": "2025-08-25T11:56:36.693Z"
   },
   {
    "duration": 2669,
    "start_time": "2025-08-25T11:56:39.469Z"
   },
   {
    "duration": 3,
    "start_time": "2025-08-25T11:56:42.141Z"
   },
   {
    "duration": 87,
    "start_time": "2025-08-25T11:56:42.146Z"
   },
   {
    "duration": 28,
    "start_time": "2025-08-25T11:56:42.235Z"
   },
   {
    "duration": 20,
    "start_time": "2025-08-25T11:56:42.265Z"
   },
   {
    "duration": 48,
    "start_time": "2025-08-25T11:56:42.286Z"
   },
   {
    "duration": 48,
    "start_time": "2025-08-25T11:56:42.336Z"
   },
   {
    "duration": 10,
    "start_time": "2025-08-25T11:56:42.386Z"
   },
   {
    "duration": 35,
    "start_time": "2025-08-25T11:56:42.398Z"
   },
   {
    "duration": 13,
    "start_time": "2025-08-25T11:56:42.436Z"
   },
   {
    "duration": 29,
    "start_time": "2025-08-25T11:56:42.451Z"
   },
   {
    "duration": 8,
    "start_time": "2025-08-25T11:56:42.483Z"
   },
   {
    "duration": 30,
    "start_time": "2025-08-25T11:56:42.493Z"
   },
   {
    "duration": 133,
    "start_time": "2025-08-25T11:56:42.525Z"
   },
   {
    "duration": 9,
    "start_time": "2025-08-25T11:56:42.660Z"
   },
   {
    "duration": 7,
    "start_time": "2025-08-25T11:56:42.671Z"
   },
   {
    "duration": 3145,
    "start_time": "2025-08-25T11:56:42.679Z"
   },
   {
    "duration": 182,
    "start_time": "2025-08-25T11:56:45.825Z"
   },
   {
    "duration": 8,
    "start_time": "2025-08-25T11:56:46.008Z"
   },
   {
    "duration": 10,
    "start_time": "2025-08-25T11:56:46.017Z"
   },
   {
    "duration": 26,
    "start_time": "2025-08-25T11:56:46.028Z"
   },
   {
    "duration": 30,
    "start_time": "2025-08-25T11:56:46.056Z"
   },
   {
    "duration": 3642,
    "start_time": "2025-08-25T11:56:46.087Z"
   },
   {
    "duration": 405,
    "start_time": "2025-08-25T11:56:49.730Z"
   },
   {
    "duration": 25,
    "start_time": "2025-08-25T11:56:50.137Z"
   },
   {
    "duration": 0,
    "start_time": "2025-08-25T11:56:50.165Z"
   },
   {
    "duration": 0,
    "start_time": "2025-08-25T11:56:50.167Z"
   },
   {
    "duration": 0,
    "start_time": "2025-08-25T11:56:50.169Z"
   },
   {
    "duration": 0,
    "start_time": "2025-08-25T11:56:50.170Z"
   },
   {
    "duration": 0,
    "start_time": "2025-08-25T11:56:50.172Z"
   },
   {
    "duration": 18,
    "start_time": "2025-08-25T12:00:27.526Z"
   },
   {
    "duration": 838,
    "start_time": "2025-08-25T12:00:33.618Z"
   },
   {
    "duration": 1640,
    "start_time": "2025-08-25T12:00:54.802Z"
   },
   {
    "duration": 2725,
    "start_time": "2025-08-25T12:00:56.449Z"
   },
   {
    "duration": 2788,
    "start_time": "2025-08-25T12:00:59.176Z"
   },
   {
    "duration": 495,
    "start_time": "2025-08-25T12:01:01.967Z"
   },
   {
    "duration": 81,
    "start_time": "2025-08-25T12:01:02.465Z"
   },
   {
    "duration": 32,
    "start_time": "2025-08-25T12:01:02.548Z"
   },
   {
    "duration": 20,
    "start_time": "2025-08-25T12:01:02.582Z"
   },
   {
    "duration": 90,
    "start_time": "2025-08-25T12:01:02.604Z"
   },
   {
    "duration": 67,
    "start_time": "2025-08-25T12:01:02.696Z"
   },
   {
    "duration": 40,
    "start_time": "2025-08-25T12:01:02.764Z"
   },
   {
    "duration": 37,
    "start_time": "2025-08-25T12:01:02.806Z"
   },
   {
    "duration": 61,
    "start_time": "2025-08-25T12:01:02.844Z"
   },
   {
    "duration": 41,
    "start_time": "2025-08-25T12:01:02.906Z"
   },
   {
    "duration": 24,
    "start_time": "2025-08-25T12:01:02.950Z"
   },
   {
    "duration": 20,
    "start_time": "2025-08-25T12:01:02.976Z"
   },
   {
    "duration": 126,
    "start_time": "2025-08-25T12:01:02.998Z"
   },
   {
    "duration": 31,
    "start_time": "2025-08-25T12:01:03.126Z"
   },
   {
    "duration": 28,
    "start_time": "2025-08-25T12:01:03.158Z"
   },
   {
    "duration": 3268,
    "start_time": "2025-08-25T12:01:03.187Z"
   },
   {
    "duration": 209,
    "start_time": "2025-08-25T12:01:06.457Z"
   },
   {
    "duration": 7,
    "start_time": "2025-08-25T12:01:06.668Z"
   },
   {
    "duration": 26,
    "start_time": "2025-08-25T12:01:06.677Z"
   },
   {
    "duration": 59,
    "start_time": "2025-08-25T12:01:06.705Z"
   },
   {
    "duration": 52,
    "start_time": "2025-08-25T12:01:06.766Z"
   },
   {
    "duration": 3650,
    "start_time": "2025-08-25T12:01:06.820Z"
   },
   {
    "duration": 397,
    "start_time": "2025-08-25T12:01:10.472Z"
   },
   {
    "duration": 824,
    "start_time": "2025-08-25T12:01:10.871Z"
   },
   {
    "duration": 136,
    "start_time": "2025-08-25T12:01:11.697Z"
   },
   {
    "duration": 1107,
    "start_time": "2025-08-25T12:01:11.835Z"
   },
   {
    "duration": 17,
    "start_time": "2025-08-25T12:01:12.944Z"
   },
   {
    "duration": 19,
    "start_time": "2025-08-25T12:01:12.963Z"
   },
   {
    "duration": 25,
    "start_time": "2025-08-25T12:01:12.984Z"
   },
   {
    "duration": 12,
    "start_time": "2025-08-25T12:03:39.699Z"
   },
   {
    "duration": 16354,
    "start_time": "2025-08-25T12:11:24.579Z"
   },
   {
    "duration": 3591,
    "start_time": "2025-08-25T12:12:12.161Z"
   },
   {
    "duration": 82,
    "start_time": "2025-08-25T12:12:57.052Z"
   },
   {
    "duration": 1594,
    "start_time": "2025-08-25T12:19:33.259Z"
   },
   {
    "duration": 2823,
    "start_time": "2025-08-25T12:19:34.856Z"
   },
   {
    "duration": 2772,
    "start_time": "2025-08-25T12:19:37.681Z"
   },
   {
    "duration": 468,
    "start_time": "2025-08-25T12:19:40.456Z"
   },
   {
    "duration": 90,
    "start_time": "2025-08-25T12:19:40.926Z"
   },
   {
    "duration": 31,
    "start_time": "2025-08-25T12:19:41.018Z"
   },
   {
    "duration": 18,
    "start_time": "2025-08-25T12:19:41.051Z"
   },
   {
    "duration": 35,
    "start_time": "2025-08-25T12:19:41.071Z"
   },
   {
    "duration": 83,
    "start_time": "2025-08-25T12:19:41.108Z"
   },
   {
    "duration": 9,
    "start_time": "2025-08-25T12:19:41.193Z"
   },
   {
    "duration": 14,
    "start_time": "2025-08-25T12:19:41.204Z"
   },
   {
    "duration": 7,
    "start_time": "2025-08-25T12:19:41.220Z"
   },
   {
    "duration": 45,
    "start_time": "2025-08-25T12:19:41.229Z"
   },
   {
    "duration": 54,
    "start_time": "2025-08-25T12:19:41.276Z"
   },
   {
    "duration": 55,
    "start_time": "2025-08-25T12:19:41.332Z"
   },
   {
    "duration": 111,
    "start_time": "2025-08-25T12:19:41.388Z"
   },
   {
    "duration": 10,
    "start_time": "2025-08-25T12:19:41.500Z"
   },
   {
    "duration": 39,
    "start_time": "2025-08-25T12:19:41.512Z"
   },
   {
    "duration": 16,
    "start_time": "2025-08-25T12:19:41.553Z"
   },
   {
    "duration": 3683,
    "start_time": "2025-08-25T12:19:41.570Z"
   },
   {
    "duration": 175,
    "start_time": "2025-08-25T12:19:45.255Z"
   },
   {
    "duration": 20,
    "start_time": "2025-08-25T12:19:45.431Z"
   },
   {
    "duration": 11,
    "start_time": "2025-08-25T12:19:45.453Z"
   },
   {
    "duration": 21,
    "start_time": "2025-08-25T12:19:45.466Z"
   },
   {
    "duration": 33,
    "start_time": "2025-08-25T12:19:45.489Z"
   },
   {
    "duration": 77915,
    "start_time": "2025-08-25T12:19:45.523Z"
   },
   {
    "duration": 397,
    "start_time": "2025-08-25T12:21:03.440Z"
   },
   {
    "duration": 859,
    "start_time": "2025-08-25T12:21:03.841Z"
   },
   {
    "duration": 133,
    "start_time": "2025-08-25T12:21:04.701Z"
   },
   {
    "duration": 1267,
    "start_time": "2025-08-25T12:21:04.836Z"
   },
   {
    "duration": 13,
    "start_time": "2025-08-25T12:21:06.105Z"
   },
   {
    "duration": 32,
    "start_time": "2025-08-25T12:21:06.120Z"
   },
   {
    "duration": 6,
    "start_time": "2025-08-25T12:21:06.153Z"
   },
   {
    "duration": 2578,
    "start_time": "2025-08-25T12:21:06.294Z"
   },
   {
    "duration": 82,
    "start_time": "2025-08-25T12:21:35.742Z"
   },
   {
    "duration": 17,
    "start_time": "2025-08-25T12:47:58.444Z"
   },
   {
    "duration": 5744,
    "start_time": "2025-08-25T13:12:38.165Z"
   },
   {
    "duration": 4965,
    "start_time": "2025-08-25T13:16:48.482Z"
   },
   {
    "duration": 4,
    "start_time": "2025-08-25T13:17:15.878Z"
   },
   {
    "duration": 40,
    "start_time": "2025-08-25T13:19:47.238Z"
   },
   {
    "duration": 5,
    "start_time": "2025-08-25T13:20:14.296Z"
   },
   {
    "duration": 18883,
    "start_time": "2025-08-25T13:20:20.034Z"
   },
   {
    "duration": 18275,
    "start_time": "2025-08-25T13:24:40.659Z"
   },
   {
    "duration": 17929,
    "start_time": "2025-08-25T13:25:40.403Z"
   },
   {
    "duration": 11,
    "start_time": "2025-08-25T13:27:25.402Z"
   },
   {
    "duration": 7,
    "start_time": "2025-08-25T13:29:25.370Z"
   },
   {
    "duration": 6,
    "start_time": "2025-08-25T13:29:49.320Z"
   },
   {
    "duration": 11,
    "start_time": "2025-08-25T13:30:07.112Z"
   },
   {
    "duration": 19074,
    "start_time": "2025-08-25T13:30:27.259Z"
   },
   {
    "duration": 30,
    "start_time": "2025-08-25T13:31:00.501Z"
   },
   {
    "duration": 9,
    "start_time": "2025-08-25T13:34:04.427Z"
   },
   {
    "duration": 18,
    "start_time": "2025-08-25T13:34:18.573Z"
   },
   {
    "duration": 9984,
    "start_time": "2025-08-25T13:34:59.443Z"
   },
   {
    "duration": 1572,
    "start_time": "2025-08-25T13:35:14.600Z"
   },
   {
    "duration": 2751,
    "start_time": "2025-08-25T13:35:16.175Z"
   },
   {
    "duration": 2748,
    "start_time": "2025-08-25T13:35:18.928Z"
   },
   {
    "duration": 470,
    "start_time": "2025-08-25T13:35:21.679Z"
   },
   {
    "duration": 87,
    "start_time": "2025-08-25T13:35:22.151Z"
   },
   {
    "duration": 32,
    "start_time": "2025-08-25T13:35:22.240Z"
   },
   {
    "duration": 20,
    "start_time": "2025-08-25T13:35:22.273Z"
   },
   {
    "duration": 63,
    "start_time": "2025-08-25T13:35:22.295Z"
   },
   {
    "duration": 35,
    "start_time": "2025-08-25T13:35:22.360Z"
   },
   {
    "duration": 9,
    "start_time": "2025-08-25T13:35:22.398Z"
   },
   {
    "duration": 8,
    "start_time": "2025-08-25T13:35:22.408Z"
   },
   {
    "duration": 5,
    "start_time": "2025-08-25T13:35:22.450Z"
   },
   {
    "duration": 43,
    "start_time": "2025-08-25T13:35:22.457Z"
   },
   {
    "duration": 8,
    "start_time": "2025-08-25T13:35:22.502Z"
   },
   {
    "duration": 16,
    "start_time": "2025-08-25T13:35:22.511Z"
   },
   {
    "duration": 137,
    "start_time": "2025-08-25T13:35:22.529Z"
   },
   {
    "duration": 11,
    "start_time": "2025-08-25T13:35:22.668Z"
   },
   {
    "duration": 77,
    "start_time": "2025-08-25T13:35:22.681Z"
   },
   {
    "duration": 13,
    "start_time": "2025-08-25T13:35:22.760Z"
   },
   {
    "duration": 3802,
    "start_time": "2025-08-25T13:35:22.774Z"
   },
   {
    "duration": 177,
    "start_time": "2025-08-25T13:35:26.579Z"
   },
   {
    "duration": 7,
    "start_time": "2025-08-25T13:35:26.758Z"
   },
   {
    "duration": 15,
    "start_time": "2025-08-25T13:35:26.767Z"
   },
   {
    "duration": 8,
    "start_time": "2025-08-25T13:35:26.784Z"
   },
   {
    "duration": 27,
    "start_time": "2025-08-25T13:35:26.794Z"
   },
   {
    "duration": 2620,
    "start_time": "2025-08-25T13:35:26.822Z"
   },
   {
    "duration": 7,
    "start_time": "2025-08-25T13:35:29.444Z"
   },
   {
    "duration": 5,
    "start_time": "2025-08-25T13:35:29.455Z"
   },
   {
    "duration": 19,
    "start_time": "2025-08-25T13:35:29.462Z"
   },
   {
    "duration": 9,
    "start_time": "2025-08-25T13:35:29.483Z"
   },
   {
    "duration": 10409,
    "start_time": "2025-08-25T13:35:29.494Z"
   },
   {
    "duration": 0,
    "start_time": "2025-08-25T13:35:39.905Z"
   },
   {
    "duration": 0,
    "start_time": "2025-08-25T13:35:39.906Z"
   },
   {
    "duration": 0,
    "start_time": "2025-08-25T13:35:39.907Z"
   },
   {
    "duration": 0,
    "start_time": "2025-08-25T13:35:39.909Z"
   },
   {
    "duration": 0,
    "start_time": "2025-08-25T13:35:39.911Z"
   },
   {
    "duration": 0,
    "start_time": "2025-08-25T13:35:39.912Z"
   },
   {
    "duration": 0,
    "start_time": "2025-08-25T13:35:39.913Z"
   },
   {
    "duration": 17,
    "start_time": "2025-08-25T13:37:14.316Z"
   },
   {
    "duration": 17,
    "start_time": "2025-08-25T13:39:46.959Z"
   },
   {
    "duration": 23,
    "start_time": "2025-08-25T13:40:07.872Z"
   },
   {
    "duration": 20,
    "start_time": "2025-08-25T13:40:11.613Z"
   },
   {
    "duration": 10,
    "start_time": "2025-08-25T13:40:25.275Z"
   },
   {
    "duration": 10,
    "start_time": "2025-08-25T13:40:31.363Z"
   },
   {
    "duration": 9,
    "start_time": "2025-08-25T13:41:36.234Z"
   },
   {
    "duration": 5,
    "start_time": "2025-08-25T13:41:36.960Z"
   },
   {
    "duration": 11,
    "start_time": "2025-08-25T13:41:37.552Z"
   },
   {
    "duration": 9,
    "start_time": "2025-08-25T13:41:38.092Z"
   },
   {
    "duration": 4059,
    "start_time": "2025-08-25T13:41:38.662Z"
   },
   {
    "duration": 18284,
    "start_time": "2025-08-25T13:42:46.571Z"
   },
   {
    "duration": 1637,
    "start_time": "2025-08-25T13:43:39.033Z"
   },
   {
    "duration": 2753,
    "start_time": "2025-08-25T13:43:40.673Z"
   },
   {
    "duration": 2796,
    "start_time": "2025-08-25T13:43:43.429Z"
   },
   {
    "duration": 511,
    "start_time": "2025-08-25T13:43:46.228Z"
   },
   {
    "duration": 76,
    "start_time": "2025-08-25T13:43:46.741Z"
   },
   {
    "duration": 33,
    "start_time": "2025-08-25T13:43:46.819Z"
   },
   {
    "duration": 19,
    "start_time": "2025-08-25T13:43:46.853Z"
   },
   {
    "duration": 28,
    "start_time": "2025-08-25T13:43:46.874Z"
   },
   {
    "duration": 63,
    "start_time": "2025-08-25T13:43:46.904Z"
   },
   {
    "duration": 9,
    "start_time": "2025-08-25T13:43:46.970Z"
   },
   {
    "duration": 26,
    "start_time": "2025-08-25T13:43:46.981Z"
   },
   {
    "duration": 5,
    "start_time": "2025-08-25T13:43:47.009Z"
   },
   {
    "duration": 39,
    "start_time": "2025-08-25T13:43:47.016Z"
   },
   {
    "duration": 8,
    "start_time": "2025-08-25T13:43:47.057Z"
   },
   {
    "duration": 15,
    "start_time": "2025-08-25T13:43:47.067Z"
   },
   {
    "duration": 131,
    "start_time": "2025-08-25T13:43:47.084Z"
   },
   {
    "duration": 39,
    "start_time": "2025-08-25T13:43:47.216Z"
   },
   {
    "duration": 70,
    "start_time": "2025-08-25T13:43:47.257Z"
   },
   {
    "duration": 19,
    "start_time": "2025-08-25T13:43:47.329Z"
   },
   {
    "duration": 3790,
    "start_time": "2025-08-25T13:43:47.350Z"
   },
   {
    "duration": 180,
    "start_time": "2025-08-25T13:43:51.142Z"
   },
   {
    "duration": 8,
    "start_time": "2025-08-25T13:43:51.323Z"
   },
   {
    "duration": 27,
    "start_time": "2025-08-25T13:43:51.333Z"
   },
   {
    "duration": 8,
    "start_time": "2025-08-25T13:43:51.362Z"
   },
   {
    "duration": 27,
    "start_time": "2025-08-25T13:43:51.372Z"
   },
   {
    "duration": 2593,
    "start_time": "2025-08-25T13:43:51.401Z"
   },
   {
    "duration": 17,
    "start_time": "2025-08-25T13:43:53.996Z"
   },
   {
    "duration": 10764,
    "start_time": "2025-08-25T13:43:54.016Z"
   },
   {
    "duration": 17,
    "start_time": "2025-08-25T13:44:04.781Z"
   },
   {
    "duration": 1315,
    "start_time": "2025-08-25T13:44:04.800Z"
   },
   {
    "duration": 145,
    "start_time": "2025-08-25T13:44:06.117Z"
   },
   {
    "duration": 1148,
    "start_time": "2025-08-25T13:44:06.264Z"
   },
   {
    "duration": 11,
    "start_time": "2025-08-25T13:44:07.414Z"
   },
   {
    "duration": 36,
    "start_time": "2025-08-25T13:44:07.427Z"
   },
   {
    "duration": 25,
    "start_time": "2025-08-25T13:44:07.465Z"
   },
   {
    "duration": 1723,
    "start_time": "2025-08-25T13:54:13.408Z"
   },
   {
    "duration": 2769,
    "start_time": "2025-08-25T13:54:15.133Z"
   },
   {
    "duration": 2758,
    "start_time": "2025-08-25T13:54:17.904Z"
   },
   {
    "duration": 520,
    "start_time": "2025-08-25T13:54:20.664Z"
   },
   {
    "duration": 76,
    "start_time": "2025-08-25T13:54:21.186Z"
   },
   {
    "duration": 39,
    "start_time": "2025-08-25T13:54:21.264Z"
   },
   {
    "duration": 20,
    "start_time": "2025-08-25T13:54:21.304Z"
   },
   {
    "duration": 67,
    "start_time": "2025-08-25T13:54:21.326Z"
   },
   {
    "duration": 36,
    "start_time": "2025-08-25T13:54:21.395Z"
   },
   {
    "duration": 17,
    "start_time": "2025-08-25T13:54:21.434Z"
   },
   {
    "duration": 9,
    "start_time": "2025-08-25T13:54:21.453Z"
   },
   {
    "duration": 8,
    "start_time": "2025-08-25T13:54:21.464Z"
   },
   {
    "duration": 26,
    "start_time": "2025-08-25T13:54:21.473Z"
   },
   {
    "duration": 8,
    "start_time": "2025-08-25T13:54:21.501Z"
   },
   {
    "duration": 42,
    "start_time": "2025-08-25T13:54:21.510Z"
   },
   {
    "duration": 153,
    "start_time": "2025-08-25T13:54:21.554Z"
   },
   {
    "duration": 9,
    "start_time": "2025-08-25T13:54:21.708Z"
   },
   {
    "duration": 84,
    "start_time": "2025-08-25T13:54:21.719Z"
   },
   {
    "duration": 41,
    "start_time": "2025-08-25T13:54:21.805Z"
   },
   {
    "duration": 3794,
    "start_time": "2025-08-25T13:54:21.848Z"
   },
   {
    "duration": 186,
    "start_time": "2025-08-25T13:54:25.649Z"
   },
   {
    "duration": 12,
    "start_time": "2025-08-25T13:54:25.837Z"
   },
   {
    "duration": 8,
    "start_time": "2025-08-25T13:54:25.851Z"
   },
   {
    "duration": 8,
    "start_time": "2025-08-25T13:54:25.861Z"
   },
   {
    "duration": 29,
    "start_time": "2025-08-25T13:54:25.871Z"
   },
   {
    "duration": 2701,
    "start_time": "2025-08-25T13:54:25.901Z"
   },
   {
    "duration": 19,
    "start_time": "2025-08-25T13:54:28.604Z"
   },
   {
    "duration": 10807,
    "start_time": "2025-08-25T13:54:28.626Z"
   },
   {
    "duration": 24,
    "start_time": "2025-08-25T13:54:39.434Z"
   },
   {
    "duration": 1372,
    "start_time": "2025-08-25T13:54:39.460Z"
   },
   {
    "duration": 142,
    "start_time": "2025-08-25T13:54:40.834Z"
   },
   {
    "duration": 1171,
    "start_time": "2025-08-25T13:54:40.978Z"
   },
   {
    "duration": 12,
    "start_time": "2025-08-25T13:54:42.151Z"
   },
   {
    "duration": 10,
    "start_time": "2025-08-25T13:54:42.165Z"
   },
   {
    "duration": 12,
    "start_time": "2025-08-25T13:54:42.177Z"
   },
   {
    "duration": 5396,
    "start_time": "2025-08-25T13:57:55.163Z"
   },
   {
    "duration": 29,
    "start_time": "2025-08-25T14:04:22.642Z"
   },
   {
    "duration": 15,
    "start_time": "2025-08-25T14:12:33.089Z"
   },
   {
    "duration": 13,
    "start_time": "2025-08-25T14:13:24.657Z"
   },
   {
    "duration": 3,
    "start_time": "2025-08-25T14:13:43.740Z"
   },
   {
    "duration": 393,
    "start_time": "2025-08-25T14:14:10.569Z"
   },
   {
    "duration": 30,
    "start_time": "2025-08-25T14:19:35.422Z"
   },
   {
    "duration": 5,
    "start_time": "2025-08-25T14:20:14.907Z"
   },
   {
    "duration": 31,
    "start_time": "2025-08-25T14:20:21.169Z"
   },
   {
    "duration": 516,
    "start_time": "2025-08-25T14:20:42.010Z"
   },
   {
    "duration": 1664,
    "start_time": "2025-08-25T14:21:36.733Z"
   },
   {
    "duration": 2858,
    "start_time": "2025-08-25T14:21:38.399Z"
   },
   {
    "duration": 2767,
    "start_time": "2025-08-25T14:21:41.259Z"
   },
   {
    "duration": 475,
    "start_time": "2025-08-25T14:21:44.030Z"
   },
   {
    "duration": 86,
    "start_time": "2025-08-25T14:21:44.507Z"
   },
   {
    "duration": 36,
    "start_time": "2025-08-25T14:21:44.595Z"
   },
   {
    "duration": 20,
    "start_time": "2025-08-25T14:21:44.633Z"
   },
   {
    "duration": 26,
    "start_time": "2025-08-25T14:21:44.655Z"
   },
   {
    "duration": 84,
    "start_time": "2025-08-25T14:21:44.683Z"
   },
   {
    "duration": 9,
    "start_time": "2025-08-25T14:21:44.770Z"
   },
   {
    "duration": 8,
    "start_time": "2025-08-25T14:21:44.781Z"
   },
   {
    "duration": 5,
    "start_time": "2025-08-25T14:21:44.791Z"
   },
   {
    "duration": 70,
    "start_time": "2025-08-25T14:21:44.798Z"
   },
   {
    "duration": 19,
    "start_time": "2025-08-25T14:21:44.870Z"
   },
   {
    "duration": 34,
    "start_time": "2025-08-25T14:21:44.892Z"
   },
   {
    "duration": 140,
    "start_time": "2025-08-25T14:21:44.928Z"
   },
   {
    "duration": 10,
    "start_time": "2025-08-25T14:21:45.070Z"
   },
   {
    "duration": 52,
    "start_time": "2025-08-25T14:21:45.082Z"
   },
   {
    "duration": 27,
    "start_time": "2025-08-25T14:21:45.135Z"
   },
   {
    "duration": 3893,
    "start_time": "2025-08-25T14:21:45.164Z"
   },
   {
    "duration": 208,
    "start_time": "2025-08-25T14:21:49.059Z"
   },
   {
    "duration": 8,
    "start_time": "2025-08-25T14:21:49.269Z"
   },
   {
    "duration": 79,
    "start_time": "2025-08-25T14:21:49.279Z"
   },
   {
    "duration": 22,
    "start_time": "2025-08-25T14:21:49.360Z"
   },
   {
    "duration": 30,
    "start_time": "2025-08-25T14:21:49.385Z"
   },
   {
    "duration": 2720,
    "start_time": "2025-08-25T14:21:49.417Z"
   },
   {
    "duration": 26,
    "start_time": "2025-08-25T14:21:52.139Z"
   },
   {
    "duration": 7,
    "start_time": "2025-08-25T14:21:52.169Z"
   },
   {
    "duration": 1142,
    "start_time": "2025-08-25T14:21:52.178Z"
   },
   {
    "duration": 0,
    "start_time": "2025-08-25T14:21:53.323Z"
   },
   {
    "duration": 0,
    "start_time": "2025-08-25T14:21:53.325Z"
   },
   {
    "duration": 0,
    "start_time": "2025-08-25T14:21:53.327Z"
   },
   {
    "duration": 0,
    "start_time": "2025-08-25T14:21:53.328Z"
   },
   {
    "duration": 0,
    "start_time": "2025-08-25T14:21:53.330Z"
   },
   {
    "duration": 0,
    "start_time": "2025-08-25T14:21:53.332Z"
   },
   {
    "duration": 0,
    "start_time": "2025-08-25T14:21:53.333Z"
   },
   {
    "duration": 6,
    "start_time": "2025-08-25T14:23:32.888Z"
   },
   {
    "duration": 4,
    "start_time": "2025-08-25T14:23:38.153Z"
   },
   {
    "duration": 1002,
    "start_time": "2025-08-25T14:23:38.750Z"
   },
   {
    "duration": 5,
    "start_time": "2025-08-25T14:24:02.040Z"
   },
   {
    "duration": 4,
    "start_time": "2025-08-25T14:24:05.928Z"
   },
   {
    "duration": 1199,
    "start_time": "2025-08-25T14:24:06.457Z"
   },
   {
    "duration": 5,
    "start_time": "2025-08-25T14:24:17.049Z"
   },
   {
    "duration": 4,
    "start_time": "2025-08-25T14:24:20.690Z"
   },
   {
    "duration": 1381,
    "start_time": "2025-08-25T14:24:21.275Z"
   },
   {
    "duration": 6,
    "start_time": "2025-08-25T14:25:06.061Z"
   },
   {
    "duration": 778,
    "start_time": "2025-08-25T14:25:11.681Z"
   },
   {
    "duration": 6,
    "start_time": "2025-08-25T14:25:39.380Z"
   },
   {
    "duration": 552,
    "start_time": "2025-08-25T14:25:43.218Z"
   },
   {
    "duration": 21,
    "start_time": "2025-08-25T14:26:04.103Z"
   },
   {
    "duration": 19,
    "start_time": "2025-08-25T14:26:04.497Z"
   },
   {
    "duration": 1569,
    "start_time": "2025-08-25T14:26:17.199Z"
   },
   {
    "duration": 2762,
    "start_time": "2025-08-25T14:26:18.770Z"
   },
   {
    "duration": 2727,
    "start_time": "2025-08-25T14:26:21.534Z"
   },
   {
    "duration": 496,
    "start_time": "2025-08-25T14:26:24.263Z"
   },
   {
    "duration": 77,
    "start_time": "2025-08-25T14:26:24.762Z"
   },
   {
    "duration": 33,
    "start_time": "2025-08-25T14:26:24.841Z"
   },
   {
    "duration": 20,
    "start_time": "2025-08-25T14:26:24.875Z"
   },
   {
    "duration": 53,
    "start_time": "2025-08-25T14:26:24.897Z"
   },
   {
    "duration": 43,
    "start_time": "2025-08-25T14:26:24.953Z"
   },
   {
    "duration": 9,
    "start_time": "2025-08-25T14:26:24.998Z"
   },
   {
    "duration": 45,
    "start_time": "2025-08-25T14:26:25.009Z"
   },
   {
    "duration": 16,
    "start_time": "2025-08-25T14:26:25.056Z"
   },
   {
    "duration": 27,
    "start_time": "2025-08-25T14:26:25.074Z"
   },
   {
    "duration": 10,
    "start_time": "2025-08-25T14:26:25.104Z"
   },
   {
    "duration": 46,
    "start_time": "2025-08-25T14:26:25.117Z"
   },
   {
    "duration": 143,
    "start_time": "2025-08-25T14:26:25.165Z"
   },
   {
    "duration": 43,
    "start_time": "2025-08-25T14:26:25.309Z"
   },
   {
    "duration": 7,
    "start_time": "2025-08-25T14:26:25.354Z"
   },
   {
    "duration": 29,
    "start_time": "2025-08-25T14:26:25.364Z"
   },
   {
    "duration": 3768,
    "start_time": "2025-08-25T14:26:25.395Z"
   },
   {
    "duration": 182,
    "start_time": "2025-08-25T14:26:29.164Z"
   },
   {
    "duration": 8,
    "start_time": "2025-08-25T14:26:29.350Z"
   },
   {
    "duration": 33,
    "start_time": "2025-08-25T14:26:29.359Z"
   },
   {
    "duration": 9,
    "start_time": "2025-08-25T14:26:29.394Z"
   },
   {
    "duration": 29,
    "start_time": "2025-08-25T14:26:29.405Z"
   },
   {
    "duration": 2678,
    "start_time": "2025-08-25T14:26:29.436Z"
   },
   {
    "duration": 17,
    "start_time": "2025-08-25T14:26:32.116Z"
   },
   {
    "duration": 63,
    "start_time": "2025-08-25T14:26:32.135Z"
   },
   {
    "duration": 590,
    "start_time": "2025-08-25T14:26:32.200Z"
   },
   {
    "duration": 16,
    "start_time": "2025-08-25T14:26:32.792Z"
   },
   {
    "duration": 187,
    "start_time": "2025-08-25T14:26:32.810Z"
   },
   {
    "duration": 0,
    "start_time": "2025-08-25T14:26:32.999Z"
   },
   {
    "duration": 0,
    "start_time": "2025-08-25T14:26:33.001Z"
   },
   {
    "duration": 0,
    "start_time": "2025-08-25T14:26:33.002Z"
   },
   {
    "duration": 0,
    "start_time": "2025-08-25T14:26:33.004Z"
   },
   {
    "duration": 0,
    "start_time": "2025-08-25T14:26:33.005Z"
   },
   {
    "duration": 1036,
    "start_time": "2025-08-25T14:27:40.484Z"
   },
   {
    "duration": 1659,
    "start_time": "2025-08-25T14:27:48.549Z"
   },
   {
    "duration": 2807,
    "start_time": "2025-08-25T14:27:50.210Z"
   },
   {
    "duration": 2847,
    "start_time": "2025-08-25T14:27:53.019Z"
   },
   {
    "duration": 479,
    "start_time": "2025-08-25T14:27:55.870Z"
   },
   {
    "duration": 85,
    "start_time": "2025-08-25T14:27:56.351Z"
   },
   {
    "duration": 35,
    "start_time": "2025-08-25T14:27:56.439Z"
   },
   {
    "duration": 23,
    "start_time": "2025-08-25T14:27:56.475Z"
   },
   {
    "duration": 70,
    "start_time": "2025-08-25T14:27:56.501Z"
   },
   {
    "duration": 50,
    "start_time": "2025-08-25T14:27:56.573Z"
   },
   {
    "duration": 11,
    "start_time": "2025-08-25T14:27:56.651Z"
   },
   {
    "duration": 12,
    "start_time": "2025-08-25T14:27:56.664Z"
   },
   {
    "duration": 6,
    "start_time": "2025-08-25T14:27:56.679Z"
   },
   {
    "duration": 26,
    "start_time": "2025-08-25T14:27:56.687Z"
   },
   {
    "duration": 8,
    "start_time": "2025-08-25T14:27:56.750Z"
   },
   {
    "duration": 13,
    "start_time": "2025-08-25T14:27:56.760Z"
   },
   {
    "duration": 139,
    "start_time": "2025-08-25T14:27:56.775Z"
   },
   {
    "duration": 38,
    "start_time": "2025-08-25T14:27:56.916Z"
   },
   {
    "duration": 7,
    "start_time": "2025-08-25T14:27:56.956Z"
   },
   {
    "duration": 14,
    "start_time": "2025-08-25T14:27:56.965Z"
   },
   {
    "duration": 3862,
    "start_time": "2025-08-25T14:27:56.981Z"
   },
   {
    "duration": 192,
    "start_time": "2025-08-25T14:28:00.849Z"
   },
   {
    "duration": 12,
    "start_time": "2025-08-25T14:28:01.043Z"
   },
   {
    "duration": 23,
    "start_time": "2025-08-25T14:28:01.057Z"
   },
   {
    "duration": 29,
    "start_time": "2025-08-25T14:28:01.082Z"
   },
   {
    "duration": 83,
    "start_time": "2025-08-25T14:28:01.113Z"
   },
   {
    "duration": 2660,
    "start_time": "2025-08-25T14:28:01.198Z"
   },
   {
    "duration": 27,
    "start_time": "2025-08-25T14:28:03.861Z"
   },
   {
    "duration": 44,
    "start_time": "2025-08-25T14:28:03.893Z"
   },
   {
    "duration": 541,
    "start_time": "2025-08-25T14:28:03.938Z"
   },
   {
    "duration": 17,
    "start_time": "2025-08-25T14:28:04.481Z"
   },
   {
    "duration": 1195,
    "start_time": "2025-08-25T14:28:04.500Z"
   },
   {
    "duration": 141,
    "start_time": "2025-08-25T14:28:05.697Z"
   },
   {
    "duration": 1206,
    "start_time": "2025-08-25T14:28:05.840Z"
   },
   {
    "duration": 12,
    "start_time": "2025-08-25T14:28:07.049Z"
   },
   {
    "duration": 21,
    "start_time": "2025-08-25T14:28:07.063Z"
   },
   {
    "duration": 8,
    "start_time": "2025-08-25T14:28:07.086Z"
   },
   {
    "duration": 60,
    "start_time": "2025-08-25T22:25:07.521Z"
   },
   {
    "duration": 1674,
    "start_time": "2025-08-25T22:25:15.647Z"
   },
   {
    "duration": 4026,
    "start_time": "2025-08-25T22:25:17.323Z"
   },
   {
    "duration": 3095,
    "start_time": "2025-08-25T22:25:21.351Z"
   },
   {
    "duration": 455,
    "start_time": "2025-08-25T22:25:24.448Z"
   },
   {
    "duration": 82,
    "start_time": "2025-08-25T22:25:24.905Z"
   },
   {
    "duration": 26,
    "start_time": "2025-08-25T22:25:24.988Z"
   },
   {
    "duration": 75,
    "start_time": "2025-08-25T22:25:25.016Z"
   },
   {
    "duration": 24,
    "start_time": "2025-08-25T22:25:25.093Z"
   },
   {
    "duration": 32,
    "start_time": "2025-08-25T22:25:25.119Z"
   },
   {
    "duration": 24,
    "start_time": "2025-08-25T22:25:25.153Z"
   },
   {
    "duration": 7,
    "start_time": "2025-08-25T22:25:25.179Z"
   },
   {
    "duration": 24,
    "start_time": "2025-08-25T22:25:25.188Z"
   },
   {
    "duration": 21,
    "start_time": "2025-08-25T22:25:25.214Z"
   },
   {
    "duration": 8,
    "start_time": "2025-08-25T22:25:25.237Z"
   },
   {
    "duration": 29,
    "start_time": "2025-08-25T22:25:25.246Z"
   },
   {
    "duration": 115,
    "start_time": "2025-08-25T22:25:25.276Z"
   },
   {
    "duration": 7,
    "start_time": "2025-08-25T22:25:25.393Z"
   },
   {
    "duration": 6,
    "start_time": "2025-08-25T22:25:25.401Z"
   },
   {
    "duration": 15,
    "start_time": "2025-08-25T22:25:25.408Z"
   },
   {
    "duration": 3332,
    "start_time": "2025-08-25T22:25:25.424Z"
   },
   {
    "duration": 164,
    "start_time": "2025-08-25T22:25:28.757Z"
   },
   {
    "duration": 7,
    "start_time": "2025-08-25T22:25:28.923Z"
   },
   {
    "duration": 7,
    "start_time": "2025-08-25T22:25:28.931Z"
   },
   {
    "duration": 6,
    "start_time": "2025-08-25T22:25:28.940Z"
   },
   {
    "duration": 43,
    "start_time": "2025-08-25T22:25:28.948Z"
   },
   {
    "duration": 2308,
    "start_time": "2025-08-25T22:25:28.992Z"
   },
   {
    "duration": 15,
    "start_time": "2025-08-25T22:25:31.301Z"
   },
   {
    "duration": 22,
    "start_time": "2025-08-25T22:25:31.318Z"
   },
   {
    "duration": 245,
    "start_time": "2025-08-25T22:25:31.342Z"
   },
   {
    "duration": 0,
    "start_time": "2025-08-25T22:25:31.589Z"
   },
   {
    "duration": 0,
    "start_time": "2025-08-25T22:25:31.590Z"
   },
   {
    "duration": 0,
    "start_time": "2025-08-25T22:25:31.592Z"
   },
   {
    "duration": 0,
    "start_time": "2025-08-25T22:25:31.593Z"
   },
   {
    "duration": 0,
    "start_time": "2025-08-25T22:25:31.594Z"
   },
   {
    "duration": 0,
    "start_time": "2025-08-25T22:25:31.595Z"
   },
   {
    "duration": 0,
    "start_time": "2025-08-25T22:25:31.596Z"
   },
   {
    "duration": 557,
    "start_time": "2025-08-25T22:26:15.588Z"
   },
   {
    "duration": 32,
    "start_time": "2025-08-25T22:28:22.535Z"
   },
   {
    "duration": 1996,
    "start_time": "2025-08-26T08:27:14.523Z"
   },
   {
    "duration": 4559,
    "start_time": "2025-08-26T08:27:16.521Z"
   },
   {
    "duration": 3041,
    "start_time": "2025-08-26T08:27:21.083Z"
   },
   {
    "duration": 430,
    "start_time": "2025-08-26T08:27:24.126Z"
   },
   {
    "duration": 87,
    "start_time": "2025-08-26T08:27:24.557Z"
   },
   {
    "duration": 29,
    "start_time": "2025-08-26T08:27:24.646Z"
   },
   {
    "duration": 24,
    "start_time": "2025-08-26T08:27:24.676Z"
   },
   {
    "duration": 69,
    "start_time": "2025-08-26T08:27:24.702Z"
   },
   {
    "duration": 50,
    "start_time": "2025-08-26T08:27:24.772Z"
   },
   {
    "duration": 8,
    "start_time": "2025-08-26T08:27:24.824Z"
   },
   {
    "duration": 16,
    "start_time": "2025-08-26T08:27:24.833Z"
   },
   {
    "duration": 26,
    "start_time": "2025-08-26T08:27:24.851Z"
   },
   {
    "duration": 32,
    "start_time": "2025-08-26T08:27:24.879Z"
   },
   {
    "duration": 24,
    "start_time": "2025-08-26T08:27:24.912Z"
   },
   {
    "duration": 41,
    "start_time": "2025-08-26T08:27:24.937Z"
   },
   {
    "duration": 130,
    "start_time": "2025-08-26T08:27:24.980Z"
   },
   {
    "duration": 34,
    "start_time": "2025-08-26T08:27:25.111Z"
   },
   {
    "duration": 6,
    "start_time": "2025-08-26T08:27:25.147Z"
   },
   {
    "duration": 86,
    "start_time": "2025-08-26T08:27:25.154Z"
   },
   {
    "duration": 3466,
    "start_time": "2025-08-26T08:27:25.242Z"
   },
   {
    "duration": 156,
    "start_time": "2025-08-26T08:27:28.710Z"
   },
   {
    "duration": 7,
    "start_time": "2025-08-26T08:27:28.868Z"
   },
   {
    "duration": 8,
    "start_time": "2025-08-26T08:27:28.876Z"
   },
   {
    "duration": 8,
    "start_time": "2025-08-26T08:27:28.885Z"
   },
   {
    "duration": 46,
    "start_time": "2025-08-26T08:27:28.894Z"
   },
   {
    "duration": 2290,
    "start_time": "2025-08-26T08:27:28.942Z"
   },
   {
    "duration": 15,
    "start_time": "2025-08-26T08:27:31.234Z"
   },
   {
    "duration": 8,
    "start_time": "2025-08-26T08:27:31.252Z"
   },
   {
    "duration": 165,
    "start_time": "2025-08-26T08:27:31.262Z"
   },
   {
    "duration": 0,
    "start_time": "2025-08-26T08:27:31.428Z"
   },
   {
    "duration": 0,
    "start_time": "2025-08-26T08:27:31.430Z"
   },
   {
    "duration": 0,
    "start_time": "2025-08-26T08:27:31.438Z"
   },
   {
    "duration": 0,
    "start_time": "2025-08-26T08:27:31.440Z"
   },
   {
    "duration": 0,
    "start_time": "2025-08-26T08:27:31.442Z"
   },
   {
    "duration": 0,
    "start_time": "2025-08-26T08:27:31.443Z"
   },
   {
    "duration": 0,
    "start_time": "2025-08-26T08:27:31.445Z"
   },
   {
    "duration": 647,
    "start_time": "2025-08-26T08:28:07.801Z"
   },
   {
    "duration": 545,
    "start_time": "2025-08-26T08:48:21.809Z"
   },
   {
    "duration": 15,
    "start_time": "2025-08-26T08:48:37.795Z"
   },
   {
    "duration": 469,
    "start_time": "2025-08-26T08:49:32.590Z"
   },
   {
    "duration": 111,
    "start_time": "2025-08-26T08:50:34.293Z"
   },
   {
    "duration": 1488,
    "start_time": "2025-08-26T08:53:27.898Z"
   },
   {
    "duration": 2498,
    "start_time": "2025-08-26T08:53:29.388Z"
   },
   {
    "duration": 2438,
    "start_time": "2025-08-26T08:53:31.889Z"
   },
   {
    "duration": 429,
    "start_time": "2025-08-26T08:53:34.329Z"
   },
   {
    "duration": 75,
    "start_time": "2025-08-26T08:53:34.760Z"
   },
   {
    "duration": 29,
    "start_time": "2025-08-26T08:53:34.837Z"
   },
   {
    "duration": 17,
    "start_time": "2025-08-26T08:53:34.868Z"
   },
   {
    "duration": 34,
    "start_time": "2025-08-26T08:53:34.886Z"
   },
   {
    "duration": 49,
    "start_time": "2025-08-26T08:53:34.921Z"
   },
   {
    "duration": 9,
    "start_time": "2025-08-26T08:53:34.972Z"
   },
   {
    "duration": 9,
    "start_time": "2025-08-26T08:53:34.983Z"
   },
   {
    "duration": 13,
    "start_time": "2025-08-26T08:53:34.993Z"
   },
   {
    "duration": 41,
    "start_time": "2025-08-26T08:53:35.008Z"
   },
   {
    "duration": 7,
    "start_time": "2025-08-26T08:53:35.051Z"
   },
   {
    "duration": 29,
    "start_time": "2025-08-26T08:53:35.059Z"
   },
   {
    "duration": 94,
    "start_time": "2025-08-26T08:53:35.089Z"
   },
   {
    "duration": 8,
    "start_time": "2025-08-26T08:53:35.184Z"
   },
   {
    "duration": 23,
    "start_time": "2025-08-26T08:53:35.194Z"
   },
   {
    "duration": 27,
    "start_time": "2025-08-26T08:53:35.219Z"
   },
   {
    "duration": 3449,
    "start_time": "2025-08-26T08:53:35.248Z"
   },
   {
    "duration": 168,
    "start_time": "2025-08-26T08:53:38.698Z"
   },
   {
    "duration": 7,
    "start_time": "2025-08-26T08:53:38.868Z"
   },
   {
    "duration": 14,
    "start_time": "2025-08-26T08:53:38.876Z"
   },
   {
    "duration": 6,
    "start_time": "2025-08-26T08:53:38.892Z"
   },
   {
    "duration": 42,
    "start_time": "2025-08-26T08:53:38.899Z"
   },
   {
    "duration": 2333,
    "start_time": "2025-08-26T08:53:38.943Z"
   },
   {
    "duration": 15,
    "start_time": "2025-08-26T08:53:41.278Z"
   },
   {
    "duration": 5,
    "start_time": "2025-08-26T08:53:41.296Z"
   },
   {
    "duration": 479,
    "start_time": "2025-08-26T08:53:41.303Z"
   },
   {
    "duration": 15,
    "start_time": "2025-08-26T08:53:41.784Z"
   },
   {
    "duration": 165,
    "start_time": "2025-08-26T08:53:41.800Z"
   },
   {
    "duration": 0,
    "start_time": "2025-08-26T08:53:41.967Z"
   },
   {
    "duration": 0,
    "start_time": "2025-08-26T08:53:41.968Z"
   },
   {
    "duration": 0,
    "start_time": "2025-08-26T08:53:41.969Z"
   },
   {
    "duration": 0,
    "start_time": "2025-08-26T08:53:41.970Z"
   },
   {
    "duration": 0,
    "start_time": "2025-08-26T08:53:41.971Z"
   },
   {
    "duration": 844,
    "start_time": "2025-08-26T08:57:25.525Z"
   },
   {
    "duration": 1550,
    "start_time": "2025-08-26T08:57:38.781Z"
   },
   {
    "duration": 2432,
    "start_time": "2025-08-26T08:57:40.333Z"
   },
   {
    "duration": 2372,
    "start_time": "2025-08-26T08:57:42.767Z"
   },
   {
    "duration": 433,
    "start_time": "2025-08-26T08:57:45.142Z"
   },
   {
    "duration": 87,
    "start_time": "2025-08-26T08:57:45.577Z"
   },
   {
    "duration": 28,
    "start_time": "2025-08-26T08:57:45.665Z"
   },
   {
    "duration": 18,
    "start_time": "2025-08-26T08:57:45.694Z"
   },
   {
    "duration": 40,
    "start_time": "2025-08-26T08:57:45.714Z"
   },
   {
    "duration": 34,
    "start_time": "2025-08-26T08:57:45.756Z"
   },
   {
    "duration": 8,
    "start_time": "2025-08-26T08:57:45.794Z"
   },
   {
    "duration": 39,
    "start_time": "2025-08-26T08:57:45.804Z"
   },
   {
    "duration": 15,
    "start_time": "2025-08-26T08:57:45.846Z"
   },
   {
    "duration": 26,
    "start_time": "2025-08-26T08:57:45.862Z"
   },
   {
    "duration": 7,
    "start_time": "2025-08-26T08:57:45.889Z"
   },
   {
    "duration": 13,
    "start_time": "2025-08-26T08:57:45.898Z"
   },
   {
    "duration": 131,
    "start_time": "2025-08-26T08:57:45.913Z"
   },
   {
    "duration": 10,
    "start_time": "2025-08-26T08:57:46.045Z"
   },
   {
    "duration": 14,
    "start_time": "2025-08-26T08:57:46.056Z"
   },
   {
    "duration": 16,
    "start_time": "2025-08-26T08:57:46.072Z"
   },
   {
    "duration": 3328,
    "start_time": "2025-08-26T08:57:46.090Z"
   },
   {
    "duration": 158,
    "start_time": "2025-08-26T08:57:49.419Z"
   },
   {
    "duration": 7,
    "start_time": "2025-08-26T08:57:49.579Z"
   },
   {
    "duration": 30,
    "start_time": "2025-08-26T08:57:49.587Z"
   },
   {
    "duration": 14,
    "start_time": "2025-08-26T08:57:49.619Z"
   },
   {
    "duration": 27,
    "start_time": "2025-08-26T08:57:49.635Z"
   },
   {
    "duration": 2284,
    "start_time": "2025-08-26T08:57:49.664Z"
   },
   {
    "duration": 15,
    "start_time": "2025-08-26T08:57:51.950Z"
   },
   {
    "duration": 4,
    "start_time": "2025-08-26T08:57:51.968Z"
   },
   {
    "duration": 485,
    "start_time": "2025-08-26T08:57:51.973Z"
   },
   {
    "duration": 14,
    "start_time": "2025-08-26T08:57:52.459Z"
   },
   {
    "duration": 989,
    "start_time": "2025-08-26T08:57:52.474Z"
   },
   {
    "duration": 127,
    "start_time": "2025-08-26T08:57:53.465Z"
   },
   {
    "duration": 1004,
    "start_time": "2025-08-26T08:57:53.593Z"
   },
   {
    "duration": 11,
    "start_time": "2025-08-26T08:57:54.598Z"
   },
   {
    "duration": 29,
    "start_time": "2025-08-26T08:57:54.610Z"
   },
   {
    "duration": 13,
    "start_time": "2025-08-26T08:57:54.640Z"
   },
   {
    "duration": 5,
    "start_time": "2025-08-26T08:58:56.559Z"
   },
   {
    "duration": 2444,
    "start_time": "2025-08-26T08:58:56.566Z"
   },
   {
    "duration": 2383,
    "start_time": "2025-08-26T08:58:59.012Z"
   },
   {
    "duration": 3,
    "start_time": "2025-08-26T08:59:01.398Z"
   },
   {
    "duration": 121,
    "start_time": "2025-08-26T08:59:01.403Z"
   },
   {
    "duration": 26,
    "start_time": "2025-08-26T08:59:01.526Z"
   },
   {
    "duration": 28,
    "start_time": "2025-08-26T08:59:01.554Z"
   },
   {
    "duration": 60,
    "start_time": "2025-08-26T08:59:01.584Z"
   },
   {
    "duration": 36,
    "start_time": "2025-08-26T08:59:01.645Z"
   },
   {
    "duration": 8,
    "start_time": "2025-08-26T08:59:01.683Z"
   },
   {
    "duration": 12,
    "start_time": "2025-08-26T08:59:01.694Z"
   },
   {
    "duration": 40,
    "start_time": "2025-08-26T08:59:01.708Z"
   },
   {
    "duration": 31,
    "start_time": "2025-08-26T08:59:01.750Z"
   },
   {
    "duration": 41,
    "start_time": "2025-08-26T08:59:01.783Z"
   },
   {
    "duration": 77,
    "start_time": "2025-08-26T08:59:01.826Z"
   },
   {
    "duration": 143,
    "start_time": "2025-08-26T08:59:01.905Z"
   },
   {
    "duration": 9,
    "start_time": "2025-08-26T08:59:02.050Z"
   },
   {
    "duration": 43,
    "start_time": "2025-08-26T08:59:02.060Z"
   },
   {
    "duration": 28,
    "start_time": "2025-08-26T08:59:02.105Z"
   },
   {
    "duration": 3366,
    "start_time": "2025-08-26T08:59:02.134Z"
   },
   {
    "duration": 181,
    "start_time": "2025-08-26T08:59:05.502Z"
   },
   {
    "duration": 8,
    "start_time": "2025-08-26T08:59:05.685Z"
   },
   {
    "duration": 12,
    "start_time": "2025-08-26T08:59:05.694Z"
   },
   {
    "duration": 8,
    "start_time": "2025-08-26T08:59:05.708Z"
   },
   {
    "duration": 46,
    "start_time": "2025-08-26T08:59:05.717Z"
   },
   {
    "duration": 2301,
    "start_time": "2025-08-26T08:59:05.765Z"
   },
   {
    "duration": 15,
    "start_time": "2025-08-26T08:59:08.067Z"
   },
   {
    "duration": 8,
    "start_time": "2025-08-26T08:59:08.084Z"
   },
   {
    "duration": 504,
    "start_time": "2025-08-26T08:59:08.096Z"
   },
   {
    "duration": 14,
    "start_time": "2025-08-26T08:59:08.601Z"
   },
   {
    "duration": 916,
    "start_time": "2025-08-26T08:59:08.617Z"
   },
   {
    "duration": 258,
    "start_time": "2025-08-26T08:59:09.538Z"
   },
   {
    "duration": 1007,
    "start_time": "2025-08-26T08:59:09.798Z"
   },
   {
    "duration": 11,
    "start_time": "2025-08-26T08:59:10.807Z"
   },
   {
    "duration": 58,
    "start_time": "2025-08-26T08:59:10.820Z"
   },
   {
    "duration": 28,
    "start_time": "2025-08-26T08:59:10.880Z"
   },
   {
    "duration": 5,
    "start_time": "2025-08-26T10:25:55.130Z"
   },
   {
    "duration": 2416,
    "start_time": "2025-08-26T10:25:55.137Z"
   },
   {
    "duration": 2897,
    "start_time": "2025-08-26T10:25:57.555Z"
   },
   {
    "duration": 3,
    "start_time": "2025-08-26T10:26:00.455Z"
   },
   {
    "duration": 95,
    "start_time": "2025-08-26T10:26:00.460Z"
   },
   {
    "duration": 27,
    "start_time": "2025-08-26T10:26:00.557Z"
   },
   {
    "duration": 33,
    "start_time": "2025-08-26T10:26:00.586Z"
   },
   {
    "duration": 52,
    "start_time": "2025-08-26T10:26:00.621Z"
   },
   {
    "duration": 34,
    "start_time": "2025-08-26T10:26:00.675Z"
   },
   {
    "duration": 28,
    "start_time": "2025-08-26T10:26:00.711Z"
   },
   {
    "duration": 7,
    "start_time": "2025-08-26T10:26:00.741Z"
   },
   {
    "duration": 27,
    "start_time": "2025-08-26T10:26:00.751Z"
   },
   {
    "duration": 33,
    "start_time": "2025-08-26T10:26:00.780Z"
   },
   {
    "duration": 18,
    "start_time": "2025-08-26T10:26:00.817Z"
   },
   {
    "duration": 36,
    "start_time": "2025-08-26T10:26:00.837Z"
   },
   {
    "duration": 167,
    "start_time": "2025-08-26T10:26:00.875Z"
   },
   {
    "duration": 9,
    "start_time": "2025-08-26T10:26:01.044Z"
   },
   {
    "duration": 18,
    "start_time": "2025-08-26T10:26:01.055Z"
   },
   {
    "duration": 72,
    "start_time": "2025-08-26T10:26:01.074Z"
   },
   {
    "duration": 3402,
    "start_time": "2025-08-26T10:26:01.147Z"
   },
   {
    "duration": 155,
    "start_time": "2025-08-26T10:26:04.551Z"
   },
   {
    "duration": 7,
    "start_time": "2025-08-26T10:26:04.708Z"
   },
   {
    "duration": 23,
    "start_time": "2025-08-26T10:26:04.716Z"
   },
   {
    "duration": 7,
    "start_time": "2025-08-26T10:26:04.741Z"
   },
   {
    "duration": 34,
    "start_time": "2025-08-26T10:26:04.749Z"
   },
   {
    "duration": 2215,
    "start_time": "2025-08-26T10:26:04.785Z"
   },
   {
    "duration": 13,
    "start_time": "2025-08-26T10:26:07.002Z"
   },
   {
    "duration": 36,
    "start_time": "2025-08-26T10:26:07.017Z"
   },
   {
    "duration": 486,
    "start_time": "2025-08-26T10:26:07.055Z"
   },
   {
    "duration": 22,
    "start_time": "2025-08-26T10:26:07.543Z"
   },
   {
    "duration": 888,
    "start_time": "2025-08-26T10:26:07.568Z"
   },
   {
    "duration": 119,
    "start_time": "2025-08-26T10:26:08.458Z"
   },
   {
    "duration": 1120,
    "start_time": "2025-08-26T10:26:08.578Z"
   },
   {
    "duration": 9,
    "start_time": "2025-08-26T10:26:09.700Z"
   },
   {
    "duration": 46,
    "start_time": "2025-08-26T10:26:09.710Z"
   },
   {
    "duration": 64,
    "start_time": "2025-08-26T10:26:09.757Z"
   },
   {
    "duration": 1493,
    "start_time": "2025-08-26T10:34:25.144Z"
   },
   {
    "duration": 2436,
    "start_time": "2025-08-26T10:34:26.639Z"
   },
   {
    "duration": 2431,
    "start_time": "2025-08-26T10:34:29.077Z"
   },
   {
    "duration": 461,
    "start_time": "2025-08-26T10:34:31.510Z"
   },
   {
    "duration": 76,
    "start_time": "2025-08-26T10:34:31.973Z"
   },
   {
    "duration": 31,
    "start_time": "2025-08-26T10:34:32.051Z"
   },
   {
    "duration": 98,
    "start_time": "2025-08-26T10:34:32.084Z"
   },
   {
    "duration": 41,
    "start_time": "2025-08-26T10:34:32.184Z"
   },
   {
    "duration": 42,
    "start_time": "2025-08-26T10:34:32.226Z"
   },
   {
    "duration": 9,
    "start_time": "2025-08-26T10:34:32.271Z"
   },
   {
    "duration": 28,
    "start_time": "2025-08-26T10:34:32.281Z"
   },
   {
    "duration": 18,
    "start_time": "2025-08-26T10:34:32.311Z"
   },
   {
    "duration": 32,
    "start_time": "2025-08-26T10:34:32.331Z"
   },
   {
    "duration": 15,
    "start_time": "2025-08-26T10:34:32.365Z"
   },
   {
    "duration": 14,
    "start_time": "2025-08-26T10:34:32.382Z"
   },
   {
    "duration": 99,
    "start_time": "2025-08-26T10:34:32.398Z"
   },
   {
    "duration": 8,
    "start_time": "2025-08-26T10:34:32.499Z"
   },
   {
    "duration": 34,
    "start_time": "2025-08-26T10:34:32.508Z"
   },
   {
    "duration": 11,
    "start_time": "2025-08-26T10:34:32.543Z"
   },
   {
    "duration": 3459,
    "start_time": "2025-08-26T10:34:32.556Z"
   },
   {
    "duration": 167,
    "start_time": "2025-08-26T10:34:36.017Z"
   },
   {
    "duration": 7,
    "start_time": "2025-08-26T10:34:36.186Z"
   },
   {
    "duration": 22,
    "start_time": "2025-08-26T10:34:36.194Z"
   },
   {
    "duration": 10,
    "start_time": "2025-08-26T10:34:36.218Z"
   },
   {
    "duration": 34,
    "start_time": "2025-08-26T10:34:36.229Z"
   },
   {
    "duration": 2455,
    "start_time": "2025-08-26T10:34:36.265Z"
   },
   {
    "duration": 16,
    "start_time": "2025-08-26T10:34:38.721Z"
   },
   {
    "duration": 13,
    "start_time": "2025-08-26T10:34:38.740Z"
   },
   {
    "duration": 545,
    "start_time": "2025-08-26T10:34:38.755Z"
   },
   {
    "duration": 14,
    "start_time": "2025-08-26T10:34:39.302Z"
   },
   {
    "duration": 1137,
    "start_time": "2025-08-26T10:34:39.318Z"
   },
   {
    "duration": 131,
    "start_time": "2025-08-26T10:34:40.458Z"
   },
   {
    "duration": 1036,
    "start_time": "2025-08-26T10:34:40.591Z"
   },
   {
    "duration": 15,
    "start_time": "2025-08-26T10:34:41.629Z"
   },
   {
    "duration": 33,
    "start_time": "2025-08-26T10:34:41.645Z"
   },
   {
    "duration": 35,
    "start_time": "2025-08-26T10:34:41.680Z"
   },
   {
    "duration": 6,
    "start_time": "2025-08-26T11:11:17.185Z"
   },
   {
    "duration": 2674,
    "start_time": "2025-08-26T11:11:17.192Z"
   },
   {
    "duration": 2783,
    "start_time": "2025-08-26T11:11:19.868Z"
   },
   {
    "duration": 3,
    "start_time": "2025-08-26T11:11:22.654Z"
   },
   {
    "duration": 113,
    "start_time": "2025-08-26T11:11:22.659Z"
   },
   {
    "duration": 27,
    "start_time": "2025-08-26T11:11:22.773Z"
   },
   {
    "duration": 36,
    "start_time": "2025-08-26T11:11:22.801Z"
   },
   {
    "duration": 58,
    "start_time": "2025-08-26T11:11:22.839Z"
   },
   {
    "duration": 33,
    "start_time": "2025-08-26T11:11:22.899Z"
   },
   {
    "duration": 10,
    "start_time": "2025-08-26T11:11:22.934Z"
   },
   {
    "duration": 17,
    "start_time": "2025-08-26T11:11:22.947Z"
   },
   {
    "duration": 25,
    "start_time": "2025-08-26T11:11:22.965Z"
   },
   {
    "duration": 51,
    "start_time": "2025-08-26T11:11:22.992Z"
   },
   {
    "duration": 27,
    "start_time": "2025-08-26T11:11:23.045Z"
   },
   {
    "duration": 39,
    "start_time": "2025-08-26T11:11:23.074Z"
   },
   {
    "duration": 137,
    "start_time": "2025-08-26T11:11:23.115Z"
   },
   {
    "duration": 8,
    "start_time": "2025-08-26T11:11:23.254Z"
   },
   {
    "duration": 35,
    "start_time": "2025-08-26T11:11:23.264Z"
   },
   {
    "duration": 41,
    "start_time": "2025-08-26T11:11:23.300Z"
   },
   {
    "duration": 3457,
    "start_time": "2025-08-26T11:11:23.343Z"
   },
   {
    "duration": 163,
    "start_time": "2025-08-26T11:11:26.802Z"
   },
   {
    "duration": 9,
    "start_time": "2025-08-26T11:11:26.967Z"
   },
   {
    "duration": 8,
    "start_time": "2025-08-26T11:11:26.978Z"
   },
   {
    "duration": 8,
    "start_time": "2025-08-26T11:11:26.988Z"
   },
   {
    "duration": 61,
    "start_time": "2025-08-26T11:11:26.998Z"
   },
   {
    "duration": 2355,
    "start_time": "2025-08-26T11:11:27.061Z"
   },
   {
    "duration": 30,
    "start_time": "2025-08-26T11:11:29.418Z"
   },
   {
    "duration": 23,
    "start_time": "2025-08-26T11:11:29.449Z"
   },
   {
    "duration": 547,
    "start_time": "2025-08-26T11:11:29.476Z"
   },
   {
    "duration": 21,
    "start_time": "2025-08-26T11:11:30.024Z"
   },
   {
    "duration": 1029,
    "start_time": "2025-08-26T11:11:30.047Z"
   },
   {
    "duration": 138,
    "start_time": "2025-08-26T11:11:31.078Z"
   },
   {
    "duration": 1183,
    "start_time": "2025-08-26T11:11:31.218Z"
   },
   {
    "duration": 10,
    "start_time": "2025-08-26T11:11:32.403Z"
   },
   {
    "duration": 94,
    "start_time": "2025-08-26T11:11:32.415Z"
   },
   {
    "duration": 65,
    "start_time": "2025-08-26T11:11:32.511Z"
   },
   {
    "duration": 565,
    "start_time": "2025-08-26T11:15:55.065Z"
   },
   {
    "duration": 1544,
    "start_time": "2025-08-26T11:17:17.830Z"
   },
   {
    "duration": 2446,
    "start_time": "2025-08-26T11:17:19.376Z"
   },
   {
    "duration": 2471,
    "start_time": "2025-08-26T11:17:21.823Z"
   },
   {
    "duration": 457,
    "start_time": "2025-08-26T11:17:24.297Z"
   },
   {
    "duration": 75,
    "start_time": "2025-08-26T11:17:24.756Z"
   },
   {
    "duration": 27,
    "start_time": "2025-08-26T11:17:24.833Z"
   },
   {
    "duration": 18,
    "start_time": "2025-08-26T11:17:24.862Z"
   },
   {
    "duration": 34,
    "start_time": "2025-08-26T11:17:24.881Z"
   },
   {
    "duration": 50,
    "start_time": "2025-08-26T11:17:24.916Z"
   },
   {
    "duration": 8,
    "start_time": "2025-08-26T11:17:24.970Z"
   },
   {
    "duration": 12,
    "start_time": "2025-08-26T11:17:24.980Z"
   },
   {
    "duration": 8,
    "start_time": "2025-08-26T11:17:24.994Z"
   },
   {
    "duration": 52,
    "start_time": "2025-08-26T11:17:25.004Z"
   },
   {
    "duration": 58,
    "start_time": "2025-08-26T11:17:25.057Z"
   },
   {
    "duration": 42,
    "start_time": "2025-08-26T11:17:25.117Z"
   },
   {
    "duration": 115,
    "start_time": "2025-08-26T11:17:25.161Z"
   },
   {
    "duration": 8,
    "start_time": "2025-08-26T11:17:25.277Z"
   },
   {
    "duration": 7,
    "start_time": "2025-08-26T11:17:25.287Z"
   },
   {
    "duration": 136,
    "start_time": "2025-08-26T11:17:25.295Z"
   },
   {
    "duration": 3465,
    "start_time": "2025-08-26T11:17:25.432Z"
   },
   {
    "duration": 164,
    "start_time": "2025-08-26T11:17:28.898Z"
   },
   {
    "duration": 6,
    "start_time": "2025-08-26T11:17:29.064Z"
   },
   {
    "duration": 9,
    "start_time": "2025-08-26T11:17:29.071Z"
   },
   {
    "duration": 17,
    "start_time": "2025-08-26T11:17:29.081Z"
   },
   {
    "duration": 44,
    "start_time": "2025-08-26T11:17:29.100Z"
   },
   {
    "duration": 2306,
    "start_time": "2025-08-26T11:17:29.146Z"
   },
   {
    "duration": 15,
    "start_time": "2025-08-26T11:17:31.454Z"
   },
   {
    "duration": 5,
    "start_time": "2025-08-26T11:17:31.472Z"
   },
   {
    "duration": 575,
    "start_time": "2025-08-26T11:17:31.478Z"
   },
   {
    "duration": 15,
    "start_time": "2025-08-26T11:17:32.055Z"
   },
   {
    "duration": 1102,
    "start_time": "2025-08-26T11:17:32.072Z"
   },
   {
    "duration": 123,
    "start_time": "2025-08-26T11:17:33.176Z"
   },
   {
    "duration": 1005,
    "start_time": "2025-08-26T11:17:33.300Z"
   },
   {
    "duration": 11,
    "start_time": "2025-08-26T11:17:34.307Z"
   },
   {
    "duration": 27,
    "start_time": "2025-08-26T11:17:34.319Z"
   },
   {
    "duration": 65,
    "start_time": "2025-08-26T11:17:34.347Z"
   },
   {
    "duration": 88,
    "start_time": "2025-08-26T11:18:55.205Z"
   },
   {
    "duration": 5150,
    "start_time": "2025-08-26T12:00:38.836Z"
   },
   {
    "duration": 4975,
    "start_time": "2025-08-26T12:00:43.989Z"
   },
   {
    "duration": 3721,
    "start_time": "2025-08-26T12:00:48.967Z"
   },
   {
    "duration": 510,
    "start_time": "2025-08-26T12:00:52.690Z"
   },
   {
    "duration": 95,
    "start_time": "2025-08-26T12:00:53.203Z"
   },
   {
    "duration": 37,
    "start_time": "2025-08-26T12:00:53.300Z"
   },
   {
    "duration": 22,
    "start_time": "2025-08-26T12:00:53.340Z"
   },
   {
    "duration": 33,
    "start_time": "2025-08-26T12:00:53.364Z"
   },
   {
    "duration": 65,
    "start_time": "2025-08-26T12:00:53.398Z"
   },
   {
    "duration": 9,
    "start_time": "2025-08-26T12:00:53.464Z"
   },
   {
    "duration": 10,
    "start_time": "2025-08-26T12:00:53.475Z"
   },
   {
    "duration": 6,
    "start_time": "2025-08-26T12:00:53.488Z"
   },
   {
    "duration": 65,
    "start_time": "2025-08-26T12:00:53.496Z"
   },
   {
    "duration": 8,
    "start_time": "2025-08-26T12:00:53.564Z"
   },
   {
    "duration": 32,
    "start_time": "2025-08-26T12:00:53.574Z"
   },
   {
    "duration": 154,
    "start_time": "2025-08-26T12:00:53.608Z"
   },
   {
    "duration": 12,
    "start_time": "2025-08-26T12:00:53.764Z"
   },
   {
    "duration": 7,
    "start_time": "2025-08-26T12:00:53.779Z"
   },
   {
    "duration": 24,
    "start_time": "2025-08-26T12:00:53.788Z"
   },
   {
    "duration": 3832,
    "start_time": "2025-08-26T12:00:53.814Z"
   },
   {
    "duration": 184,
    "start_time": "2025-08-26T12:00:57.661Z"
   },
   {
    "duration": 20,
    "start_time": "2025-08-26T12:00:57.847Z"
   },
   {
    "duration": 20,
    "start_time": "2025-08-26T12:00:57.869Z"
   },
   {
    "duration": 9,
    "start_time": "2025-08-26T12:00:57.891Z"
   },
   {
    "duration": 32,
    "start_time": "2025-08-26T12:00:57.902Z"
   },
   {
    "duration": 2769,
    "start_time": "2025-08-26T12:00:57.936Z"
   },
   {
    "duration": 18,
    "start_time": "2025-08-26T12:01:00.708Z"
   },
   {
    "duration": 9,
    "start_time": "2025-08-26T12:01:00.729Z"
   },
   {
    "duration": 756,
    "start_time": "2025-08-26T12:01:00.741Z"
   },
   {
    "duration": 6,
    "start_time": "2025-08-26T12:01:16.308Z"
   },
   {
    "duration": 1879,
    "start_time": "2025-08-27T23:00:21.389Z"
   },
   {
    "duration": 5126,
    "start_time": "2025-08-27T23:00:23.270Z"
   },
   {
    "duration": 3463,
    "start_time": "2025-08-27T23:00:28.398Z"
   },
   {
    "duration": 494,
    "start_time": "2025-08-27T23:00:31.863Z"
   },
   {
    "duration": 69,
    "start_time": "2025-08-27T23:00:32.359Z"
   },
   {
    "duration": 51,
    "start_time": "2025-08-27T23:00:32.429Z"
   },
   {
    "duration": 27,
    "start_time": "2025-08-27T23:00:32.482Z"
   },
   {
    "duration": 97,
    "start_time": "2025-08-27T23:00:32.511Z"
   },
   {
    "duration": 106,
    "start_time": "2025-08-27T23:00:32.610Z"
   },
   {
    "duration": 8,
    "start_time": "2025-08-27T23:00:32.718Z"
   },
   {
    "duration": 43,
    "start_time": "2025-08-27T23:00:32.728Z"
   },
   {
    "duration": 9,
    "start_time": "2025-08-27T23:00:32.773Z"
   },
   {
    "duration": 79,
    "start_time": "2025-08-27T23:00:32.784Z"
   },
   {
    "duration": 24,
    "start_time": "2025-08-27T23:00:32.867Z"
   },
   {
    "duration": 82,
    "start_time": "2025-08-27T23:00:32.893Z"
   },
   {
    "duration": 129,
    "start_time": "2025-08-27T23:00:32.976Z"
   },
   {
    "duration": 45,
    "start_time": "2025-08-27T23:00:33.107Z"
   },
   {
    "duration": 7,
    "start_time": "2025-08-27T23:00:33.154Z"
   },
   {
    "duration": 42,
    "start_time": "2025-08-27T23:00:33.162Z"
   },
   {
    "duration": 3852,
    "start_time": "2025-08-27T23:00:33.206Z"
   },
   {
    "duration": 160,
    "start_time": "2025-08-27T23:00:37.060Z"
   },
   {
    "duration": 22,
    "start_time": "2025-08-27T23:00:37.222Z"
   },
   {
    "duration": 23,
    "start_time": "2025-08-27T23:00:37.246Z"
   },
   {
    "duration": 18,
    "start_time": "2025-08-27T23:00:37.270Z"
   },
   {
    "duration": 26,
    "start_time": "2025-08-27T23:00:37.290Z"
   },
   {
    "duration": 2630,
    "start_time": "2025-08-27T23:00:37.318Z"
   },
   {
    "duration": 20,
    "start_time": "2025-08-27T23:00:39.951Z"
   },
   {
    "duration": 13,
    "start_time": "2025-08-27T23:00:39.973Z"
   },
   {
    "duration": 705,
    "start_time": "2025-08-27T23:00:39.988Z"
   },
   {
    "duration": 14,
    "start_time": "2025-08-27T23:00:40.695Z"
   },
   {
    "duration": 1249,
    "start_time": "2025-08-27T23:00:40.710Z"
   },
   {
    "duration": 151,
    "start_time": "2025-08-27T23:00:41.962Z"
   },
   {
    "duration": 1193,
    "start_time": "2025-08-27T23:00:42.115Z"
   },
   {
    "duration": 25,
    "start_time": "2025-08-27T23:00:43.310Z"
   },
   {
    "duration": 22,
    "start_time": "2025-08-27T23:00:43.337Z"
   },
   {
    "duration": 12,
    "start_time": "2025-08-27T23:00:43.360Z"
   },
   {
    "duration": 1668,
    "start_time": "2025-08-28T13:14:54.946Z"
   },
   {
    "duration": 4374,
    "start_time": "2025-08-28T13:14:56.617Z"
   },
   {
    "duration": 2800,
    "start_time": "2025-08-28T13:15:00.994Z"
   },
   {
    "duration": 499,
    "start_time": "2025-08-28T13:15:03.796Z"
   },
   {
    "duration": 94,
    "start_time": "2025-08-28T13:15:04.297Z"
   },
   {
    "duration": 37,
    "start_time": "2025-08-28T13:15:04.393Z"
   },
   {
    "duration": 22,
    "start_time": "2025-08-28T13:15:04.432Z"
   },
   {
    "duration": 27,
    "start_time": "2025-08-28T13:15:04.460Z"
   },
   {
    "duration": 38,
    "start_time": "2025-08-28T13:15:04.489Z"
   },
   {
    "duration": 39,
    "start_time": "2025-08-28T13:15:04.529Z"
   },
   {
    "duration": 10,
    "start_time": "2025-08-28T13:15:04.570Z"
   },
   {
    "duration": 9,
    "start_time": "2025-08-28T13:15:04.582Z"
   },
   {
    "duration": 33,
    "start_time": "2025-08-28T13:15:04.593Z"
   },
   {
    "duration": 10,
    "start_time": "2025-08-28T13:15:04.660Z"
   },
   {
    "duration": 17,
    "start_time": "2025-08-28T13:15:04.672Z"
   },
   {
    "duration": 204,
    "start_time": "2025-08-28T13:15:04.691Z"
   },
   {
    "duration": 11,
    "start_time": "2025-08-28T13:15:04.896Z"
   },
   {
    "duration": 18,
    "start_time": "2025-08-28T13:15:04.909Z"
   },
   {
    "duration": 41,
    "start_time": "2025-08-28T13:15:04.929Z"
   },
   {
    "duration": 3777,
    "start_time": "2025-08-28T13:15:04.972Z"
   },
   {
    "duration": 188,
    "start_time": "2025-08-28T13:15:08.751Z"
   },
   {
    "duration": 21,
    "start_time": "2025-08-28T13:15:08.940Z"
   },
   {
    "duration": 14,
    "start_time": "2025-08-28T13:15:08.964Z"
   },
   {
    "duration": 9,
    "start_time": "2025-08-28T13:15:08.981Z"
   },
   {
    "duration": 40,
    "start_time": "2025-08-28T13:15:08.992Z"
   },
   {
    "duration": 2716,
    "start_time": "2025-08-28T13:15:09.061Z"
   },
   {
    "duration": 20,
    "start_time": "2025-08-28T13:15:11.779Z"
   },
   {
    "duration": 84,
    "start_time": "2025-08-28T13:15:11.801Z"
   },
   {
    "duration": 703,
    "start_time": "2025-08-28T13:15:11.888Z"
   },
   {
    "duration": 19,
    "start_time": "2025-08-28T13:15:12.593Z"
   },
   {
    "duration": 1389,
    "start_time": "2025-08-28T13:15:12.615Z"
   },
   {
    "duration": 146,
    "start_time": "2025-08-28T13:15:14.007Z"
   },
   {
    "duration": 1203,
    "start_time": "2025-08-28T13:15:14.161Z"
   },
   {
    "duration": 10,
    "start_time": "2025-08-28T13:15:15.366Z"
   },
   {
    "duration": 30,
    "start_time": "2025-08-28T13:15:15.378Z"
   },
   {
    "duration": 35,
    "start_time": "2025-08-28T13:15:15.410Z"
   },
   {
    "duration": 1749,
    "start_time": "2025-10-28T22:24:28.173Z"
   },
   {
    "duration": 4705,
    "start_time": "2025-10-28T22:24:29.924Z"
   },
   {
    "duration": 3402,
    "start_time": "2025-10-28T22:24:34.631Z"
   },
   {
    "duration": 470,
    "start_time": "2025-10-28T22:24:38.036Z"
   },
   {
    "duration": 80,
    "start_time": "2025-10-28T22:24:38.508Z"
   },
   {
    "duration": 33,
    "start_time": "2025-10-28T22:24:38.590Z"
   },
   {
    "duration": 66,
    "start_time": "2025-10-28T22:24:38.625Z"
   },
   {
    "duration": 26,
    "start_time": "2025-10-28T22:24:38.693Z"
   },
   {
    "duration": 34,
    "start_time": "2025-10-28T22:24:38.720Z"
   },
   {
    "duration": 9,
    "start_time": "2025-10-28T22:24:38.756Z"
   },
   {
    "duration": 10,
    "start_time": "2025-10-28T22:24:38.767Z"
   },
   {
    "duration": 10,
    "start_time": "2025-10-28T22:24:38.779Z"
   },
   {
    "duration": 21,
    "start_time": "2025-10-28T22:24:38.790Z"
   },
   {
    "duration": 8,
    "start_time": "2025-10-28T22:24:38.840Z"
   },
   {
    "duration": 17,
    "start_time": "2025-10-28T22:24:38.849Z"
   },
   {
    "duration": 117,
    "start_time": "2025-10-28T22:24:38.868Z"
   },
   {
    "duration": 9,
    "start_time": "2025-10-28T22:24:38.986Z"
   },
   {
    "duration": 5,
    "start_time": "2025-10-28T22:24:38.997Z"
   },
   {
    "duration": 47,
    "start_time": "2025-10-28T22:24:39.004Z"
   },
   {
    "duration": 3580,
    "start_time": "2025-10-28T22:24:39.053Z"
   },
   {
    "duration": 170,
    "start_time": "2025-10-28T22:24:42.639Z"
   },
   {
    "duration": 8,
    "start_time": "2025-10-28T22:24:42.810Z"
   },
   {
    "duration": 23,
    "start_time": "2025-10-28T22:24:42.820Z"
   },
   {
    "duration": 8,
    "start_time": "2025-10-28T22:24:42.844Z"
   },
   {
    "duration": 77,
    "start_time": "2025-10-28T22:24:42.853Z"
   },
   {
    "duration": 2530,
    "start_time": "2025-10-28T22:24:42.931Z"
   },
   {
    "duration": 17,
    "start_time": "2025-10-28T22:24:45.463Z"
   },
   {
    "duration": 11,
    "start_time": "2025-10-28T22:24:45.482Z"
   },
   {
    "duration": 775,
    "start_time": "2025-10-28T22:24:45.495Z"
   },
   {
    "duration": 16,
    "start_time": "2025-10-28T22:24:46.272Z"
   },
   {
    "duration": 1084,
    "start_time": "2025-10-28T22:24:46.289Z"
   },
   {
    "duration": 138,
    "start_time": "2025-10-28T22:24:47.375Z"
   },
   {
    "duration": 1074,
    "start_time": "2025-10-28T22:24:47.515Z"
   },
   {
    "duration": 11,
    "start_time": "2025-10-28T22:24:48.591Z"
   },
   {
    "duration": 61,
    "start_time": "2025-10-28T22:24:48.605Z"
   },
   {
    "duration": 15,
    "start_time": "2025-10-28T22:24:48.667Z"
   },
   {
    "duration": 1516,
    "start_time": "2025-10-28T22:35:40.398Z"
   },
   {
    "duration": 2649,
    "start_time": "2025-10-28T22:35:41.916Z"
   },
   {
    "duration": 2682,
    "start_time": "2025-10-28T22:35:44.567Z"
   },
   {
    "duration": 454,
    "start_time": "2025-10-28T22:35:47.252Z"
   },
   {
    "duration": 3,
    "start_time": "2025-10-28T22:35:47.708Z"
   },
   {
    "duration": 98,
    "start_time": "2025-10-28T22:35:47.713Z"
   },
   {
    "duration": 31,
    "start_time": "2025-10-28T22:35:47.813Z"
   },
   {
    "duration": 20,
    "start_time": "2025-10-28T22:35:47.846Z"
   },
   {
    "duration": 30,
    "start_time": "2025-10-28T22:35:47.867Z"
   },
   {
    "duration": 63,
    "start_time": "2025-10-28T22:35:47.900Z"
   },
   {
    "duration": 8,
    "start_time": "2025-10-28T22:35:47.965Z"
   },
   {
    "duration": 26,
    "start_time": "2025-10-28T22:35:47.975Z"
   },
   {
    "duration": 5,
    "start_time": "2025-10-28T22:35:48.003Z"
   },
   {
    "duration": 36,
    "start_time": "2025-10-28T22:35:48.010Z"
   },
   {
    "duration": 8,
    "start_time": "2025-10-28T22:35:48.048Z"
   },
   {
    "duration": 13,
    "start_time": "2025-10-28T22:35:48.057Z"
   },
   {
    "duration": 121,
    "start_time": "2025-10-28T22:35:48.072Z"
   },
   {
    "duration": 10,
    "start_time": "2025-10-28T22:35:48.195Z"
   },
   {
    "duration": 36,
    "start_time": "2025-10-28T22:35:48.206Z"
   },
   {
    "duration": 74,
    "start_time": "2025-10-28T22:35:48.244Z"
   },
   {
    "duration": 3502,
    "start_time": "2025-10-28T22:35:48.320Z"
   },
   {
    "duration": 177,
    "start_time": "2025-10-28T22:35:51.824Z"
   },
   {
    "duration": 8,
    "start_time": "2025-10-28T22:35:52.002Z"
   },
   {
    "duration": 42,
    "start_time": "2025-10-28T22:35:52.011Z"
   },
   {
    "duration": 7,
    "start_time": "2025-10-28T22:35:52.055Z"
   },
   {
    "duration": 26,
    "start_time": "2025-10-28T22:35:52.064Z"
   },
   {
    "duration": 2494,
    "start_time": "2025-10-28T22:35:52.091Z"
   },
   {
    "duration": 16,
    "start_time": "2025-10-28T22:35:54.590Z"
   },
   {
    "duration": 80,
    "start_time": "2025-10-28T22:35:54.607Z"
   },
   {
    "duration": 23,
    "start_time": "2025-10-28T22:35:54.689Z"
   },
   {
    "duration": 11,
    "start_time": "2025-10-28T22:35:54.715Z"
   },
   {
    "duration": 7,
    "start_time": "2025-10-28T22:35:54.729Z"
   },
   {
    "duration": 609,
    "start_time": "2025-10-28T22:35:54.738Z"
   },
   {
    "duration": 16,
    "start_time": "2025-10-28T22:35:55.349Z"
   },
   {
    "duration": 219,
    "start_time": "2025-10-28T22:35:55.367Z"
   },
   {
    "duration": 0,
    "start_time": "2025-10-28T22:35:55.588Z"
   },
   {
    "duration": 0,
    "start_time": "2025-10-28T22:35:55.590Z"
   },
   {
    "duration": 0,
    "start_time": "2025-10-28T22:35:55.591Z"
   },
   {
    "duration": 0,
    "start_time": "2025-10-28T22:35:55.592Z"
   },
   {
    "duration": 0,
    "start_time": "2025-10-28T22:35:55.593Z"
   },
   {
    "duration": 570,
    "start_time": "2025-10-28T22:36:41.277Z"
   },
   {
    "duration": 4,
    "start_time": "2025-10-28T22:38:06.650Z"
   },
   {
    "duration": 584,
    "start_time": "2025-10-28T22:38:07.525Z"
   },
   {
    "duration": 614,
    "start_time": "2025-10-28T22:38:15.353Z"
   },
   {
    "duration": 567,
    "start_time": "2025-10-28T22:38:57.286Z"
   },
   {
    "duration": 581,
    "start_time": "2025-10-28T22:39:07.925Z"
   },
   {
    "duration": 8,
    "start_time": "2025-10-28T22:39:19.984Z"
   },
   {
    "duration": 9,
    "start_time": "2025-10-28T22:39:27.466Z"
   },
   {
    "duration": 1209,
    "start_time": "2025-10-28T22:40:47.359Z"
   },
   {
    "duration": 121,
    "start_time": "2025-10-28T22:41:39.082Z"
   },
   {
    "duration": 1049,
    "start_time": "2025-10-28T22:41:51.226Z"
   },
   {
    "duration": 11,
    "start_time": "2025-10-28T22:42:03.489Z"
   },
   {
    "duration": 9,
    "start_time": "2025-10-28T22:42:16.290Z"
   },
   {
    "duration": 7,
    "start_time": "2025-10-28T22:42:22.771Z"
   },
   {
    "duration": 1588,
    "start_time": "2025-10-28T22:42:56.344Z"
   },
   {
    "duration": 2692,
    "start_time": "2025-10-28T22:42:57.934Z"
   },
   {
    "duration": 2699,
    "start_time": "2025-10-28T22:43:00.628Z"
   },
   {
    "duration": 459,
    "start_time": "2025-10-28T22:43:03.329Z"
   },
   {
    "duration": 3,
    "start_time": "2025-10-28T22:43:03.790Z"
   },
   {
    "duration": 84,
    "start_time": "2025-10-28T22:43:03.795Z"
   },
   {
    "duration": 31,
    "start_time": "2025-10-28T22:43:03.881Z"
   },
   {
    "duration": 18,
    "start_time": "2025-10-28T22:43:03.914Z"
   },
   {
    "duration": 24,
    "start_time": "2025-10-28T22:43:03.933Z"
   },
   {
    "duration": 35,
    "start_time": "2025-10-28T22:43:03.958Z"
   },
   {
    "duration": 9,
    "start_time": "2025-10-28T22:43:03.994Z"
   },
   {
    "duration": 110,
    "start_time": "2025-10-28T22:43:04.005Z"
   },
   {
    "duration": 5,
    "start_time": "2025-10-28T22:43:04.117Z"
   },
   {
    "duration": 23,
    "start_time": "2025-10-28T22:43:04.125Z"
   },
   {
    "duration": 8,
    "start_time": "2025-10-28T22:43:04.149Z"
   },
   {
    "duration": 12,
    "start_time": "2025-10-28T22:43:04.158Z"
   },
   {
    "duration": 123,
    "start_time": "2025-10-28T22:43:04.171Z"
   },
   {
    "duration": 9,
    "start_time": "2025-10-28T22:43:04.295Z"
   },
   {
    "duration": 40,
    "start_time": "2025-10-28T22:43:04.306Z"
   },
   {
    "duration": 20,
    "start_time": "2025-10-28T22:43:04.348Z"
   },
   {
    "duration": 3656,
    "start_time": "2025-10-28T22:43:04.370Z"
   },
   {
    "duration": 163,
    "start_time": "2025-10-28T22:43:08.039Z"
   },
   {
    "duration": 7,
    "start_time": "2025-10-28T22:43:08.204Z"
   },
   {
    "duration": 7,
    "start_time": "2025-10-28T22:43:08.213Z"
   },
   {
    "duration": 24,
    "start_time": "2025-10-28T22:43:08.222Z"
   },
   {
    "duration": 26,
    "start_time": "2025-10-28T22:43:08.247Z"
   },
   {
    "duration": 2591,
    "start_time": "2025-10-28T22:43:08.274Z"
   },
   {
    "duration": 15,
    "start_time": "2025-10-28T22:43:10.867Z"
   },
   {
    "duration": 7,
    "start_time": "2025-10-28T22:43:10.884Z"
   },
   {
    "duration": 11,
    "start_time": "2025-10-28T22:43:10.892Z"
   },
   {
    "duration": 23,
    "start_time": "2025-10-28T22:43:10.905Z"
   },
   {
    "duration": 5,
    "start_time": "2025-10-28T22:43:10.930Z"
   },
   {
    "duration": 616,
    "start_time": "2025-10-28T22:43:10.937Z"
   },
   {
    "duration": 7,
    "start_time": "2025-10-28T22:43:11.555Z"
   },
   {
    "duration": 12,
    "start_time": "2025-10-28T22:43:11.563Z"
   },
   {
    "duration": 17,
    "start_time": "2025-10-28T22:43:11.576Z"
   },
   {
    "duration": 1358,
    "start_time": "2025-10-28T22:43:11.595Z"
   },
   {
    "duration": 135,
    "start_time": "2025-10-28T22:43:12.955Z"
   },
   {
    "duration": 1083,
    "start_time": "2025-10-28T22:43:13.091Z"
   },
   {
    "duration": 11,
    "start_time": "2025-10-28T22:43:14.176Z"
   },
   {
    "duration": 17,
    "start_time": "2025-10-28T22:43:14.191Z"
   },
   {
    "duration": 7,
    "start_time": "2025-10-28T22:43:14.210Z"
   },
   {
    "duration": 104,
    "start_time": "2025-10-28T22:59:20.083Z"
   },
   {
    "duration": 1620,
    "start_time": "2025-10-28T22:59:26.111Z"
   },
   {
    "duration": 2627,
    "start_time": "2025-10-28T22:59:27.733Z"
   },
   {
    "duration": 2655,
    "start_time": "2025-10-28T22:59:30.362Z"
   },
   {
    "duration": 461,
    "start_time": "2025-10-28T22:59:33.020Z"
   },
   {
    "duration": 3,
    "start_time": "2025-10-28T22:59:33.483Z"
   },
   {
    "duration": 94,
    "start_time": "2025-10-28T22:59:33.488Z"
   },
   {
    "duration": 29,
    "start_time": "2025-10-28T22:59:33.584Z"
   },
   {
    "duration": 18,
    "start_time": "2025-10-28T22:59:33.614Z"
   },
   {
    "duration": 25,
    "start_time": "2025-10-28T22:59:33.634Z"
   },
   {
    "duration": 37,
    "start_time": "2025-10-28T22:59:33.661Z"
   },
   {
    "duration": 9,
    "start_time": "2025-10-28T22:59:33.699Z"
   },
   {
    "duration": 35,
    "start_time": "2025-10-28T22:59:33.709Z"
   },
   {
    "duration": 5,
    "start_time": "2025-10-28T22:59:33.746Z"
   },
   {
    "duration": 21,
    "start_time": "2025-10-28T22:59:33.754Z"
   },
   {
    "duration": 65,
    "start_time": "2025-10-28T22:59:33.777Z"
   },
   {
    "duration": 16,
    "start_time": "2025-10-28T22:59:33.844Z"
   },
   {
    "duration": 116,
    "start_time": "2025-10-28T22:59:33.862Z"
   },
   {
    "duration": 9,
    "start_time": "2025-10-28T22:59:33.980Z"
   },
   {
    "duration": 11,
    "start_time": "2025-10-28T22:59:33.991Z"
   },
   {
    "duration": 39,
    "start_time": "2025-10-28T22:59:34.003Z"
   },
   {
    "duration": 3687,
    "start_time": "2025-10-28T22:59:34.044Z"
   },
   {
    "duration": 172,
    "start_time": "2025-10-28T22:59:37.733Z"
   },
   {
    "duration": 7,
    "start_time": "2025-10-28T22:59:37.907Z"
   },
   {
    "duration": 8,
    "start_time": "2025-10-28T22:59:37.916Z"
   },
   {
    "duration": 9,
    "start_time": "2025-10-28T22:59:37.940Z"
   },
   {
    "duration": 27,
    "start_time": "2025-10-28T22:59:37.950Z"
   },
   {
    "duration": 2514,
    "start_time": "2025-10-28T22:59:37.979Z"
   },
   {
    "duration": 16,
    "start_time": "2025-10-28T22:59:40.495Z"
   },
   {
    "duration": 10,
    "start_time": "2025-10-28T22:59:40.513Z"
   },
   {
    "duration": 7,
    "start_time": "2025-10-28T22:59:40.524Z"
   },
   {
    "duration": 17,
    "start_time": "2025-10-28T22:59:40.533Z"
   },
   {
    "duration": 81,
    "start_time": "2025-10-28T22:59:40.552Z"
   },
   {
    "duration": 0,
    "start_time": "2025-10-28T22:59:40.635Z"
   },
   {
    "duration": 0,
    "start_time": "2025-10-28T22:59:40.636Z"
   },
   {
    "duration": 0,
    "start_time": "2025-10-28T22:59:40.638Z"
   },
   {
    "duration": 0,
    "start_time": "2025-10-28T22:59:40.639Z"
   },
   {
    "duration": 0,
    "start_time": "2025-10-28T22:59:40.641Z"
   },
   {
    "duration": 0,
    "start_time": "2025-10-28T22:59:40.642Z"
   },
   {
    "duration": 0,
    "start_time": "2025-10-28T22:59:40.643Z"
   },
   {
    "duration": 0,
    "start_time": "2025-10-28T22:59:40.644Z"
   },
   {
    "duration": 0,
    "start_time": "2025-10-28T22:59:40.646Z"
   },
   {
    "duration": 0,
    "start_time": "2025-10-28T22:59:40.647Z"
   },
   {
    "duration": 101,
    "start_time": "2025-10-28T23:00:05.182Z"
   },
   {
    "duration": 6,
    "start_time": "2025-10-28T23:00:30.731Z"
   },
   {
    "duration": 1547,
    "start_time": "2025-10-28T23:00:34.626Z"
   }
  ],
  "colab": {
   "provenance": []
  },
  "kernelspec": {
   "display_name": "Python 3 (ipykernel)",
   "language": "python",
   "name": "python3"
  },
  "language_info": {
   "codemirror_mode": {
    "name": "ipython",
    "version": 3
   },
   "file_extension": ".py",
   "mimetype": "text/x-python",
   "name": "python",
   "nbconvert_exporter": "python",
   "pygments_lexer": "ipython3",
   "version": "3.9.5"
  },
  "toc": {
   "base_numbering": 1,
   "nav_menu": {},
   "number_sections": false,
   "sideBar": true,
   "skip_h1_title": true,
   "title_cell": "Table of Contents",
   "title_sidebar": "Contents",
   "toc_cell": false,
   "toc_position": {
    "height": "calc(100% - 180px)",
    "left": "10px",
    "top": "150px",
    "width": "288px"
   },
   "toc_section_display": true,
   "toc_window_display": false
  }
 },
 "nbformat": 4,
 "nbformat_minor": 1
}
